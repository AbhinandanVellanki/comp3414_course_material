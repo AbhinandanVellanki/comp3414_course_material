{
  "nbformat": 4,
  "nbformat_minor": 0,
  "metadata": {
    "colab": {
      "name": "linux_basic.ipynb",
      "provenance": [],
      "collapsed_sections": [],
      "authorship_tag": "ABX9TyPCmhSLZIOmvvHPr3KYPMY2",
      "include_colab_link": true
    },
    "kernelspec": {
      "name": "python3",
      "display_name": "Python 3"
    }
  },
  "cells": [
    {
      "cell_type": "markdown",
      "metadata": {
        "id": "view-in-github",
        "colab_type": "text"
      },
      "source": [
        "<a href=\"https://colab.research.google.com/github/wesley34/comp3414_course_material/blob/master/linux_basic.ipynb\" target=\"_parent\"><img src=\"https://colab.research.google.com/assets/colab-badge.svg\" alt=\"Open In Colab\"/></a>"
      ]
    },
    {
      "cell_type": "markdown",
      "metadata": {
        "id": "p4CmFXlPgrEp",
        "colab_type": "text"
      },
      "source": [
        "[![Open In Colab](https://colab.research.google.com/assets/colab-badge.svg)](https://colab.research.google.com/drive/1gYcGd_3lx8kcV2pzZuz0yRK-_QxxwtDm#scrollTo=m4KgjYYWggj_)"
      ]
    },
    {
      "cell_type": "markdown",
      "metadata": {
        "id": "h3lfqaVAvNUc",
        "colab_type": "text"
      },
      "source": [
        "# **Linux Fundamentals**\n",
        "\n",
        "In this competition, we need to work in the linux environment. This chapter aims in teaching you some basic commands in the terminal\n",
        "\n",
        "# **Prerequisite**\n",
        "\n",
        "*   Installation of Ubuntu 18.04.0 http://releases.ubuntu.com/18.04/\n",
        "\n",
        "You may either using a virtual machine or dual boot. If you choose to use a virtaul machine, you have to handle some networking problem later. So, we recommend using dual boot to run the linux environment in your computer.\n",
        "\n",
        "Following links may help you:\n",
        "\n",
        "Dual Boot Windows and Ubutnu: https://www.youtube.com/watch?v=u5QyjHIYwTQ\n",
        "\n",
        "Virtual Machine: https://www.vmware.com/products/workstation-player/workstation-player-evaluation.html\n",
        "\n",
        "**Let's Begin!**\n",
        "\n",
        "\n"
      ]
    },
    {
      "cell_type": "code",
      "metadata": {
        "id": "af1g4YiPvJSc",
        "colab_type": "code",
        "colab": {}
      },
      "source": [
        ""
      ],
      "execution_count": null,
      "outputs": []
    }
  ]
}