{
  "nbformat": 4,
  "nbformat_minor": 0,
  "metadata": {
    "colab": {
      "name": "numpy_basic.ipynb",
      "provenance": [],
      "authorship_tag": "ABX9TyNzROnY0oS3qGF7D+BxkROT",
      "include_colab_link": true
    },
    "kernelspec": {
      "name": "python3",
      "display_name": "Python 3"
    }
  },
  "cells": [
    {
      "cell_type": "markdown",
      "metadata": {
        "id": "view-in-github",
        "colab_type": "text"
      },
      "source": [
        "<a href=\"https://colab.research.google.com/github/wesley34/comp3414_course_material/blob/master/numpy_basic.ipynb\" target=\"_parent\"><img src=\"https://colab.research.google.com/assets/colab-badge.svg\" alt=\"Open In Colab\"/></a>"
      ]
    },
    {
      "cell_type": "markdown",
      "metadata": {
        "id": "Tur-zo-qjfMh",
        "colab_type": "text"
      },
      "source": [
        "[![Open In Colab](https://colab.research.google.com/assets/colab-badge.svg)](https://colab.research.google.com/drive/1VZbJc2zjK6XQTovVjGzCHLS-m9sRdiCG#scrollTo=Tur-zo-qjfMh_)"
      ]
    },
    {
      "cell_type": "markdown",
      "metadata": {
        "id": "ogTEdnFiwqIv",
        "colab_type": "text"
      },
      "source": [
        "# **NumPy - Why do we need it?**\n",
        "\n",
        "NumPy stands for numerical python. The NumPy library provides us a multidimensional array and matrix data structures. It provides ndarray, a homogeneous n-dimensional array object, with methods to efficiently operate on it. \n",
        "\n",
        "NumPy is a very important library that we usually used in the field of Data Science and Machine Learning.\n",
        "\n",
        "Following code demonstrates the advantage of using ndarray. We dont't have to do operation on a list in a elementwise manner:"
      ]
    },
    {
      "cell_type": "code",
      "metadata": {
        "id": "dT6cVF1mkkZB",
        "colab_type": "code",
        "colab": {
          "base_uri": "https://localhost:8080/",
          "height": 34
        },
        "outputId": "385f7e88-c014-4364-bbb5-9583d3027eaa"
      },
      "source": [
        "import numpy as np\n",
        "\n",
        "arr1 = np.array([1, 3, 5, 7, 9])\n",
        "arr2 = np.array([2, 4, 6, 8, 10])\n",
        "\n",
        "print(arr1*arr2)"
      ],
      "execution_count": null,
      "outputs": [
        {
          "output_type": "stream",
          "text": [
            "[ 2 12 30 56 90]\n"
          ],
          "name": "stdout"
        }
      ]
    },
    {
      "cell_type": "markdown",
      "metadata": {
        "id": "Si_cz1CZPZnt",
        "colab_type": "text"
      },
      "source": [
        "# **Prerequistite**\n",
        "We use pip to install the numpy package:\n",
        "```\n",
        " pip install numpy\n",
        "```\n"
      ]
    },
    {
      "cell_type": "markdown",
      "metadata": {
        "id": "DL6CPwL4hV8x",
        "colab_type": "text"
      },
      "source": [
        "# **Arrays in NumPy**\n",
        "Arrays in Numpy is know as ndarray. The number of dimension of ndarray is known as the rank of the array. The size of the array of each dimension is known as the shape of the array. Details of ndarray will be explained in the following sections:\n",
        "\n"
      ]
    },
    {
      "cell_type": "markdown",
      "metadata": {
        "id": "dDY-x06xiJCd",
        "colab_type": "text"
      },
      "source": [
        "**1. Creating NumPy array**\n",
        "\n",
        "We can create ndarray several ways. E.g. python list, python tuple, **np.zeros()**, **np.full().**"
      ]
    },
    {
      "cell_type": "code",
      "metadata": {
        "id": "oCuYvN9jC03m",
        "colab_type": "code",
        "colab": {
          "base_uri": "https://localhost:8080/",
          "height": 289
        },
        "outputId": "447996ac-aa51-48bd-e2a1-1fffe0ffafc0"
      },
      "source": [
        "import numpy as np\n",
        "\n",
        "# Creating ndarray using a python list\n",
        "list1 = [1, 2, 3, 4, 5]\n",
        "example1_array = np.array(list1)\n",
        "print(example1_array)\n",
        "# Creating ndarray using two python lists\n",
        "list2 = [6, 7, 8, 9, 10]\n",
        "list3 = [11, 12, 13, 14, 15]\n",
        "example2_array = np.array([list2, list3])\n",
        "print(\"\\n\", example2_array)\n",
        "\n",
        "\n",
        "# Creating ndarray using a python tple\n",
        "tuple = (1, 2, 3, 4, 5)\n",
        "example3_array = np.array(tuple)\n",
        "print(\"\\n\", example3_array)\n",
        "\n",
        "# Creating ndarray wwith np.zeros(), it will set the value of each element in the array with all zeros.\n",
        "# Here we define the size of each dimension of the array as 2\n",
        "array = np.zeros((2, 2))\n",
        "print(\"\\n\", array)\n",
        "\n",
        "# Creating ndarray wwith np.full(), it will set the value of each element in the array with a constant value.\n",
        "# Here we define the type of each elements as complex type.\n",
        "array = np.full((2, 2), 1, dtype='complex')\n",
        "print(\"\\n\", array)\n",
        "\n",
        "#Creating ndarray with random number\n",
        "array = np.random.rand(3, 4)\n",
        "print(\"\\n\", array)"
      ],
      "execution_count": 25,
      "outputs": [
        {
          "output_type": "stream",
          "text": [
            "[1 2 3 4 5]\n",
            "\n",
            " [[ 6  7  8  9 10]\n",
            " [11 12 13 14 15]]\n",
            "\n",
            " [1 2 3 4 5]\n",
            "\n",
            " [[0. 0.]\n",
            " [0. 0.]]\n",
            "\n",
            " [[1.+0.j 1.+0.j]\n",
            " [1.+0.j 1.+0.j]]\n",
            "\n",
            " [[0.34300307 0.72588013 0.04074876 0.43051503]\n",
            " [0.92828587 0.90390207 0.37290227 0.399111  ]\n",
            " [0.40656096 0.7012196  0.01360881 0.57332441]]\n"
          ],
          "name": "stdout"
        }
      ]
    },
    {
      "cell_type": "markdown",
      "metadata": {
        "id": "s-GdgfRvjt8f",
        "colab_type": "text"
      },
      "source": [
        "**2. Indexing NumPy Array**\n",
        "\n",
        "Indexing can be done by either using slicing or using an array as an index. \n",
        "\n",
        "Noted that the first element is indexed by 0, while the last element is indexed by -1. Please take a look in following eamples."
      ]
    },
    {
      "cell_type": "code",
      "metadata": {
        "id": "EltxZa7blW9c",
        "colab_type": "code",
        "colab": {
          "base_uri": "https://localhost:8080/",
          "height": 102
        },
        "outputId": "3864f176-7886-448b-c6f3-fd3da40dd566"
      },
      "source": [
        "import numpy as np\n",
        "list = [1, 2, 3, 4, 5]\n",
        "example_array = np.array(list)\n",
        "print(example_array)\n",
        "# Indexing by using an array as an index\n",
        "newArray = example_array[\n",
        "    np.array([2, 0, -1, -4])\n",
        "]\n",
        "print(\"\\n\", newArray)\n",
        "# Indexing by slicing, it is in the form [start:stop:step], the stop position is not included in slicing\n",
        "newArray = example_array[1:-2:1]\n",
        "print(\"\\n\", newArray)\n"
      ],
      "execution_count": null,
      "outputs": [
        {
          "output_type": "stream",
          "text": [
            "[1 2 3 4 5]\n",
            "\n",
            " [3 1 5 2]\n",
            "\n",
            " [2 3]\n"
          ],
          "name": "stdout"
        }
      ]
    },
    {
      "cell_type": "markdown",
      "metadata": {
        "id": "f1ziqoqVivNe",
        "colab_type": "text"
      },
      "source": [
        "Here will show another example about slicing and indexing of a mutidiemnsional array:"
      ]
    },
    {
      "cell_type": "code",
      "metadata": {
        "id": "m0EOgJMGi47R",
        "colab_type": "code",
        "colab": {
          "base_uri": "https://localhost:8080/",
          "height": 272
        },
        "outputId": "14a4fe25-5727-48cc-99bb-41334fb02933"
      },
      "source": [
        "import numpy as np\n",
        "array = np.array([\n",
        "    [1, 2, 3, 4],\n",
        "    [2, 3, 4, 5],\n",
        "    [3, 4, 5, 6],\n",
        "    [4, 5, 6, 7]\n",
        "])\n",
        "print(array)\n",
        "\n",
        "# Slicing and indexing in 4x4 array\n",
        "# Print first two rows and first two columns\n",
        "print(\"\\n\", array[0:2, 0:2])\n",
        "\n",
        "# Print all rows and last two columns\n",
        "print(\"\\n\", array[:, 2:4])\n",
        "\n",
        "# Print all column but middle two rows\n",
        "print(\"\\n\", array[1:3, :])"
      ],
      "execution_count": null,
      "outputs": [
        {
          "output_type": "stream",
          "text": [
            "[[1 2 3 4]\n",
            " [2 3 4 5]\n",
            " [3 4 5 6]\n",
            " [4 5 6 7]]\n",
            "\n",
            " [[1 2]\n",
            " [2 3]]\n",
            "\n",
            " [[3 4]\n",
            " [4 5]\n",
            " [5 6]\n",
            " [6 7]]\n",
            "\n",
            " [[2 3 4 5]\n",
            " [3 4 5 6]]\n"
          ],
          "name": "stdout"
        }
      ]
    },
    {
      "cell_type": "markdown",
      "metadata": {
        "id": "6MRJLif6j3M_",
        "colab_type": "text"
      },
      "source": [
        "**3. Operations in NumPy Array**\n",
        "\n",
        "**3.1. Basic Mathematical Operation**\n",
        "\n",
        "We can perform some basic mathematical operations, e.g. addition, subtration, multiplication and division.\n",
        "\n",
        "Following code demonstrates mathematical operations on NumpPy array."
      ]
    },
    {
      "cell_type": "code",
      "metadata": {
        "id": "bgPACZd1nlUo",
        "colab_type": "code",
        "colab": {
          "base_uri": "https://localhost:8080/",
          "height": 187
        },
        "outputId": "511691b4-2516-4557-e838-fe8b0d7def5f"
      },
      "source": [
        "array1 = np.array([\n",
        "    [1, 2, 3],\n",
        "    [4, 5, 6]\n",
        "])\n",
        "newArray = array1 + 2\n",
        "print(newArray)\n",
        "\n",
        "newArray1 = newArray * 2\n",
        "print(\"\\n\", newArray1)\n",
        "\n",
        "newArray2 = newArray + newArray1\n",
        "print(\"\\n\", newArray2)\n",
        "\n",
        "\n",
        "#We can use .sum() to find the sum of every element in a array\n",
        "print(\"\\n\", newArray2.sum())"
      ],
      "execution_count": null,
      "outputs": [
        {
          "output_type": "stream",
          "text": [
            "[[3 4 5]\n",
            " [6 7 8]]\n",
            "\n",
            " [[ 6  8 10]\n",
            " [12 14 16]]\n",
            "\n",
            " [[ 9 12 15]\n",
            " [18 21 24]]\n",
            "\n",
            " 99\n"
          ],
          "name": "stdout"
        }
      ]
    },
    {
      "cell_type": "markdown",
      "metadata": {
        "id": "NXNYzwNC1qSd",
        "colab_type": "text"
      },
      "source": [
        "**3.2 Mathematical Function in NumPy**\n",
        "\n",
        "Numpy also allows us to perform lots of different mathematical operations, E.g. trigonometric function(sine, cosine), logarithmic function, exponentail function. \n"
      ]
    },
    {
      "cell_type": "code",
      "metadata": {
        "id": "Lmpsgqaw6bzb",
        "colab_type": "code",
        "colab": {
          "base_uri": "https://localhost:8080/",
          "height": 102
        },
        "outputId": "f269e7a9-87d7-4db5-b14c-0df1262cf672"
      },
      "source": [
        "import numpy as np\n",
        "\n",
        "#Trigonometric Function\n",
        "x = 0\n",
        "print(np.sin(x))\n",
        "\n",
        "x = np.pi / 2\n",
        "print(np.sin(x))\n",
        "\n",
        "x = np.pi / 4\n",
        "print(np.sin(x))\n",
        "\n",
        "#Logarithmic Function, noted that it is calculating the natural logarithm of all elements in the array\n",
        "arr = [1, 3, 50]\n",
        "logValues = np.log(arr)\n",
        "print(logValues)\n",
        "\n",
        "#Exponententail Function\n",
        "arr = [1, 3, 50]\n",
        "expValues = np.exp(arr)\n",
        "print(expValues)"
      ],
      "execution_count": null,
      "outputs": [
        {
          "output_type": "stream",
          "text": [
            "0.0\n",
            "1.0\n",
            "0.7071067811865475\n",
            "[0.         1.09861229 3.91202301]\n",
            "[2.71828183e+00 2.00855369e+01 5.18470553e+21]\n"
          ],
          "name": "stdout"
        }
      ]
    },
    {
      "cell_type": "markdown",
      "metadata": {
        "id": "mXe5bdTx7Qth",
        "colab_type": "text"
      },
      "source": [
        "# **Use Cases of NumPy in Data Science & Machine Learning**\n",
        "\n",
        "In this part, we would like to demonstrate the use of Numpy library in doing some fundamental scientifc computations in Machine Learning.\n",
        "\n",
        "We will first take a look at the use of NumPy **Linear Algebra** module.\n",
        "\n",
        "\n",
        "**Finding Determinant, Transpose, Inverse, etc. of an array (Matrix)**\n"
      ]
    },
    {
      "cell_type": "code",
      "metadata": {
        "id": "NI2GF4snE6Qr",
        "colab_type": "code",
        "colab": {
          "base_uri": "https://localhost:8080/",
          "height": 238
        },
        "outputId": "0e17b513-4447-4f5f-f668-77d0903ac9b4"
      },
      "source": [
        "array = np.array([\n",
        "    [1, 3, 5],\n",
        "    [2, 4, 6],\n",
        "    [-3, 6, -9]\n",
        "])\n",
        "#Finding Rank\n",
        "rank = np.linalg.matrix_rank(array)\n",
        "print(\"Rank:\", rank)\n",
        "\n",
        "#Finding Determinant\n",
        "determinant = np.linalg.det(array)\n",
        "print(\"Determinant:\", determinant)\n",
        "\n",
        "#Finding Trace\n",
        "trace = np.trace(array)\n",
        "print(\"Trace:\", trace)\n",
        "\n",
        "#Finding Transpose\n",
        "transpose = np.transpose(array)\n",
        "print(\"Transpose:\", transpose)\n",
        "\n",
        "#Finding Inverse\n",
        "inverse = np.linalg.inv(array)\n",
        "print(\"Inverse:\", inverse)\n",
        "\n",
        "#Finding Eigenvalue and Eigenvectors\n",
        "eigenVal, eigenVec = np.linalg.eig(array)\n",
        "print(\"EigenValue:\",eigenVal)\n",
        "print(\"EigenVector:\", eigenVec)"
      ],
      "execution_count": null,
      "outputs": [
        {
          "output_type": "stream",
          "text": [
            "Rank: 3\n",
            "Determinant: 47.999999999999986\n",
            "Trace: -4\n",
            "Transpose: [[ 1  2 -3]\n",
            " [ 3  4  6]\n",
            " [ 5  6 -9]]\n",
            "Inverse: [[-1.5         1.1875     -0.04166667]\n",
            " [ 0.          0.125       0.08333333]\n",
            " [ 0.5        -0.3125     -0.04166667]]\n",
            "EigenValue: [-10.20339462  -0.68312011   6.88651473]\n",
            "EigenVector: [[-0.30850626 -0.94443436  0.57097257]\n",
            " [-0.33296586 -0.01721604  0.79783852]\n",
            " [ 0.891043    0.32824892  0.19350458]]\n"
          ],
          "name": "stdout"
        }
      ]
    },
    {
      "cell_type": "markdown",
      "metadata": {
        "id": "RHqFGiV-F-fm",
        "colab_type": "text"
      },
      "source": [
        "**Calculating Dot Product** "
      ]
    },
    {
      "cell_type": "code",
      "metadata": {
        "id": "-EZs7DT7F-M2",
        "colab_type": "code",
        "colab": {
          "base_uri": "https://localhost:8080/",
          "height": 34
        },
        "outputId": "2d9a7812-125b-49ea-e1c8-171d0aa5d539"
      },
      "source": [
        "import numpy as np\n",
        "\n",
        "v_a = 1 + 2j\n",
        "v_b = 2 + 4j\n",
        "\n",
        "vectorProduct = np.dot(v_a, v_b)\n",
        "print(\"Dot Product of vector values  : \", vectorProduct)"
      ],
      "execution_count": null,
      "outputs": [
        {
          "output_type": "stream",
          "text": [
            "Dot Product of vector values  :  (-6+8j)\n"
          ],
          "name": "stdout"
        }
      ]
    },
    {
      "cell_type": "markdown",
      "metadata": {
        "id": "SZT4pZDPGcjR",
        "colab_type": "text"
      },
      "source": [
        "**Solving Linear Matrix Equation**"
      ]
    },
    {
      "cell_type": "code",
      "metadata": {
        "id": "QKIaygDJnbjM",
        "colab_type": "code",
        "colab": {
          "base_uri": "https://localhost:8080/",
          "height": 51
        },
        "outputId": "24f0f581-85b3-4758-9f9a-022e2af222e8"
      },
      "source": [
        "import numpy as np\n",
        "\n",
        "A = np.array([\n",
        "    [1, 3],\n",
        "    [2, 4]\n",
        "])\n",
        "\n",
        "b = np.array([\n",
        "    [5],\n",
        "    [6]\n",
        "])\n",
        "\n",
        "x = np.linalg.solve(A, b)\n",
        "print(x)"
      ],
      "execution_count": 22,
      "outputs": [
        {
          "output_type": "stream",
          "text": [
            "[[-1.]\n",
            " [ 2.]]\n"
          ],
          "name": "stdout"
        }
      ]
    },
    {
      "cell_type": "markdown",
      "metadata": {
        "id": "rLIj90ntG78H",
        "colab_type": "text"
      },
      "source": [
        "Next, we will look at the usage of Numpy in **Fourier Transform**.Forurier Transform is often uses in decomposing a signal(function) into its constituent frequencies. Fourier Transform may have different applications. E.g. Fast large-integer and polynomial multiplication, Filtering Algorithm."
      ]
    },
    {
      "cell_type": "code",
      "metadata": {
        "id": "rdqM1_ZiH5z7",
        "colab_type": "code",
        "colab": {
          "base_uri": "https://localhost:8080/",
          "height": 306
        },
        "outputId": "8f3c8700-e9a4-4757-d0be-2339174b87f1"
      },
      "source": [
        "import numpy as np\n",
        "\n",
        "#1D Fourier Transform\n",
        "A = np.array([1, 3, 5, 7, 9])\n",
        "result = np.fft.fft(A)\n",
        "print(\"\\n\", result)\n",
        "\n",
        "#2D Fourier Transform\n",
        "A = np.array([\n",
        "    [2, 4, 6, 8, 9],\n",
        "    [1, 3, 5, 7, 9]\n",
        "])\n",
        "result = np.fft.fft2(A)\n",
        "print(\"\\n\", result)\n",
        "\n",
        "\n",
        "#N-D Fourier Transform\n",
        "A = np.array([\n",
        "    [2.3, 4.1, 6.5, 8, 9],\n",
        "    [3, -1.2, 6, -2, -4]\n",
        "])\n",
        "result = np.fft.fftn(A)\n",
        "print(\"\\n\", result)"
      ],
      "execution_count": 24,
      "outputs": [
        {
          "output_type": "stream",
          "text": [
            "\n",
            " [25.+0.j         -5.+6.8819096j  -5.+1.62459848j -5.-1.62459848j\n",
            " -5.-6.8819096j ]\n",
            "\n",
            " [[ 54.         +0.j         -10.30901699+12.81276269j\n",
            "   -9.19098301 +2.66141171j  -9.19098301 -2.66141171j\n",
            "  -10.30901699-12.81276269j]\n",
            " [  4.         +0.j          -0.30901699 -0.95105652j\n",
            "    0.80901699 -0.58778525j   0.80901699 +0.58778525j\n",
            "   -0.30901699 +0.95105652j]]\n",
            "\n",
            " [[ 31.7        +0.j          -7.22558014 -1.82338546j\n",
            "    4.62558014 +7.41621639j   4.62558014 -7.41621639j\n",
            "   -7.22558014 +1.82338546j]\n",
            " [ 28.1        +0.j          -3.53966744+12.90709507j\n",
            "  -12.26033256 -4.50909046j -12.26033256 +4.50909046j\n",
            "   -3.53966744-12.90709507j]]\n"
          ],
          "name": "stdout"
        }
      ]
    },
    {
      "cell_type": "markdown",
      "metadata": {
        "id": "3FoIrZyoI1eS",
        "colab_type": "text"
      },
      "source": [
        "# **Congratuations! You have completed this chapter.**\n",
        "\n",
        "Following is the official documentation of NumPy, you may go take a look and learn more about the usage of NumPy. Good Luck :)\n",
        "\n",
        "https://numpy.org/devdocs/user/absolute_beginners.html"
      ]
    }
  ]
}