{
  "nbformat": 4,
  "nbformat_minor": 0,
  "metadata": {
    "colab": {
      "name": "numpy_basic.ipynb",
      "provenance": [],
      "authorship_tag": "ABX9TyNuaY6Fq2iq3tAsqfQ04tGe",
      "include_colab_link": true
    },
    "kernelspec": {
      "name": "python3",
      "display_name": "Python 3"
    }
  },
  "cells": [
    {
      "cell_type": "markdown",
      "metadata": {
        "id": "view-in-github",
        "colab_type": "text"
      },
      "source": [
        "<a href=\"https://colab.research.google.com/github/wesley34/comp3414_course_material/blob/master/numpy_basic.ipynb\" target=\"_parent\"><img src=\"https://colab.research.google.com/assets/colab-badge.svg\" alt=\"Open In Colab\"/></a>"
      ]
    },
    {
      "cell_type": "markdown",
      "metadata": {
        "id": "Tur-zo-qjfMh",
        "colab_type": "text"
      },
      "source": [
        "[![Open In Colab](https://colab.research.google.com/assets/colab-badge.svg)](https://colab.research.google.com/drive/1VZbJc2zjK6XQTovVjGzCHLS-m9sRdiCG#scrollTo=Tur-zo-qjfMh_)"
      ]
    },
    {
      "cell_type": "markdown",
      "metadata": {
        "id": "ogTEdnFiwqIv",
        "colab_type": "text"
      },
      "source": [
        "# **NumPy - Why do we need it?**\n",
        "\n",
        "NumPy stands for numerical python. The NumPy library provides us a multidimensional array and matrix data structures. It provides ndarray, a homogeneous n-dimensional array object, with methods to efficiently operate on it. \n",
        "\n",
        "NumPy is a very important library that we usually used in the field of Data Science and Machine Learning.\n",
        "\n",
        "Following code demonstrates the advantage of using ndarray. We dont't have to do operation on a list in a elementwise manner:"
      ]
    },
    {
      "cell_type": "code",
      "metadata": {
        "id": "dT6cVF1mkkZB",
        "colab_type": "code",
        "colab": {
          "base_uri": "https://localhost:8080/",
          "height": 34
        },
        "outputId": "385f7e88-c014-4364-bbb5-9583d3027eaa"
      },
      "source": [
        "import numpy as np\n",
        "\n",
        "arr1 = np.array([1, 3, 5, 7, 9])\n",
        "arr2 = np.array([2, 4, 6, 8, 10])\n",
        "\n",
        "print(arr1*arr2)"
      ],
      "execution_count": null,
      "outputs": [
        {
          "output_type": "stream",
          "text": [
            "[ 2 12 30 56 90]\n"
          ],
          "name": "stdout"
        }
      ]
    },
    {
      "cell_type": "markdown",
      "metadata": {
        "id": "Si_cz1CZPZnt",
        "colab_type": "text"
      },
      "source": [
        "# **Prerequistite**\n",
        "We use pip to install the numpy package:\n",
        "```\n",
        " pip install numpy\n",
        "```\n"
      ]
    },
    {
      "cell_type": "markdown",
      "metadata": {
        "id": "DL6CPwL4hV8x",
        "colab_type": "text"
      },
      "source": [
        "# **Arrays in NumPy**\n",
        "Arrays in Numpy is know as ndarray. The number of dimension of ndarray is known as the rank of the array. The size of the array of each dimension is known as the shape of the array. Details of ndarray will be explained in the following sections:\n",
        "\n"
      ]
    },
    {
      "cell_type": "markdown",
      "metadata": {
        "id": "dDY-x06xiJCd",
        "colab_type": "text"
      },
      "source": [
        "**Creating NumPy array**\n",
        "\n",
        "We can create ndarray several ways. E.g. python list, python tuple, **np.zeros()**, **np.full().**"
      ]
    },
    {
      "cell_type": "code",
      "metadata": {
        "id": "oCuYvN9jC03m",
        "colab_type": "code",
        "colab": {
          "base_uri": "https://localhost:8080/",
          "height": 153
        },
        "outputId": "500e0398-8a91-47a5-e9f9-b786fcea74e1"
      },
      "source": [
        "import numpy as np\n",
        "\n",
        "# Creating ndarray using a python list\n",
        "list1 = [1, 2, 3, 4, 5]\n",
        "example1_array = np.array(list1)\n",
        "print(example1_array)\n",
        "# Creating ndarray using two python lists\n",
        "list2 = [6, 7, 8, 9, 10]\n",
        "list3 = [11, 12, 13, 14, 15]\n",
        "example2_array = np.array([list2, list3])\n",
        "print(example2_array)\n",
        "\n",
        "\n",
        "# Creating ndarray using a python tple\n",
        "tuple = (1, 2, 3, 4, 5)\n",
        "example3_array = np.array(tuple)\n",
        "print(example3_array)\n",
        "\n",
        "# Creating ndarray wwith np.zeros(), it will set the value of each element in the array with all zeros.\n",
        "# Here we define the size of each dimension of the array as 2\n",
        "array = np.zeros((2, 2))\n",
        "print(array)\n",
        "\n",
        "# Creating ndarray wwith np.full(), it will set the value of each element in the array with a constant value.\n",
        "# Here we define the type of each elements as complex type.\n",
        "array = np.full((2, 2), 1, dtype='complex')\n",
        "print(array)\n"
      ],
      "execution_count": 5,
      "outputs": [
        {
          "output_type": "stream",
          "text": [
            "[1 2 3 4 5]\n",
            "[[ 6  7  8  9 10]\n",
            " [11 12 13 14 15]]\n",
            "[1 2 3 4 5]\n",
            "[[0. 0.]\n",
            " [0. 0.]]\n",
            "[[1.+0.j 1.+0.j]\n",
            " [1.+0.j 1.+0.j]]\n"
          ],
          "name": "stdout"
        }
      ]
    },
    {
      "cell_type": "markdown",
      "metadata": {
        "id": "plJqjshmC1QU",
        "colab_type": "text"
      },
      "source": [
        "https://numpy.org/devdocs/user/absolute_beginners.html"
      ]
    }
  ]
}