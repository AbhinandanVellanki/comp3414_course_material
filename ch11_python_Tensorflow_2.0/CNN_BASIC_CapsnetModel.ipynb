{
  "nbformat": 4,
  "nbformat_minor": 0,
  "metadata": {
    "colab": {
      "name": "Untitled30.ipynb",
      "provenance": [],
      "authorship_tag": "ABX9TyN1bJ4UDIj+f1KwE9SKMIXm",
      "include_colab_link": true
    },
    "kernelspec": {
      "name": "python3",
      "display_name": "Python 3"
    },
    "accelerator": "GPU"
  },
  "cells": [
    {
      "cell_type": "markdown",
      "metadata": {
        "id": "view-in-github",
        "colab_type": "text"
      },
      "source": [
        "<a href=\"https://colab.research.google.com/github/wesley34/comp3414_course_material/blob/master/ch11_python_Tensorflow_2.0/CNN_BASIC_CapsnetModel.ipynb\" target=\"_parent\"><img src=\"https://colab.research.google.com/assets/colab-badge.svg\" alt=\"Open In Colab\"/></a>"
      ]
    },
    {
      "cell_type": "code",
      "metadata": {
        "id": "mTOUJmHdU2f_",
        "colab_type": "code",
        "colab": {}
      },
      "source": [
        "import tensorflow as tf\n",
        "from tensorflow.keras import models,layers,Model\n",
        "import numpy as np"
      ],
      "execution_count": 1,
      "outputs": []
    },
    {
      "cell_type": "code",
      "metadata": {
        "id": "XeHbkszjmD8P",
        "colab_type": "code",
        "colab": {}
      },
      "source": [
        ""
      ],
      "execution_count": 10,
      "outputs": []
    },
    {
      "cell_type": "code",
      "metadata": {
        "id": "yAhoOoRSkyH3",
        "colab_type": "code",
        "colab": {}
      },
      "source": [
        "class CapsuleNetModel:\n",
        "  def __init__(self,batch_size,n_classes,iter_routing):\n",
        "    self.batch_size = batch_size\n",
        "    self.n_classes = n_classes\n",
        "    self.iter_routing = iter_routing\n",
        "\n",
        "  def build_model(self,is_train=False,learning_rate=1e-3):\n",
        "    \n",
        "    self.y = layers.Input(shape=(self.n_classes) ,batch_size=self.batch_size,dtype=tf.float32,name=\"input\")\n",
        "    self.x = layers.Input(shape=(28,28,1), batch_size=self.batch_size, dtype=tf.float32,name=\"inputX\")\n",
        "    print(\"PASS\")\n",
        "    capsNetwork = self.capsNetwork(self.x)\n",
        "    print(\"PASS CapsNetwork\")\n",
        "    MaskingNetwork = self.masking(is_train)\n",
        "    print(\"PASS MaskingNetwork\")\n",
        "    capsuleNetwork = models.Sequential(\n",
        "        capsNetwork,\n",
        "        MaskingNetwork,\n",
        "    )\n",
        "\n",
        "    self.loss = self.loss(self.v_len,self.output)\n",
        "\n",
        "    learning_rate_decay = tf.keras.optimizers.schedules.ExponentialDecay(learning_rate,decay_steps=1000,decay_rate=0.9) #\n",
        "\n",
        "    self.train_optimizer = tf.keras.optimizers.Adam(learning_rate_decay) #  set decay rate??\n",
        "\n",
        "    capsuleNetwork.Model(inputs=[self.x,self.y],output=self.output)\n",
        "\n",
        "    capsuleNetwork.compile(self.train_optimizer, loss=self.loss,)\n",
        "\n",
        "    return capsuleNetwork\n",
        "\n",
        "\n",
        "\n",
        "  def capsNetwork(self,img):\n",
        "    self.v_js = []\n",
        "    self.b_ijs = tf.constant(np.zeros([1152,10]),dtype=np.float32)\n",
        "    print(\"capsnet intialize sucessfully\")\n",
        "    con_layer_1_output = self.conv_layer_1(img)\n",
        "    print(\"capsnet pass {}\".format((\"con_layer_1_output\")))\n",
        "    primary_caps_layers_output = self.primary_caps_layers(con_layer_1_output)\n",
        "    print(\"capsnet pass {}\".format(\"primary_caps_layers_output\"))\n",
        "    digitCaps_layers_output = self.digitCaps_layers(primary_caps_layers_output)\n",
        "    print(\"capsnet pass {}\".format(\"digitCaps_layers_output\"))\n",
        "    for r_iter in range(self.iter_routing):\n",
        "      digitCaps_layers_output = self.iter_routing(digitCaps_layers_output,r_iter)\n",
        "      print(\"capsnet pass {}\".format(\"digitCaps_layers_output\"))\n",
        "    output = digitCaps_layers_output\n",
        "    model = Model(inputs=[img],output=[output],name=\"capsNetwork\")\n",
        "    return model\n",
        "    \n",
        "  #with tf.variable_scope(conv_layer_1\") as scope\n",
        "  def conv_layer_1(self,img):\n",
        "    output = layers.Conv2D(256,(9,9),strides=1,padding=\"valid\",name=\"conv_layer_1\")(img)\n",
        "    tf.ensure_shape(output,(self.batch_size,20,20,256))\n",
        "    model = Model(inputs=[img],output=[output],name=\"conv_layer_1\")\n",
        "    return model\n",
        "  \n",
        "  #with tf.variable_scope(primary_caps_layers\") as scope\n",
        "  def primary_caps_layers(self,input_outside):\n",
        "    output = layers.Conv2D(32*8,(9,9),strides=2,padding=\"valid\")(input_outside)\n",
        "    tf.ensure_shape(output,self.batch_size,6,6,32*8)\n",
        "    model = Model(inputs=[input_outside],output=[output],name=\"primary_caps_layers\")\n",
        "    return model\n",
        "\n",
        "  #with tf.variable_scope(\"digitCaps_layers\") as scope\n",
        "  def digitCaps_layers(self,input_outside):\n",
        "    u_hats = []\n",
        "    input_groups = tf.split(axis=1,num_or_size_splits=1152,value=input_outside)\n",
        "    for i in range(1152):\n",
        "      one_u_hat = layers.Conv2D(16*10,(1,1),strides=1,name=\"DigitCaps_layer_w\" + str(i))(input_groups[i])\n",
        "      one_u_hat = tf.reshape(one_u_hat,[self.batch_size,1,10,16])\n",
        "      u_hats.append(one_u_hat)\n",
        "    u_hat = tf.concat(u_hats,axis=1)\n",
        "    tf.ensure_shape(u_hat,(1152,self.batch_size,1,10,16))\n",
        "    output = u_hat\n",
        "    model = Model(inputs=[input_outside],output=[output],name=\"digitCaps_layers\")\n",
        "    return model\n",
        "\n",
        "  #with tf.variable_scope(\"iter_routing\") as scope\n",
        "  def iter_routing(self,input_outside,r_iter):\n",
        "    c_ijs = tf.nn.softmax(self.b_ijs,axis=1)\n",
        "    c_ijs_groups = tf.split(axis=1,num_or_size_splits=10,value=c_ijs,name=\"c_ijs_groups_split\")\n",
        "    b_ijs_groups = tf.split(axis=1,num_or_size_splits=10,value=self.b_ijs,name=\"b_ijs_groups_split\")\n",
        "    u_hat_groups = tf.split(axis=2,num_or_size_splits=10,value=u_hat,name=\"u_hat_groupssplit\")\n",
        "\n",
        "    for i in range(10):\n",
        "      c_ij = tf.reshape(tf.tile(c_ijs_groups[i],[1,16]),[1156,1,16],name=\"c_ij_reshape\")\n",
        "      s_j = tf.nn.depthwise_conv2d(u_hats_groups[i],c_ij,strides=[1,1,1,1],name=\"s_j_depthwise2D\")\n",
        "      tf.ensure_shape(s_j,[self.batch_size,1,1,16])\n",
        "      s_j = tf.reshape(s_j,[self.batch_size,16])\n",
        "      v_j = self.squash(s_j)\n",
        "      tf.ensure_shape(s_j,[self.batch_size,16])\n",
        "      b_ijs_groups[i] = b_ijs_groups[i] + tf.reduce_sum(\n",
        "          tf.malmul(tf.reshape(u_hat_groups[i],[self.batch_size,1152,16]),tf.reshape(v_j,[self.batch_size,16,1])),axis=0\n",
        "      )\n",
        "      if r_iter == self.iter_routing-1:\n",
        "        self.v_js.append(tf.reshape(v_j,[self.batch_size,1,16],name=\"v_js_apped_reshape\"))\n",
        "      b_ijs = tf.concat(b_ijs_groups,axis=1)\n",
        "\n",
        "    output = tf.concat(self.v_js,axis=1)\n",
        "    model = Model(inputs=[input_outside],output=[output],name=\"iter_routing\"+str(r_iter))\n",
        "    return model\n",
        "  #with tf.variable_scope(\"masking\") as scope\n",
        "  def masking(self,is_train):\n",
        "    self.v_len = tf.norm(self.v_jsoutput,axis=2,name=\"norm\")\n",
        "    tf.ensure_shape(self.v_len,[self.batch_size,10])\n",
        "\n",
        "    if is_train:\n",
        "      masked_v = tf.matmul(self.v_jsoutput,tf.reshape(self.y,[-1,10,1],transpose_a=True),name=\"masked_v_product\")\n",
        "      masked_v = tf.reshape(masked_v,[-1,16],name=\"masked_v_reshape\")\n",
        "    \n",
        "    output = layers.Dense(512,trainable=is_train,name=\"FC1\")(masked_v)\n",
        "    output = layers.Dense(1024,trainable=is_train,name=\"FC2\")(output)\n",
        "    self.output = layers.Dense(784,trainable=is_train,activation=tf.sigmoid(),name=\"FC3\")(output)\n",
        "    model = Model(inputs=[self.v_jsoutput],output=[self.output],name=\"capsNetwork\")\n",
        "    return model\n",
        "\n",
        "  # special activation function\n",
        "  def squash(self,s_j):\n",
        "    s_j_norm_square = tf.reduce_mean(tf.square(s_j),axs=1,keepdims=True)\n",
        "    v_j = s_j_norm_square * s_j / ((1+s_j_norm_square) * tf.sqrt(s_j_norm_square+1e-9))\n",
        "    return v_j\n",
        "  \n",
        "  def loss(self,v_len,output):\n",
        "    max_1 = tf.square(tf.maximum(0.,0.9-v_len))\n",
        "    max_r = tf.square(tf.maximum(0.,v_len-0.1))\n",
        "\n",
        "    l_c = self.y*max_1+ 0.5*(1-self.y)*ax_r\n",
        "    \n",
        "    margin_loss = tf.reduce_mean(tf.reduce_sum(l_c,axis=1))\n",
        "\n",
        "    origin = tf.reshape(self.x,shape=[self.batch_size,-1])\n",
        "\n",
        "    #mse between output and origin\n",
        "    reconstruction_error = tf.reduce_mean(tf.square(output-origin))\n",
        "\n",
        "    total_loss = margin_loss + 0.00005*reconstruction_error\n",
        "\n",
        "    return total_loss\n",
        "\n",
        "    \n",
        "    \n",
        "\n",
        "    "
      ],
      "execution_count": 15,
      "outputs": []
    },
    {
      "cell_type": "code",
      "metadata": {
        "id": "0VO9QkzhYayV",
        "colab_type": "code",
        "colab": {}
      },
      "source": [
        ""
      ],
      "execution_count": 15,
      "outputs": []
    },
    {
      "cell_type": "code",
      "metadata": {
        "id": "FlpbQ4NyYyS9",
        "colab_type": "code",
        "colab": {}
      },
      "source": [
        "batch_size = 128\n",
        "learning_rate = 1e-3\n",
        "training_epoches = 5\n",
        "n_class = 10\n",
        "iter_routing = 3"
      ],
      "execution_count": 16,
      "outputs": []
    },
    {
      "cell_type": "code",
      "metadata": {
        "id": "1N5fFUTjY44b",
        "colab_type": "code",
        "colab": {}
      },
      "source": [
        "CapsuleNetModel = CapsuleNetModel(batch_size,n_class,iter_routing)"
      ],
      "execution_count": 17,
      "outputs": []
    },
    {
      "cell_type": "code",
      "metadata": {
        "id": "G5yht6UgZATr",
        "colab_type": "code",
        "colab": {
          "base_uri": "https://localhost:8080/",
          "height": 379
        },
        "outputId": "6c9f4f57-32bc-43bf-8002-0cbad8a39c28"
      },
      "source": [
        "model = CapsuleNetModel.build_model(True)"
      ],
      "execution_count": 18,
      "outputs": [
        {
          "output_type": "stream",
          "text": [
            "PASS\n",
            "capsnet intialize sucessfully\n",
            "random printf\n"
          ],
          "name": "stdout"
        },
        {
          "output_type": "error",
          "ename": "TypeError",
          "evalue": "ignored",
          "traceback": [
            "\u001b[0;31m---------------------------------------------------------------------------\u001b[0m",
            "\u001b[0;31mTypeError\u001b[0m                                 Traceback (most recent call last)",
            "\u001b[0;32m<ipython-input-18-25c3b887381a>\u001b[0m in \u001b[0;36m<module>\u001b[0;34m()\u001b[0m\n\u001b[0;32m----> 1\u001b[0;31m \u001b[0mmodel\u001b[0m \u001b[0;34m=\u001b[0m \u001b[0mCapsuleNetModel\u001b[0m\u001b[0;34m.\u001b[0m\u001b[0mbuild_model\u001b[0m\u001b[0;34m(\u001b[0m\u001b[0;32mTrue\u001b[0m\u001b[0;34m)\u001b[0m\u001b[0;34m\u001b[0m\u001b[0;34m\u001b[0m\u001b[0m\n\u001b[0m",
            "\u001b[0;32m<ipython-input-15-1571b09f0f54>\u001b[0m in \u001b[0;36mbuild_model\u001b[0;34m(self, is_train, learning_rate)\u001b[0m\n\u001b[1;32m     10\u001b[0m     \u001b[0mself\u001b[0m\u001b[0;34m.\u001b[0m\u001b[0mx\u001b[0m \u001b[0;34m=\u001b[0m \u001b[0mlayers\u001b[0m\u001b[0;34m.\u001b[0m\u001b[0mInput\u001b[0m\u001b[0;34m(\u001b[0m\u001b[0mshape\u001b[0m\u001b[0;34m=\u001b[0m\u001b[0;34m(\u001b[0m\u001b[0;36m28\u001b[0m\u001b[0;34m,\u001b[0m\u001b[0;36m28\u001b[0m\u001b[0;34m,\u001b[0m\u001b[0;36m1\u001b[0m\u001b[0;34m)\u001b[0m\u001b[0;34m,\u001b[0m \u001b[0mbatch_size\u001b[0m\u001b[0;34m=\u001b[0m\u001b[0mself\u001b[0m\u001b[0;34m.\u001b[0m\u001b[0mbatch_size\u001b[0m\u001b[0;34m,\u001b[0m \u001b[0mdtype\u001b[0m\u001b[0;34m=\u001b[0m\u001b[0mtf\u001b[0m\u001b[0;34m.\u001b[0m\u001b[0mfloat32\u001b[0m\u001b[0;34m,\u001b[0m\u001b[0mname\u001b[0m\u001b[0;34m=\u001b[0m\u001b[0;34m\"inputX\"\u001b[0m\u001b[0;34m)\u001b[0m\u001b[0;34m\u001b[0m\u001b[0;34m\u001b[0m\u001b[0m\n\u001b[1;32m     11\u001b[0m     \u001b[0mprint\u001b[0m\u001b[0;34m(\u001b[0m\u001b[0;34m\"PASS\"\u001b[0m\u001b[0;34m)\u001b[0m\u001b[0;34m\u001b[0m\u001b[0;34m\u001b[0m\u001b[0m\n\u001b[0;32m---> 12\u001b[0;31m     \u001b[0mcapsNetwork\u001b[0m \u001b[0;34m=\u001b[0m \u001b[0mself\u001b[0m\u001b[0;34m.\u001b[0m\u001b[0mcapsNetwork\u001b[0m\u001b[0;34m(\u001b[0m\u001b[0mself\u001b[0m\u001b[0;34m.\u001b[0m\u001b[0mx\u001b[0m\u001b[0;34m)\u001b[0m\u001b[0;34m\u001b[0m\u001b[0;34m\u001b[0m\u001b[0m\n\u001b[0m\u001b[1;32m     13\u001b[0m     \u001b[0mprint\u001b[0m\u001b[0;34m(\u001b[0m\u001b[0;34m\"PASS CapsNetwork\"\u001b[0m\u001b[0;34m)\u001b[0m\u001b[0;34m\u001b[0m\u001b[0;34m\u001b[0m\u001b[0m\n\u001b[1;32m     14\u001b[0m     \u001b[0mMaskingNetwork\u001b[0m \u001b[0;34m=\u001b[0m \u001b[0mself\u001b[0m\u001b[0;34m.\u001b[0m\u001b[0mmasking\u001b[0m\u001b[0;34m(\u001b[0m\u001b[0mis_train\u001b[0m\u001b[0;34m)\u001b[0m\u001b[0;34m\u001b[0m\u001b[0;34m\u001b[0m\u001b[0m\n",
            "\u001b[0;32m<ipython-input-15-1571b09f0f54>\u001b[0m in \u001b[0;36mcapsNetwork\u001b[0;34m(self, img)\u001b[0m\n\u001b[1;32m     37\u001b[0m     \u001b[0mself\u001b[0m\u001b[0;34m.\u001b[0m\u001b[0mb_ijs\u001b[0m \u001b[0;34m=\u001b[0m \u001b[0mtf\u001b[0m\u001b[0;34m.\u001b[0m\u001b[0mconstant\u001b[0m\u001b[0;34m(\u001b[0m\u001b[0mnp\u001b[0m\u001b[0;34m.\u001b[0m\u001b[0mzeros\u001b[0m\u001b[0;34m(\u001b[0m\u001b[0;34m[\u001b[0m\u001b[0;36m1152\u001b[0m\u001b[0;34m,\u001b[0m\u001b[0;36m10\u001b[0m\u001b[0;34m]\u001b[0m\u001b[0;34m)\u001b[0m\u001b[0;34m,\u001b[0m\u001b[0mdtype\u001b[0m\u001b[0;34m=\u001b[0m\u001b[0mnp\u001b[0m\u001b[0;34m.\u001b[0m\u001b[0mfloat32\u001b[0m\u001b[0;34m)\u001b[0m\u001b[0;34m\u001b[0m\u001b[0;34m\u001b[0m\u001b[0m\n\u001b[1;32m     38\u001b[0m     \u001b[0mprint\u001b[0m\u001b[0;34m(\u001b[0m\u001b[0;34m\"capsnet intialize sucessfully\"\u001b[0m\u001b[0;34m)\u001b[0m\u001b[0;34m\u001b[0m\u001b[0;34m\u001b[0m\u001b[0m\n\u001b[0;32m---> 39\u001b[0;31m     \u001b[0mcon_layer_1_output\u001b[0m \u001b[0;34m=\u001b[0m \u001b[0mself\u001b[0m\u001b[0;34m.\u001b[0m\u001b[0mconv_layer_1\u001b[0m\u001b[0;34m(\u001b[0m\u001b[0mimg\u001b[0m\u001b[0;34m)\u001b[0m\u001b[0;34m\u001b[0m\u001b[0;34m\u001b[0m\u001b[0m\n\u001b[0m\u001b[1;32m     40\u001b[0m     \u001b[0mprint\u001b[0m\u001b[0;34m(\u001b[0m\u001b[0;34m\"capsnet pass {}\"\u001b[0m\u001b[0;34m.\u001b[0m\u001b[0mformat\u001b[0m\u001b[0;34m(\u001b[0m\u001b[0;34m(\u001b[0m\u001b[0;34m\"con_layer_1_output\"\u001b[0m\u001b[0;34m)\u001b[0m\u001b[0;34m)\u001b[0m\u001b[0;34m)\u001b[0m\u001b[0;34m\u001b[0m\u001b[0;34m\u001b[0m\u001b[0m\n\u001b[1;32m     41\u001b[0m     \u001b[0mprimary_caps_layers_output\u001b[0m \u001b[0;34m=\u001b[0m \u001b[0mself\u001b[0m\u001b[0;34m.\u001b[0m\u001b[0mprimary_caps_layers\u001b[0m\u001b[0;34m(\u001b[0m\u001b[0mcon_layer_1_output\u001b[0m\u001b[0;34m)\u001b[0m\u001b[0;34m\u001b[0m\u001b[0;34m\u001b[0m\u001b[0m\n",
            "\u001b[0;32m<ipython-input-15-1571b09f0f54>\u001b[0m in \u001b[0;36mconv_layer_1\u001b[0;34m(self, img)\u001b[0m\n\u001b[1;32m     55\u001b[0m     \u001b[0mprint\u001b[0m\u001b[0;34m(\u001b[0m\u001b[0;34m\"random printf\"\u001b[0m\u001b[0;34m)\u001b[0m\u001b[0;34m\u001b[0m\u001b[0;34m\u001b[0m\u001b[0m\n\u001b[1;32m     56\u001b[0m     \u001b[0mtf\u001b[0m\u001b[0;34m.\u001b[0m\u001b[0mensure_shape\u001b[0m\u001b[0;34m(\u001b[0m\u001b[0moutput\u001b[0m\u001b[0;34m,\u001b[0m\u001b[0;34m(\u001b[0m\u001b[0mself\u001b[0m\u001b[0;34m.\u001b[0m\u001b[0mbatch_size\u001b[0m\u001b[0;34m,\u001b[0m\u001b[0;36m20\u001b[0m\u001b[0;34m,\u001b[0m\u001b[0;36m20\u001b[0m\u001b[0;34m,\u001b[0m\u001b[0;36m256\u001b[0m\u001b[0;34m)\u001b[0m\u001b[0;34m)\u001b[0m\u001b[0;34m\u001b[0m\u001b[0;34m\u001b[0m\u001b[0m\n\u001b[0;32m---> 57\u001b[0;31m     \u001b[0mmodel\u001b[0m \u001b[0;34m=\u001b[0m \u001b[0mModel\u001b[0m\u001b[0;34m(\u001b[0m\u001b[0minputs\u001b[0m\u001b[0;34m=\u001b[0m\u001b[0;34m[\u001b[0m\u001b[0mimg\u001b[0m\u001b[0;34m]\u001b[0m\u001b[0;34m,\u001b[0m\u001b[0moutput\u001b[0m\u001b[0;34m=\u001b[0m\u001b[0;34m[\u001b[0m\u001b[0moutput\u001b[0m\u001b[0;34m]\u001b[0m\u001b[0;34m,\u001b[0m\u001b[0mname\u001b[0m\u001b[0;34m=\u001b[0m\u001b[0;34m\"conv_layer_1\"\u001b[0m\u001b[0;34m)\u001b[0m\u001b[0;34m\u001b[0m\u001b[0;34m\u001b[0m\u001b[0m\n\u001b[0m\u001b[1;32m     58\u001b[0m     \u001b[0;32mreturn\u001b[0m \u001b[0mmodel\u001b[0m\u001b[0;34m\u001b[0m\u001b[0;34m\u001b[0m\u001b[0m\n\u001b[1;32m     59\u001b[0m \u001b[0;34m\u001b[0m\u001b[0m\n",
            "\u001b[0;32m/usr/local/lib/python3.6/dist-packages/tensorflow/python/training/tracking/base.py\u001b[0m in \u001b[0;36m_method_wrapper\u001b[0;34m(self, *args, **kwargs)\u001b[0m\n\u001b[1;32m    455\u001b[0m     \u001b[0mself\u001b[0m\u001b[0;34m.\u001b[0m\u001b[0m_self_setattr_tracking\u001b[0m \u001b[0;34m=\u001b[0m \u001b[0;32mFalse\u001b[0m  \u001b[0;31m# pylint: disable=protected-access\u001b[0m\u001b[0;34m\u001b[0m\u001b[0;34m\u001b[0m\u001b[0m\n\u001b[1;32m    456\u001b[0m     \u001b[0;32mtry\u001b[0m\u001b[0;34m:\u001b[0m\u001b[0;34m\u001b[0m\u001b[0;34m\u001b[0m\u001b[0m\n\u001b[0;32m--> 457\u001b[0;31m       \u001b[0mresult\u001b[0m \u001b[0;34m=\u001b[0m \u001b[0mmethod\u001b[0m\u001b[0;34m(\u001b[0m\u001b[0mself\u001b[0m\u001b[0;34m,\u001b[0m \u001b[0;34m*\u001b[0m\u001b[0margs\u001b[0m\u001b[0;34m,\u001b[0m \u001b[0;34m**\u001b[0m\u001b[0mkwargs\u001b[0m\u001b[0;34m)\u001b[0m\u001b[0;34m\u001b[0m\u001b[0;34m\u001b[0m\u001b[0m\n\u001b[0m\u001b[1;32m    458\u001b[0m     \u001b[0;32mfinally\u001b[0m\u001b[0;34m:\u001b[0m\u001b[0;34m\u001b[0m\u001b[0;34m\u001b[0m\u001b[0m\n\u001b[1;32m    459\u001b[0m       \u001b[0mself\u001b[0m\u001b[0;34m.\u001b[0m\u001b[0m_self_setattr_tracking\u001b[0m \u001b[0;34m=\u001b[0m \u001b[0mprevious_value\u001b[0m  \u001b[0;31m# pylint: disable=protected-access\u001b[0m\u001b[0;34m\u001b[0m\u001b[0;34m\u001b[0m\u001b[0m\n",
            "\u001b[0;32m/usr/local/lib/python3.6/dist-packages/tensorflow/python/keras/engine/training.py\u001b[0m in \u001b[0;36m__init__\u001b[0;34m(self, *args, **kwargs)\u001b[0m\n\u001b[1;32m    260\u001b[0m     \u001b[0;31m# self.non_trainable_weights\u001b[0m\u001b[0;34m\u001b[0m\u001b[0;34m\u001b[0m\u001b[0;34m\u001b[0m\u001b[0m\n\u001b[1;32m    261\u001b[0m     generic_utils.validate_kwargs(kwargs, {'trainable', 'dtype', 'dynamic',\n\u001b[0;32m--> 262\u001b[0;31m                                            'name', 'autocast'})\n\u001b[0m\u001b[1;32m    263\u001b[0m     \u001b[0msuper\u001b[0m\u001b[0;34m(\u001b[0m\u001b[0mModel\u001b[0m\u001b[0;34m,\u001b[0m \u001b[0mself\u001b[0m\u001b[0;34m)\u001b[0m\u001b[0;34m.\u001b[0m\u001b[0m__init__\u001b[0m\u001b[0;34m(\u001b[0m\u001b[0;34m**\u001b[0m\u001b[0mkwargs\u001b[0m\u001b[0;34m)\u001b[0m\u001b[0;34m\u001b[0m\u001b[0;34m\u001b[0m\u001b[0m\n\u001b[1;32m    264\u001b[0m     \u001b[0;31m# By default, Model is a subclass model, which is not in graph network.\u001b[0m\u001b[0;34m\u001b[0m\u001b[0;34m\u001b[0m\u001b[0;34m\u001b[0m\u001b[0m\n",
            "\u001b[0;32m/usr/local/lib/python3.6/dist-packages/tensorflow/python/keras/utils/generic_utils.py\u001b[0m in \u001b[0;36mvalidate_kwargs\u001b[0;34m(kwargs, allowed_kwargs, error_message)\u001b[0m\n\u001b[1;32m    776\u001b[0m   \u001b[0;32mfor\u001b[0m \u001b[0mkwarg\u001b[0m \u001b[0;32min\u001b[0m \u001b[0mkwargs\u001b[0m\u001b[0;34m:\u001b[0m\u001b[0;34m\u001b[0m\u001b[0;34m\u001b[0m\u001b[0m\n\u001b[1;32m    777\u001b[0m     \u001b[0;32mif\u001b[0m \u001b[0mkwarg\u001b[0m \u001b[0;32mnot\u001b[0m \u001b[0;32min\u001b[0m \u001b[0mallowed_kwargs\u001b[0m\u001b[0;34m:\u001b[0m\u001b[0;34m\u001b[0m\u001b[0;34m\u001b[0m\u001b[0m\n\u001b[0;32m--> 778\u001b[0;31m       \u001b[0;32mraise\u001b[0m \u001b[0mTypeError\u001b[0m\u001b[0;34m(\u001b[0m\u001b[0merror_message\u001b[0m\u001b[0;34m,\u001b[0m \u001b[0mkwarg\u001b[0m\u001b[0;34m)\u001b[0m\u001b[0;34m\u001b[0m\u001b[0;34m\u001b[0m\u001b[0m\n\u001b[0m\u001b[1;32m    779\u001b[0m \u001b[0;34m\u001b[0m\u001b[0m\n\u001b[1;32m    780\u001b[0m \u001b[0;34m\u001b[0m\u001b[0m\n",
            "\u001b[0;31mTypeError\u001b[0m: ('Keyword argument not understood:', 'inputs')"
          ]
        }
      ]
    },
    {
      "cell_type": "code",
      "metadata": {
        "id": "yYDYlPBZZHq2",
        "colab_type": "code",
        "colab": {}
      },
      "source": [
        ""
      ],
      "execution_count": null,
      "outputs": []
    }
  ]
}