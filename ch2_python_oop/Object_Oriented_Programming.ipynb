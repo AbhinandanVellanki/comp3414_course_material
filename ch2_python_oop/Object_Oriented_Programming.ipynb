{
  "nbformat": 4,
  "nbformat_minor": 0,
  "metadata": {
    "colab": {
      "name": "Object_Oriented_Programming.ipynb",
      "provenance": [],
      "collapsed_sections": []
    },
    "kernelspec": {
      "name": "python3",
      "display_name": "Python 3"
    }
  },
  "cells": [
    {
      "cell_type": "markdown",
      "metadata": {
        "id": "mN0dLGqNYgZR",
        "colab_type": "text"
      },
      "source": [
        "\n",
        "[![Open In Colab](https://colab.research.google.com/assets/colab-badge.svg)](https://colab.research.google.com/drive/13QtCZszGF2r7GtzGvP7wAaaf0AOUw_kB#scrollTo=mN0dLGqNYgZR)\n",
        "\n"
      ]
    },
    {
      "cell_type": "markdown",
      "metadata": {
        "id": "r70nYoJDIuEl",
        "colab_type": "text"
      },
      "source": [
        "# **OOP in Python** \n",
        "OOP is a way of programming that focuses on using objects and classes to design and build application. "
      ]
    },
    {
      "cell_type": "markdown",
      "metadata": {
        "id": "M9uPet4kTsVF",
        "colab_type": "text"
      },
      "source": [
        "**Class and Object**\n",
        "\n",
        "Class is the blueprint that describes how to make an object. Objects are constructed from the class. Every object has a set of attribute that is defined in the class, so every object of a particular class is expected to have same attributes.\n",
        "So let's create our first class and its instance."
      ]
    },
    {
      "cell_type": "code",
      "metadata": {
        "id": "FEK6U__QNrHK",
        "colab_type": "code",
        "colab": {
          "base_uri": "https://localhost:8080/",
          "height": 51
        },
        "outputId": "a430a387-33c5-4272-e8b4-b13508bf092f"
      },
      "source": [
        "# Create a class called MyClass that does not do any task\n",
        "class MyClass(object):\n",
        " pass\n",
        "# Create first instance of MyClass\n",
        "obj_1 = MyClass()\n",
        "print(obj_1)\n",
        "# Another instance of MyClass\n",
        "obj_2 = MyClass()\n",
        "print (obj_2)\n"
      ],
      "execution_count": null,
      "outputs": [
        {
          "output_type": "stream",
          "text": [
            "<__main__.MyClass object at 0x7fa3812d0400>\n",
            "<__main__.MyClass object at 0x7fa3812d0390>\n"
          ],
          "name": "stdout"
        }
      ]
    },
    {
      "cell_type": "markdown",
      "metadata": {
        "id": "EyOzEuJJPvn2",
        "colab_type": "text"
      },
      "source": [
        "The hex code refers to the address where the object is stored.\n"
      ]
    },
    {
      "cell_type": "markdown",
      "metadata": {
        "id": "4LWGFStyPy84",
        "colab_type": "text"
      },
      "source": [
        "**Methods**\n",
        "\n",
        "Methods refer to the function defined in the class. An instance method requires an instance in order to call it and no decorator. We usually use **self** in the first parameter when creating instance method due to naming convention."
      ]
    },
    {
      "cell_type": "code",
      "metadata": {
        "id": "uOZOpF0oO8zP",
        "colab_type": "code",
        "colab": {
          "base_uri": "https://localhost:8080/",
          "height": 51
        },
        "outputId": "532317fa-f433-4598-fec8-fe5ebf6a7381"
      },
      "source": [
        "class MyClass(object):\n",
        " var = 20\n",
        " def example_function(self):\n",
        "   print (\"Hello World\")\n",
        "my_object = MyClass()\n",
        "print(my_object.var)\n",
        "my_object.example_function()"
      ],
      "execution_count": null,
      "outputs": [
        {
          "output_type": "stream",
          "text": [
            "20\n",
            "Hello World\n"
          ],
          "name": "stdout"
        }
      ]
    },
    {
      "cell_type": "markdown",
      "metadata": {
        "id": "l64pL63ZaI_r",
        "colab_type": "text"
      },
      "source": [
        "**Init Constructor**\n",
        "\n",
        "The **\\_\\_init\\_\\_( )** method is called implicitly as soon as an object of a class is instantiated.\n",
        "\n",
        "Python calls **\\_\\_init\\_\\_( )** during the instantiation to define an additional attribute that should occur when a class is instantiated that may be setting up some beginning values for that object."
      ]
    },
    {
      "cell_type": "code",
      "metadata": {
        "id": "thnUpLBIchxE",
        "colab_type": "code",
        "colab": {
          "base_uri": "https://localhost:8080/",
          "height": 34
        },
        "outputId": "7745d451-dd5d-4d1f-efbc-5d8be603f4e0"
      },
      "source": [
        "class MyClass(object):\n",
        "  def __init__(self,a, b):\n",
        "    self.v1 = a\n",
        "    self.v2 = b\n",
        "x = MyClass(1, 2)\n",
        "print(x.v1, x.v2)"
      ],
      "execution_count": null,
      "outputs": [
        {
          "output_type": "stream",
          "text": [
            "1 2\n"
          ],
          "name": "stdout"
        }
      ]
    },
    {
      "cell_type": "markdown",
      "metadata": {
        "id": "ZIUWr2pOevDf",
        "colab_type": "text"
      },
      "source": [
        "**Working with Class and Instance Data**\n",
        "\n",
        "When designing a class, it is important to decide which data belongs to the instance and which data should be stored into the class. A class data is the data that shared among all the instances, while an instance data is only belongs to a particular instance. Following code is for better understanding."
      ]
    },
    {
      "cell_type": "code",
      "metadata": {
        "id": "fnZ8uyzzfo91",
        "colab_type": "code",
        "colab": {
          "base_uri": "https://localhost:8080/",
          "height": 119
        },
        "outputId": "f9317d9d-82f4-47c0-d075-b55cd2d8dbb7"
      },
      "source": [
        "class InstanceCounter(object):\n",
        "  count = 0\n",
        "  def __init__(self, val):\n",
        "    self.val = val\n",
        "    InstanceCounter.count +=1 \n",
        "  def set_val(self, newval):\n",
        "    self.val = newval\n",
        "  def get_val(self):\n",
        "    return self.val\n",
        "  def get_count(self):\n",
        "    return InstanceCounter.count\n",
        "a = InstanceCounter(9)\n",
        "b = InstanceCounter(18)\n",
        "c = InstanceCounter(27)\n",
        "for obj in (a, b, c):\n",
        " print ('val of obj: %s' %(obj.get_val()))\n",
        " print ('count: %s' %(obj.get_count()))"
      ],
      "execution_count": null,
      "outputs": [
        {
          "output_type": "stream",
          "text": [
            "val of obj: 9\n",
            "count: 3\n",
            "val of obj: 18\n",
            "count: 3\n",
            "val of obj: 27\n",
            "count: 3\n"
          ],
          "name": "stdout"
        }
      ]
    },
    {
      "cell_type": "markdown",
      "metadata": {
        "id": "2S0Bik3khSni",
        "colab_type": "text"
      },
      "source": [
        "\n",
        "---\n"
      ]
    },
    {
      "cell_type": "markdown",
      "metadata": {
        "id": "9k6jggI1UGvL",
        "colab_type": "text"
      },
      "source": [
        "There are three main pillars in Object Oriented Programming. We will explain them in details in the following sections.\n",
        "\n",
        "\n",
        "1.   Encapsulation\n",
        "2.   Inheritence\n",
        "\n",
        "1.   Polymorphism\n",
        "\n",
        "# **1. Encapsulation**\n",
        "OOP enables us to hide the complexity of the internal working of the object. It simplifies and makes it easy to understand to use an object without knowing the internals. Also, changes can be easily manageable.\n",
        "\n",
        "Encapsulation provides the mechanism of restricting the access of some of the object's components, thus the internal representation of an object can't be seen from outside of the object definition. It requires special methods: **Getters/ Setters** to access the data."
      ]
    },
    {
      "cell_type": "code",
      "metadata": {
        "id": "AtTWA9JrGbZO",
        "colab_type": "code",
        "colab": {
          "base_uri": "https://localhost:8080/",
          "height": 34
        },
        "outputId": "7e1b8464-ec13-4eaf-b3cf-0f94e440a982"
      },
      "source": [
        "class MyClass(object):\n",
        "  # Setter\n",
        "  def setAge(self, num):\n",
        "    self.age = num\n",
        "  # Getter\n",
        "  def getAge(self):\n",
        "    return self.age\n",
        "tony = MyClass()\n",
        "tony.setAge(20)\n",
        "print('Tony age is',tony.getAge())\n"
      ],
      "execution_count": null,
      "outputs": [
        {
          "output_type": "stream",
          "text": [
            "Tony age is 20\n"
          ],
          "name": "stdout"
        }
      ]
    },
    {
      "cell_type": "markdown",
      "metadata": {
        "id": "jOHS4P-nIgcB",
        "colab_type": "text"
      },
      "source": [
        "# **2. Inheritence**\n",
        "\n",
        "Inheritence allows the re-use of code. We usually create a general class first and then later extend it to more specialised class. Inheritence allows us to use or inherit all the data field and methods in the general class. Thus, we don't have to rewrite each similar class from scratch.\n",
        "\n",
        "We call the genearl class as **Super** class.\n",
        "While the class extends from the super class is called **Child** class.\n",
        "\n",
        "Let's take a look into the **Inheritence Example**."
      ]
    },
    {
      "cell_type": "code",
      "metadata": {
        "id": "n07kc7DLNzpL",
        "colab_type": "code",
        "colab": {
          "base_uri": "https://localhost:8080/",
          "height": 250
        },
        "outputId": "b609fd87-6d53-4d26-8c57-405d33ce4cfb"
      },
      "source": [
        "class Person:\n",
        "  def __init__(self, fname, sname):\n",
        "    self.firstname = fname\n",
        "    self.surname = sname\n",
        "\n",
        "  def printname(self):\n",
        "    print(self.firstname, self.surname)\n",
        "#Use the Person class to create an object, and then execute the printname method:\n",
        "person1 = Person(\"Peter\", \"Wong\")\n",
        "person1.printname()\n",
        "\n",
        "class Student(Person):\n",
        "  def __init__(self, fname, sname, age):\n",
        "    super().__init__(fname, sname) # By using the super() function, it will automatically inherit the methods and properties from its the superclass.\n",
        "    self.age = age\n",
        "  def printage(self):\n",
        "    print(self.age)\n",
        "student1 = Student(\"Wesley\", \"Chan\",20)\n",
        "student1.printname() #Subclass inherit superclass's methods\n",
        "student1.printage()\n",
        "person1.printage() #Superclass cannot access to subclass's methods, thus errors occur."
      ],
      "execution_count": null,
      "outputs": [
        {
          "output_type": "stream",
          "text": [
            "Peter Wong\n",
            "Wesley Chan\n",
            "20\n"
          ],
          "name": "stdout"
        },
        {
          "output_type": "error",
          "ename": "AttributeError",
          "evalue": "ignored",
          "traceback": [
            "\u001b[0;31m---------------------------------------------------------------------------\u001b[0m",
            "\u001b[0;31mAttributeError\u001b[0m                            Traceback (most recent call last)",
            "\u001b[0;32m<ipython-input-5-ab1b76cf3fb7>\u001b[0m in \u001b[0;36m<module>\u001b[0;34m()\u001b[0m\n\u001b[1;32m     19\u001b[0m \u001b[0mstudent1\u001b[0m\u001b[0;34m.\u001b[0m\u001b[0mprintname\u001b[0m\u001b[0;34m(\u001b[0m\u001b[0;34m)\u001b[0m \u001b[0;31m#Subclass inherit superclass's methods\u001b[0m\u001b[0;34m\u001b[0m\u001b[0;34m\u001b[0m\u001b[0m\n\u001b[1;32m     20\u001b[0m \u001b[0mstudent1\u001b[0m\u001b[0;34m.\u001b[0m\u001b[0mprintage\u001b[0m\u001b[0;34m(\u001b[0m\u001b[0;34m)\u001b[0m\u001b[0;34m\u001b[0m\u001b[0;34m\u001b[0m\u001b[0m\n\u001b[0;32m---> 21\u001b[0;31m \u001b[0mperson1\u001b[0m\u001b[0;34m.\u001b[0m\u001b[0mprintage\u001b[0m\u001b[0;34m(\u001b[0m\u001b[0;34m)\u001b[0m \u001b[0;31m#Superclass cannot access to subclass's methods, thus errors occur.\u001b[0m\u001b[0;34m\u001b[0m\u001b[0;34m\u001b[0m\u001b[0m\n\u001b[0m",
            "\u001b[0;31mAttributeError\u001b[0m: 'Person' object has no attribute 'printage'"
          ]
        }
      ]
    },
    {
      "cell_type": "markdown",
      "metadata": {
        "id": "z-Lr_678SENL",
        "colab_type": "text"
      },
      "source": [
        "# **3. Polymorphism**\n",
        "\n",
        "Polymorphism is an important feature of class definition in Python that is utilized when we have commonly named methods across classes or subclasses. This permits functions to use entities of different types at different times. \n",
        "\n",
        "Let's take a look into the **Polymorphism** Example"
      ]
    },
    {
      "cell_type": "code",
      "metadata": {
        "id": "OmkMQAA4Xt4k",
        "colab_type": "code",
        "colab": {
          "base_uri": "https://localhost:8080/",
          "height": 51
        },
        "outputId": "1aff73d7-1f52-4742-8764-8c97e4a86526"
      },
      "source": [
        "class Person:\n",
        "  def __init__(self, fname, sname):\n",
        "    self.firstname = fname\n",
        "    self.surname = sname\n",
        "\n",
        "  def printinfo(self):\n",
        "    print(self.firstname, self.surname)\n",
        "class Student(Person):\n",
        "  def __init__(self, fname, sname, age):\n",
        "    super().__init__(fname, sname) # By using the super() function, it will automatically inherit the methods and properties from its the superclass.\n",
        "    self.age = age\n",
        "  def printinfo(self):\n",
        "    print(f\"I am a student. My name is {self.firstname} {self.surname}. I am {self.age} years old.\")\n",
        "class Teacher(Person):\n",
        "  def __init__(self, fname, sname, age):\n",
        "    super().__init__(fname, sname)\n",
        "    self.age = age\n",
        "  def printinfo(self):\n",
        "    print(f\"I am a teacher. My name is {self.firstname} {self.surname}. I am {self.age} years old.\")\n",
        "\n",
        "student1 = Student('Brian','Chan', 20)\n",
        "teacher1 = Teacher('Wesley','Wong', 35)\n",
        "for person in (student1,teacher1):\n",
        "  person.printinfo()\n"
      ],
      "execution_count": null,
      "outputs": [
        {
          "output_type": "stream",
          "text": [
            "I am a student. My name is Brian Chan. I am 20 years old.\n",
            "I am a teacher. My name is Wesley Wong. I am 35 years old.\n"
          ],
          "name": "stdout"
        }
      ]
    },
    {
      "cell_type": "markdown",
      "metadata": {
        "id": "n9dN2LB1dyR_",
        "colab_type": "text"
      },
      "source": [
        "All persons show their info (**printinfo()**), but they have different output.\n",
        "# **Method Overidding**\n",
        "When child classes inherit methods and attributes from super class. We can redefine methods and attributes to fit in the child classes. This is known as method overidding.\n",
        "Let's take a look at the **Method Overriding** Example"
      ]
    },
    {
      "cell_type": "code",
      "metadata": {
        "id": "iP_JQ0hhoH9m",
        "colab_type": "code",
        "colab": {
          "base_uri": "https://localhost:8080/",
          "height": 118
        },
        "outputId": "d8fe731c-37bc-4f62-bd56-d8beb10826bd"
      },
      "source": [
        "from math import pi\n",
        "class Shape:\n",
        "    def __init__(self, name):\n",
        "        self.name = name\n",
        "\n",
        "    def area(self):\n",
        "        pass\n",
        "\n",
        "    def info(self):\n",
        "        return \"I am a two-dimensional shape.\"\n",
        "\n",
        "    def __str__(self):\n",
        "        return self.name\n",
        "class Square(Shape):\n",
        "    def __init__(self, length):\n",
        "        super().__init__(\"Square\")\n",
        "        self.length = length\n",
        "\n",
        "    def area(self):\n",
        "        return self.length**2\n",
        "\n",
        "    def info(self):\n",
        "        return \"Squares have each angle equal to 90 degrees.\"\n",
        "class Circle(Shape):\n",
        "    def __init__(self, radius):\n",
        "        super().__init__(\"Circle\")\n",
        "        self.radius = radius\n",
        "    def area(self):\n",
        "        return pi*self.radius**2\n",
        "    \n",
        "\n",
        "s = Square(4)\n",
        "c = Circle(7)\n",
        "print(s)\n",
        "print(c)\n",
        "print(s.info())\n",
        "print(s.area())\n",
        "print(c.info())\n",
        "print(c.area())"
      ],
      "execution_count": 19,
      "outputs": [
        {
          "output_type": "stream",
          "text": [
            "Square\n",
            "Circle\n",
            "Squares have each angle equal to 90 degrees.\n",
            "16\n",
            "I am a two-dimensional shape.\n",
            "153.93804002589985\n"
          ],
          "name": "stdout"
        }
      ]
    },
    {
      "cell_type": "markdown",
      "metadata": {
        "id": "9Rwb7TDWo1rX",
        "colab_type": "text"
      },
      "source": [
        "# **Congratulations! You have completed this chapter.**"
      ]
    }
  ]
}