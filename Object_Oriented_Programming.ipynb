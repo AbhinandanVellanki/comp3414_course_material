{
  "nbformat": 4,
  "nbformat_minor": 0,
  "metadata": {
    "colab": {
      "name": "Object_Oriented_Programming.ipynb",
      "provenance": []
    },
    "kernelspec": {
      "name": "python3",
      "display_name": "Python 3"
    }
  },
  "cells": [
    {
      "cell_type": "markdown",
      "metadata": {
        "id": "r70nYoJDIuEl",
        "colab_type": "text"
      },
      "source": [
        "# **OOP in Python** \n",
        "OOP is a way of programming that focuses on using objects and classes to design and build application. "
      ]
    },
    {
      "cell_type": "markdown",
      "metadata": {
        "id": "M9uPet4kTsVF",
        "colab_type": "text"
      },
      "source": [
        "**Class and Object**\n",
        "\n",
        "Class is the blueprint that describes how to make an object. Objects are constructed from the class. Every object has a set of attribute that is defined in the class, so every object of a particular class is expected to have same attributes.\n",
        "So let's create our first class and its instance."
      ]
    },
    {
      "cell_type": "code",
      "metadata": {
        "id": "FEK6U__QNrHK",
        "colab_type": "code",
        "colab": {
          "base_uri": "https://localhost:8080/",
          "height": 51
        },
        "outputId": "a430a387-33c5-4272-e8b4-b13508bf092f"
      },
      "source": [
        "# Create a class called MyClass that does not do any task\n",
        "class MyClass(object):\n",
        " pass\n",
        "# Create first instance of MyClass\n",
        "obj_1 = MyClass()\n",
        "print(obj_1)\n",
        "# Another instance of MyClass\n",
        "obj_2 = MyClass()\n",
        "print (obj_2)\n"
      ],
      "execution_count": 1,
      "outputs": [
        {
          "output_type": "stream",
          "text": [
            "<__main__.MyClass object at 0x7fa3812d0400>\n",
            "<__main__.MyClass object at 0x7fa3812d0390>\n"
          ],
          "name": "stdout"
        }
      ]
    },
    {
      "cell_type": "markdown",
      "metadata": {
        "id": "EyOzEuJJPvn2",
        "colab_type": "text"
      },
      "source": [
        "The hex code refers to the address where the object is stored.\n"
      ]
    },
    {
      "cell_type": "markdown",
      "metadata": {
        "id": "4LWGFStyPy84",
        "colab_type": "text"
      },
      "source": [
        "**Methods**\n",
        "\n",
        "Methods refer to the function defined in the class. An instance method requires an instance in order to call it and no decorator. We usually use **self** in the first parameter when creating instance method due to naming convention."
      ]
    },
    {
      "cell_type": "code",
      "metadata": {
        "id": "uOZOpF0oO8zP",
        "colab_type": "code",
        "colab": {
          "base_uri": "https://localhost:8080/",
          "height": 51
        },
        "outputId": "532317fa-f433-4598-fec8-fe5ebf6a7381"
      },
      "source": [
        "class MyClass(object):\n",
        " var = 20\n",
        " def example_function(self):\n",
        "   print (\"Hello World\")\n",
        "my_object = MyClass()\n",
        "print(my_object.var)\n",
        "my_object.example_function()"
      ],
      "execution_count": 3,
      "outputs": [
        {
          "output_type": "stream",
          "text": [
            "20\n",
            "Hello World\n"
          ],
          "name": "stdout"
        }
      ]
    },
    {
      "cell_type": "markdown",
      "metadata": {
        "id": "9k6jggI1UGvL",
        "colab_type": "text"
      },
      "source": [
        "There are four main pillars in Object Oriented Programming. We will explain them in details in the following sections.\n",
        "\n",
        "\n",
        "1.   Encapsulation\n",
        "2.   Polymorphism\n",
        "\n",
        "1.   Abstraction\n",
        "2.   Inheritence\n",
        "\n",
        "# **1. Encapsulation**\n",
        "OOP enables us to hide the complexity of the internal working of the object. It simplifies and makes it easy to understand to use an object without knowing the internals. Also, changes can be easily manageable.\n",
        "\n",
        "Encapsulation provides the mechanism of restricting the access of some of the object's components, thus the internal representation of an object can't be seen from outside of the object definition. It requires special methods: **Getters/ Setters** to access the data."
      ]
    },
    {
      "cell_type": "code",
      "metadata": {
        "id": "AtTWA9JrGbZO",
        "colab_type": "code",
        "colab": {
          "base_uri": "https://localhost:8080/",
          "height": 34
        },
        "outputId": "7e1b8464-ec13-4eaf-b3cf-0f94e440a982"
      },
      "source": [
        "class MyClass(object):\n",
        "  # Setter\n",
        "  def setAge(self, num):\n",
        "    self.age = num\n",
        "  # Getter\n",
        "  def getAge(self):\n",
        "    return self.age\n",
        "tony = MyClass()\n",
        "tony.setAge(20)\n",
        "print('Tony age is',tony.getAge())\n"
      ],
      "execution_count": 9,
      "outputs": [
        {
          "output_type": "stream",
          "text": [
            "Tony age is 20\n"
          ],
          "name": "stdout"
        }
      ]
    },
    {
      "cell_type": "markdown",
      "metadata": {
        "id": "jOHS4P-nIgcB",
        "colab_type": "text"
      },
      "source": [
        ""
      ]
    }
  ]
}