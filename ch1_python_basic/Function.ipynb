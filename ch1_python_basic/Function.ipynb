{
  "nbformat": 4,
  "nbformat_minor": 0,
  "metadata": {
    "colab": {
      "name": "Function",
      "provenance": [],
      "collapsed_sections": [
        "zY_DjTKoD-GI",
        "tUiqS8zSCV2X",
        "UEI6gbtqDFnN"
      ],
      "authorship_tag": "ABX9TyPVGOlV9nRWly3ndZMDdYFC",
      "include_colab_link": true
    },
    "kernelspec": {
      "name": "python3",
      "display_name": "Python 3"
    }
  },
  "cells": [
    {
      "cell_type": "markdown",
      "metadata": {
        "id": "view-in-github",
        "colab_type": "text"
      },
      "source": [
        "<a href=\"https://colab.research.google.com/github/wesley34/comp3414_course_material/blob/master/ch1_python_basic/Function.ipynb\" target=\"_parent\"><img src=\"https://colab.research.google.com/assets/colab-badge.svg\" alt=\"Open In Colab\"/></a>"
      ]
    },
    {
      "cell_type": "markdown",
      "metadata": {
        "id": "sZbIGRzinR-S",
        "colab_type": "text"
      },
      "source": [
        "# Function Manipulation"
      ]
    },
    {
      "cell_type": "markdown",
      "metadata": {
        "id": "ashr8oYInfPI",
        "colab_type": "text"
      },
      "source": [
        "## Feel Free to skip, it is a reference for you to check your concept"
      ]
    },
    {
      "cell_type": "markdown",
      "metadata": {
        "id": "8MIAdMI3oI3H",
        "colab_type": "text"
      },
      "source": [
        "\n",
        "Check List\n",
        "1.   Function\n",
        "2.   Lambda function\n",
        "3.   Decorator\n",
        "4.   Decorator in class (You may check ch2 first)\n",
        "\n"
      ]
    },
    {
      "cell_type": "markdown",
      "metadata": {
        "id": "rfXLnGdfoQdt",
        "colab_type": "text"
      },
      "source": [
        "## Level 0 - function basic"
      ]
    },
    {
      "cell_type": "code",
      "metadata": {
        "id": "JKyzc-HTnYJl",
        "colab_type": "code",
        "colab": {
          "base_uri": "https://localhost:8080/",
          "height": 90
        },
        "outputId": "963033e4-a0dd-4f85-af83-5cc17d6242ba"
      },
      "source": [
        "def add(a,b):\n",
        "  return a+b\n",
        "def mul(a,b):\n",
        "  return a*b\n",
        "\n",
        "print(add(1,2))\n",
        "print(mul(1,2))\n",
        "print(add(mul(1,1),mul(2,2))) #very bad coding style you should refractor it\n",
        "\n",
        "# You should give them some meaningful/conceptaul name\n",
        "# If you cannot think of\n",
        "# Just type it longer to fully represent it\n",
        "a_dot_b = mul(1,1)\n",
        "c_dot_d = mul(2,2)\n",
        "vector_sum = add(a_dot_b,c_dot_d)\n",
        "print(vector_sum)"
      ],
      "execution_count": null,
      "outputs": [
        {
          "output_type": "stream",
          "text": [
            "3\n",
            "2\n",
            "5\n",
            "5\n"
          ],
          "name": "stdout"
        }
      ]
    },
    {
      "cell_type": "markdown",
      "metadata": {
        "id": "Dis6QrvBo8tP",
        "colab_type": "text"
      },
      "source": [
        "## Level 1 - lambda function"
      ]
    },
    {
      "cell_type": "code",
      "metadata": {
        "id": "T0ftwuCGnqSi",
        "colab_type": "code",
        "colab": {
          "base_uri": "https://localhost:8080/",
          "height": 35
        },
        "outputId": "82f1ddd9-5cbe-4bd5-88af-bd8e88d0f169"
      },
      "source": [
        "add_1_function = lambda x : x+1\n",
        "print(add_1_function(2))"
      ],
      "execution_count": null,
      "outputs": [
        {
          "output_type": "stream",
          "text": [
            "3\n"
          ],
          "name": "stdout"
        }
      ]
    },
    {
      "cell_type": "markdown",
      "metadata": {
        "id": "O15daEvGqHNQ",
        "colab_type": "text"
      },
      "source": [
        "## Level 1.1 - lambda function applications\n",
        "\n",
        "\n",
        "1.   apply as filter\n",
        "2.   faster manipulation on data compare to function\n",
        "\n"
      ]
    },
    {
      "cell_type": "code",
      "metadata": {
        "id": "Ti2bh8gUpEGv",
        "colab_type": "code",
        "colab": {
          "base_uri": "https://localhost:8080/",
          "height": 127
        },
        "outputId": "a3846c93-045f-482b-aa3d-5114ae1fc02b"
      },
      "source": [
        "#@title Lambda function application\n",
        "option = \"pandas\" #@param [\"numpy\", \"pandas\",\"maps\"]\n",
        "import numpy as np\n",
        "import pandas as pd\n",
        "simulated_input = np.linspace(-1,1,10)\n",
        "print(\"This is the simulated_datat\", simulated_input) #check the value\n",
        "\n",
        "print(\"\",end=\"\\n\\n\")\n",
        "\n",
        "if option==\"pandas\":\n",
        "  # in pandas way\n",
        "  print(\"pandas output\",pd.DataFrame(simulated_input).apply(add_1_function))\n",
        "elif option==\"numpy\":\n",
        "  # in numpy way\n",
        "  print(\"numpy output\",add_1_function(simulated_input))\n",
        "else:\n",
        "  # map \n",
        "  simulated_mapped = map(add_1_function,simulated_input)\n",
        "  simulated_mapped_list = list(simulated_mapped)\n",
        "  print(simulated_mapped_list)"
      ],
      "execution_count": null,
      "outputs": [
        {
          "output_type": "stream",
          "text": [
            "This is the simulated_datat [-1.         -0.77777778 -0.55555556 -0.33333333 -0.11111111  0.11111111\n",
            "  0.33333333  0.55555556  0.77777778  1.        ]\n",
            "\n",
            "\n",
            "numpy output [0.         0.22222222 0.44444444 0.66666667 0.88888889 1.11111111\n",
            " 1.33333333 1.55555556 1.77777778 2.        ]\n"
          ],
          "name": "stdout"
        }
      ]
    },
    {
      "cell_type": "code",
      "metadata": {
        "id": "52HkxcT6uTy2",
        "colab_type": "code",
        "colab": {}
      },
      "source": [
        ""
      ],
      "execution_count": null,
      "outputs": []
    },
    {
      "cell_type": "markdown",
      "metadata": {
        "id": "ilEGzIo9u2zC",
        "colab_type": "text"
      },
      "source": [
        "## Level 2 - Decorator\n",
        "\n",
        "\n"
      ]
    },
    {
      "cell_type": "markdown",
      "metadata": {
        "id": "cJxXh1UNDZTV",
        "colab_type": "text"
      },
      "source": [
        "\n",
        "# Step to create standard decorator\n",
        "\n",
        "\n",
        "*   It is ok to do else-step if you know what you are doing.\n",
        "\n",
        "\n",
        "1.   make a function with inner-function , else you will have error mentioned below\n",
        "2.   add @function instead of @function(), else you will get some error mentioned below\n",
        "\n"
      ]
    },
    {
      "cell_type": "markdown",
      "metadata": {
        "id": "fbRqcO2DwnkW",
        "colab_type": "text"
      },
      "source": [
        "## Level 2.1 - No decorator and nested function"
      ]
    },
    {
      "cell_type": "code",
      "metadata": {
        "id": "0-Xkopjuu6cd",
        "colab_type": "code",
        "colab": {}
      },
      "source": [
        "def teacher(func):\n",
        "  # first function in function of teacher\n",
        "  def wrapper():\n",
        "    print(\"Teacher's name is called\",func.__name__) ## func.__name__ gets the name of the function\n",
        "    print(func.__name__,func())\n",
        "  # return by teacher function\n",
        "  return wrapper\n",
        "def timmy():\n",
        "  return \"teaches math\"\n"
      ],
      "execution_count": 215,
      "outputs": []
    },
    {
      "cell_type": "code",
      "metadata": {
        "id": "4U4t0dFGxLw4",
        "colab_type": "code",
        "colab": {
          "base_uri": "https://localhost:8080/",
          "height": 35
        },
        "outputId": "6d2a6ca4-2d21-49ae-dbe9-4a422dca36f7"
      },
      "source": [
        "teacher(timmy)"
      ],
      "execution_count": 216,
      "outputs": [
        {
          "output_type": "execute_result",
          "data": {
            "text/plain": [
              "<function __main__.teacher.<locals>.wrapper>"
            ]
          },
          "metadata": {
            "tags": []
          },
          "execution_count": 216
        }
      ]
    },
    {
      "cell_type": "code",
      "metadata": {
        "id": "SR6qPKRPxcRh",
        "colab_type": "code",
        "colab": {
          "base_uri": "https://localhost:8080/",
          "height": 54
        },
        "outputId": "4f4106a6-a78a-4ccb-f8a8-b88484317e53"
      },
      "source": [
        "teacher(timmy)() \n",
        "# teacher(timmy) return wrapper\n",
        "# teacher(timmy) == wrapper\n",
        "# we know wrapper cannot run but wrapper()\n",
        "# and hence teacher(student)() == wrapper()"
      ],
      "execution_count": 217,
      "outputs": [
        {
          "output_type": "stream",
          "text": [
            "Teacher's name is called timmy\n",
            "timmy teaches math\n"
          ],
          "name": "stdout"
        }
      ]
    },
    {
      "cell_type": "code",
      "metadata": {
        "id": "2e2ngSmBxdE1",
        "colab_type": "code",
        "colab": {}
      },
      "source": [
        ""
      ],
      "execution_count": null,
      "outputs": []
    },
    {
      "cell_type": "markdown",
      "metadata": {
        "id": "6qHTRucbx2I5",
        "colab_type": "text"
      },
      "source": [
        "## Level 2.2 Another way - Decorator"
      ]
    },
    {
      "cell_type": "code",
      "metadata": {
        "id": "qKEbVtp9x-Cu",
        "colab_type": "code",
        "colab": {
          "base_uri": "https://localhost:8080/",
          "height": 54
        },
        "outputId": "d5f90d90-7ef6-4324-c6a6-ff90ea765bf5"
      },
      "source": [
        "@teacher # wrapped by teacher *\n",
        "def jimmy():\n",
        "  return \"teaches math\"\n",
        "# in the definition pharse\n",
        "# python does\n",
        "# jimmy = teacher(jimmy) #return teacher's wrapper  a.k.a function pointer of wrapper function\n",
        "# hence, jummy == teacher(jummy) == wrapper\n",
        "# wrapper cannot run the program but wrapper()\n",
        "# hence\n",
        "# jimmy() == wrapper() can run !!\n",
        "jimmy() \n",
        "\n",
        "\n"
      ],
      "execution_count": null,
      "outputs": [
        {
          "output_type": "stream",
          "text": [
            "Teacher's name is called jimmy\n",
            "jimmy teaches math\n"
          ],
          "name": "stdout"
        }
      ]
    },
    {
      "cell_type": "code",
      "metadata": {
        "id": "egd5Y25h7lUk",
        "colab_type": "code",
        "colab": {
          "base_uri": "https://localhost:8080/",
          "height": 54
        },
        "outputId": "31e57fdd-0f35-4a80-83fa-de9687a21dec"
      },
      "source": [
        "# try this , it is same as above\n",
        "def jimmy2():\n",
        "  return \"teaches math\"\n",
        "jimmy2 = teacher(jimmy2)\n",
        "jimmy2()"
      ],
      "execution_count": null,
      "outputs": [
        {
          "output_type": "stream",
          "text": [
            "Teacher's name is called jimmy2\n",
            "jimmy2 teaches math\n"
          ],
          "name": "stdout"
        }
      ]
    },
    {
      "cell_type": "markdown",
      "metadata": {
        "id": "vVIJdgGu06Yz",
        "colab_type": "text"
      },
      "source": [
        "## Level 2.2 Double wrap"
      ]
    },
    {
      "cell_type": "code",
      "metadata": {
        "id": "ITywC34ZzMgz",
        "colab_type": "code",
        "colab": {}
      },
      "source": [
        "# refresh on nested function\n",
        "def citizen(func):\n",
        "  def citi_wrap():\n",
        "    print(func.__name__,\"is citizen\")\n",
        "    return func()\n",
        "  return citi_wrap\n",
        "\n",
        "\n",
        "def brian():\n",
        "  message = \"Imagine, just Imagine you have a phone!\"\n",
        "  return message"
      ],
      "execution_count": null,
      "outputs": []
    },
    {
      "cell_type": "code",
      "metadata": {
        "id": "-jxk_Uye4LGS",
        "colab_type": "code",
        "colab": {
          "base_uri": "https://localhost:8080/",
          "height": 54
        },
        "outputId": "43420f17-6999-4e7e-f399-580687a201c8"
      },
      "source": [
        "citizen(brian)()"
      ],
      "execution_count": null,
      "outputs": [
        {
          "output_type": "stream",
          "text": [
            "brian is citizen\n"
          ],
          "name": "stdout"
        },
        {
          "output_type": "execute_result",
          "data": {
            "application/vnd.google.colaboratory.intrinsic+json": {
              "type": "string"
            },
            "text/plain": [
              "'Imagine, just Imagine you have a phone!'"
            ]
          },
          "metadata": {
            "tags": []
          },
          "execution_count": 116
        }
      ]
    },
    {
      "cell_type": "code",
      "metadata": {
        "id": "PdjN4wZS4-bb",
        "colab_type": "code",
        "colab": {}
      },
      "source": [
        ""
      ],
      "execution_count": 217,
      "outputs": []
    },
    {
      "cell_type": "code",
      "metadata": {
        "id": "DVPeFtza5fM2",
        "colab_type": "code",
        "colab": {}
      },
      "source": [
        "# refresh on single decorator function\n",
        "def citizen(func):\n",
        "  def citi_wrap():\n",
        "    print(func.__name__,\"is citizen\")\n",
        "    return func()\n",
        "  return citi_wrap\n",
        "\n",
        "@citizen\n",
        "def brian():\n",
        "  message = \"Imagine, just Imagine you have a phone!\"\n",
        "  return message"
      ],
      "execution_count": null,
      "outputs": []
    },
    {
      "cell_type": "code",
      "metadata": {
        "id": "zBurvL-76shK",
        "colab_type": "code",
        "colab": {
          "base_uri": "https://localhost:8080/",
          "height": 54
        },
        "outputId": "fd246535-9449-441d-a6e5-b27a3c6c6f2b"
      },
      "source": [
        "brian()"
      ],
      "execution_count": null,
      "outputs": [
        {
          "output_type": "stream",
          "text": [
            "brian is citizen\n"
          ],
          "name": "stdout"
        },
        {
          "output_type": "execute_result",
          "data": {
            "application/vnd.google.colaboratory.intrinsic+json": {
              "type": "string"
            },
            "text/plain": [
              "'Imagine, just Imagine you have a phone!'"
            ]
          },
          "metadata": {
            "tags": []
          },
          "execution_count": 145
        }
      ]
    },
    {
      "cell_type": "code",
      "metadata": {
        "id": "TzeQcizk6y70",
        "colab_type": "code",
        "colab": {}
      },
      "source": [
        ""
      ],
      "execution_count": null,
      "outputs": []
    },
    {
      "cell_type": "code",
      "metadata": {
        "id": "Rjsekb5s60ig",
        "colab_type": "code",
        "colab": {}
      },
      "source": [
        "# Double wrap example 1\n",
        "def citizen(func):\n",
        "  def citi_wrap():\n",
        "    print(func.__name__,\"is citizen\")\n",
        "    return func()\n",
        "  return citi_wrap\n",
        "\n",
        "@citizen\n",
        "@teacher\n",
        "def brian():\n",
        "  message = \"Imagine, just Imagine you have a phone!\"\n",
        "  return message"
      ],
      "execution_count": null,
      "outputs": []
    },
    {
      "cell_type": "code",
      "metadata": {
        "id": "Y7cS98Ou62MW",
        "colab_type": "code",
        "colab": {
          "base_uri": "https://localhost:8080/",
          "height": 72
        },
        "outputId": "0b0b41be-a578-4169-d38f-317f902035dd"
      },
      "source": [
        "brian()\n",
        "# calling order\n",
        "# citizen's citi_wrap -> teacher's wrapper -> brain\n",
        "# to refresh, if no decorator\n",
        "# citizen(teacher(brian)) == brian in decorator form == citi_wrap\n",
        "# citizen(teacher(brian))() == brain() == citi_wrap()\n",
        "\n",
        "# warning if you now call\n",
        "# citizen(teacher(brian))() \n",
        "# it will not work as you added decorator,hence\n",
        "# citizen(teacher(brian))()  !=  brian() in decorator form\n",
        "# but it becomes as you added decorator\n",
        "# citizen(teacher(brian))()  == citizen(teacher(citizen(teacher(brain))))()"
      ],
      "execution_count": null,
      "outputs": [
        {
          "output_type": "stream",
          "text": [
            "wrapper is citizen\n",
            "Teacher's name is called brian\n",
            "brian Imagine, just Imagine you have a phone!\n"
          ],
          "name": "stdout"
        }
      ]
    },
    {
      "cell_type": "code",
      "metadata": {
        "id": "nm9U-nNH64N2",
        "colab_type": "code",
        "colab": {}
      },
      "source": [
        ""
      ],
      "execution_count": null,
      "outputs": []
    },
    {
      "cell_type": "markdown",
      "metadata": {
        "id": "6unNMGEfCNDJ",
        "colab_type": "text"
      },
      "source": [
        "## Level 2.3 - Error"
      ]
    },
    {
      "cell_type": "code",
      "metadata": {
        "id": "FfQAPlkM7SNM",
        "colab_type": "code",
        "colab": {
          "base_uri": "https://localhost:8080/",
          "height": 72
        },
        "outputId": "372aa23f-87e2-4e24-d8a8-f3d044d9b4aa"
      },
      "source": [
        "# Multi wrap example 1 # which is wrong\n",
        "def breathe(func):\n",
        "  print(func.__name__,\"is breathing\")\n",
        "  return func\n",
        "def eat(func):\n",
        "  print(func.__name__,\"is eating\")\n",
        "  return func\n",
        "def drink(func):\n",
        "  print(func.__name__,\"is drinking\")\n",
        "  return func\n",
        "\n",
        "@breathe\n",
        "@eat\n",
        "@drink\n",
        "def shiba():\n",
        "  print(\" I am a brown dog\")\n",
        "  return \"loves sleeping\"\n",
        "# you can see that it outputs something in defintion stage"
      ],
      "execution_count": null,
      "outputs": [
        {
          "output_type": "stream",
          "text": [
            "shiba is drinking\n",
            "shiba is eating\n",
            "shiba is breathing\n"
          ],
          "name": "stdout"
        }
      ]
    },
    {
      "cell_type": "code",
      "metadata": {
        "id": "JsMEgDL-CHLp",
        "colab_type": "code",
        "colab": {
          "base_uri": "https://localhost:8080/",
          "height": 35
        },
        "outputId": "1fc33989-60d9-4451-9860-50d4df3b9dd5"
      },
      "source": [
        "shiba"
      ],
      "execution_count": null,
      "outputs": [
        {
          "output_type": "execute_result",
          "data": {
            "text/plain": [
              "<function __main__.shiba>"
            ]
          },
          "metadata": {
            "tags": []
          },
          "execution_count": 184
        }
      ]
    },
    {
      "cell_type": "markdown",
      "metadata": {
        "id": "XsTE6dqvBwpq",
        "colab_type": "text"
      },
      "source": [
        "### WHY? It prints out somthing !! Consider the explaination below"
      ]
    },
    {
      "cell_type": "code",
      "metadata": {
        "id": "9Q-cVgtR8Z90",
        "colab_type": "code",
        "colab": {
          "base_uri": "https://localhost:8080/",
          "height": 72
        },
        "outputId": "6fb011da-c322-4865-c214-eab8dda3fa28"
      },
      "source": [
        "# when you defining something\n",
        "# in definition pharse what it does is\n",
        "# it already calling something when you type\n",
        "# @breathe\n",
        "# @eat\n",
        "# @drink\n",
        "# def shiba():\n",
        "#   print(\" I am a brown dog\")\n",
        "#   return \"loves sleeping\"\n",
        "# the above code equivalents to this\n",
        "shiba = breathe(eat(drink(shiba)))# returns shiba function pointer but it called print function in each decorater already\n"
      ],
      "execution_count": null,
      "outputs": [
        {
          "output_type": "stream",
          "text": [
            "shiba is drinking\n",
            "shiba is eating\n",
            "shiba is breathing\n"
          ],
          "name": "stdout"
        }
      ]
    },
    {
      "cell_type": "code",
      "metadata": {
        "id": "5OSVwAwc8abS",
        "colab_type": "code",
        "colab": {
          "base_uri": "https://localhost:8080/",
          "height": 35
        },
        "outputId": "e1344d49-e62a-49e9-8d2e-284a25ce261f"
      },
      "source": [
        "shiba"
      ],
      "execution_count": null,
      "outputs": [
        {
          "output_type": "execute_result",
          "data": {
            "text/plain": [
              "<function __main__.shiba>"
            ]
          },
          "metadata": {
            "tags": []
          },
          "execution_count": 181
        }
      ]
    },
    {
      "cell_type": "code",
      "metadata": {
        "id": "2uJR4meh-4H5",
        "colab_type": "code",
        "colab": {
          "base_uri": "https://localhost:8080/",
          "height": 54
        },
        "outputId": "d827ad32-f3a4-4d00-f202-d23f7cc729a3"
      },
      "source": [
        "shiba()"
      ],
      "execution_count": null,
      "outputs": [
        {
          "output_type": "stream",
          "text": [
            " I am a brown dog\n"
          ],
          "name": "stdout"
        },
        {
          "output_type": "execute_result",
          "data": {
            "application/vnd.google.colaboratory.intrinsic+json": {
              "type": "string"
            },
            "text/plain": [
              "'loves sleeping'"
            ]
          },
          "metadata": {
            "tags": []
          },
          "execution_count": 182
        }
      ]
    },
    {
      "cell_type": "markdown",
      "metadata": {
        "id": "zY_DjTKoD-GI",
        "colab_type": "text"
      },
      "source": [
        "### correct way"
      ]
    },
    {
      "cell_type": "code",
      "metadata": {
        "id": "EEjryiVBD_kv",
        "colab_type": "code",
        "colab": {}
      },
      "source": [
        "# Multi wrap example 1\n",
        "def breathe(func):\n",
        "  def wrap():\n",
        "    print(func.__name__,\"is breathing\")\n",
        "    return func()\n",
        "  return wrap\n",
        "def eat(func):\n",
        "  def wrap():\n",
        "    print(func.__name__,\"is eating\")\n",
        "    return func()\n",
        "  return wrap\n",
        "def drink(func):\n",
        "  def wrap():\n",
        "    print(func.__name__,\"is drinking\")\n",
        "    return func()\n",
        "  return wrap\n",
        "@breathe\n",
        "@eat\n",
        "@drink\n",
        "def shiba():\n",
        "  print(\"I am a brown dog\")\n",
        "  return \"loves sleeping\"\n",
        "# nothing print out "
      ],
      "execution_count": null,
      "outputs": []
    },
    {
      "cell_type": "code",
      "metadata": {
        "id": "KZ2MmvHbEbeE",
        "colab_type": "code",
        "colab": {
          "base_uri": "https://localhost:8080/",
          "height": 109
        },
        "outputId": "20c608f4-9804-477b-9fa7-6a0b74050bc1"
      },
      "source": [
        "shiba()"
      ],
      "execution_count": null,
      "outputs": [
        {
          "output_type": "stream",
          "text": [
            "wrap is breathing\n",
            "wrap is eating\n",
            "shiba is drinking\n",
            "I am a brown dog\n"
          ],
          "name": "stdout"
        },
        {
          "output_type": "execute_result",
          "data": {
            "application/vnd.google.colaboratory.intrinsic+json": {
              "type": "string"
            },
            "text/plain": [
              "'loves sleeping'"
            ]
          },
          "metadata": {
            "tags": []
          },
          "execution_count": 200
        }
      ]
    },
    {
      "cell_type": "markdown",
      "metadata": {
        "id": "QSYWeg9gEiz_",
        "colab_type": "text"
      },
      "source": [
        "### same as"
      ]
    },
    {
      "cell_type": "code",
      "metadata": {
        "id": "EjNWcpTIEc2p",
        "colab_type": "code",
        "colab": {}
      },
      "source": [
        "def shibaV2():\n",
        "  print(\"I am a brown dog\")\n",
        "  return \"loves sleeping\"\n",
        "# nothing print out "
      ],
      "execution_count": null,
      "outputs": []
    },
    {
      "cell_type": "code",
      "metadata": {
        "id": "IvUoueFUEUPn",
        "colab_type": "code",
        "colab": {}
      },
      "source": [
        "shibaV2 = breathe(eat(drink(shibaV2)))  # didn't touch any print function in decorator, just passing function pointer!!\n",
        "# return breathe's wrap \n",
        "# it didnt called wrap(),just function pointer!!\n",
        "# so when we call wrap() {in other word shibaV2},we can start the function"
      ],
      "execution_count": null,
      "outputs": []
    },
    {
      "cell_type": "code",
      "metadata": {
        "id": "gYiEokc4EPiU",
        "colab_type": "code",
        "colab": {
          "base_uri": "https://localhost:8080/",
          "height": 54
        },
        "outputId": "c9947422-8696-4dfd-c8e1-7466a8076745"
      },
      "source": [
        "shibaV2()"
      ],
      "execution_count": null,
      "outputs": [
        {
          "output_type": "stream",
          "text": [
            "I am a brown dog\n"
          ],
          "name": "stdout"
        },
        {
          "output_type": "execute_result",
          "data": {
            "application/vnd.google.colaboratory.intrinsic+json": {
              "type": "string"
            },
            "text/plain": [
              "'loves sleeping'"
            ]
          },
          "metadata": {
            "tags": []
          },
          "execution_count": 214
        }
      ]
    },
    {
      "cell_type": "markdown",
      "metadata": {
        "id": "tUiqS8zSCV2X",
        "colab_type": "text"
      },
      "source": [
        "### another error"
      ]
    },
    {
      "cell_type": "code",
      "metadata": {
        "id": "rRrGJu02CXHt",
        "colab_type": "code",
        "colab": {
          "base_uri": "https://localhost:8080/",
          "height": 282
        },
        "outputId": "a11ef1ed-302a-417d-8b8f-533fc4b79625"
      },
      "source": [
        "# Multi wrap wrong example # which is wrong\n",
        "def breathe(func):\n",
        "  print(func.__name__,\"is breathing\")\n",
        "  return func\n",
        "def eat(func):\n",
        "  print(func.__name__,\"is eating\")\n",
        "  return func\n",
        "def drink(func):\n",
        "  print(func.__name__,\"is drinking\")\n",
        "  return func\n",
        "def walk(func=print):\n",
        "  print(\"walking\")\n",
        "  return func(\"happy\")\n",
        "\n",
        "@walk() # it is walk() instead walk\n",
        "def corgi():\n",
        "  print(\" I am a brown dog\")\n",
        "  return \"loves walking\"\n",
        "# you can see that it outputs something in defintion stage"
      ],
      "execution_count": null,
      "outputs": [
        {
          "output_type": "stream",
          "text": [
            "walking\n",
            "happy\n"
          ],
          "name": "stdout"
        },
        {
          "output_type": "error",
          "ename": "TypeError",
          "evalue": "ignored",
          "traceback": [
            "\u001b[0;31m---------------------------------------------------------------------------\u001b[0m",
            "\u001b[0;31mTypeError\u001b[0m                                 Traceback (most recent call last)",
            "\u001b[0;32m<ipython-input-194-0b2e082236ae>\u001b[0m in \u001b[0;36m<module>\u001b[0;34m()\u001b[0m\n\u001b[1;32m     13\u001b[0m   \u001b[0;32mreturn\u001b[0m \u001b[0mfunc\u001b[0m\u001b[0;34m(\u001b[0m\u001b[0;34m\"happy\"\u001b[0m\u001b[0;34m)\u001b[0m\u001b[0;34m\u001b[0m\u001b[0;34m\u001b[0m\u001b[0m\n\u001b[1;32m     14\u001b[0m \u001b[0;34m\u001b[0m\u001b[0m\n\u001b[0;32m---> 15\u001b[0;31m \u001b[0;34m@\u001b[0m\u001b[0mwalk\u001b[0m\u001b[0;34m(\u001b[0m\u001b[0;34m)\u001b[0m \u001b[0;31m# it is walk() instead walk\u001b[0m\u001b[0;34m\u001b[0m\u001b[0;34m\u001b[0m\u001b[0m\n\u001b[0m\u001b[1;32m     16\u001b[0m \u001b[0;32mdef\u001b[0m \u001b[0mcorgi\u001b[0m\u001b[0;34m(\u001b[0m\u001b[0;34m)\u001b[0m\u001b[0;34m:\u001b[0m\u001b[0;34m\u001b[0m\u001b[0;34m\u001b[0m\u001b[0m\n\u001b[1;32m     17\u001b[0m   \u001b[0mprint\u001b[0m\u001b[0;34m(\u001b[0m\u001b[0;34m\" I am a brown dog\"\u001b[0m\u001b[0;34m)\u001b[0m\u001b[0;34m\u001b[0m\u001b[0;34m\u001b[0m\u001b[0m\n",
            "\u001b[0;31mTypeError\u001b[0m: 'NoneType' object is not callable"
          ]
        }
      ]
    },
    {
      "cell_type": "markdown",
      "metadata": {
        "id": "UEI6gbtqDFnN",
        "colab_type": "text"
      },
      "source": [
        "### it is same as below"
      ]
    },
    {
      "cell_type": "code",
      "metadata": {
        "id": "jYHc-4nRChSu",
        "colab_type": "code",
        "colab": {
          "base_uri": "https://localhost:8080/",
          "height": 209
        },
        "outputId": "1bf5883d-267a-40d5-bf90-ef8fec9c33c1"
      },
      "source": [
        "corgi = walk()(corgi)"
      ],
      "execution_count": null,
      "outputs": [
        {
          "output_type": "stream",
          "text": [
            "walking\n",
            "happy\n"
          ],
          "name": "stdout"
        },
        {
          "output_type": "error",
          "ename": "TypeError",
          "evalue": "ignored",
          "traceback": [
            "\u001b[0;31m---------------------------------------------------------------------------\u001b[0m",
            "\u001b[0;31mTypeError\u001b[0m                                 Traceback (most recent call last)",
            "\u001b[0;32m<ipython-input-195-f34576e6cf26>\u001b[0m in \u001b[0;36m<module>\u001b[0;34m()\u001b[0m\n\u001b[0;32m----> 1\u001b[0;31m \u001b[0mcorgi\u001b[0m \u001b[0;34m=\u001b[0m \u001b[0mwalk\u001b[0m\u001b[0;34m(\u001b[0m\u001b[0;34m)\u001b[0m\u001b[0;34m(\u001b[0m\u001b[0mcorgi\u001b[0m\u001b[0;34m)\u001b[0m\u001b[0;34m\u001b[0m\u001b[0;34m\u001b[0m\u001b[0m\n\u001b[0m",
            "\u001b[0;31mTypeError\u001b[0m: 'NoneType' object is not callable"
          ]
        }
      ]
    },
    {
      "cell_type": "code",
      "metadata": {
        "id": "hWPfrYWLC7Ze",
        "colab_type": "code",
        "colab": {}
      },
      "source": [
        "## the correct way is to add wraper function as inner function\n",
        "## and do not use @f() but @f\n",
        "## you may use so indeed, if you know what you are doing\n",
        "## say if you think @f() can do what you want"
      ],
      "execution_count": null,
      "outputs": []
    },
    {
      "cell_type": "code",
      "metadata": {
        "id": "h-EkIIcxG1G0",
        "colab_type": "code",
        "colab": {}
      },
      "source": [
        "## decorator with parameter\n",
        "## need 3-nested function\n",
        "def clock(todo):\n",
        "  def decorator(func): #decorator\n",
        "    def wrapper(): #wrapper\n",
        "      print(\"The time now is\")\n",
        "      print(todo)\n",
        "      return func()\n",
        "    return wrapper\n",
        "  return decorator\n",
        "\n",
        "#pass todo_argument inside\n",
        "@clock(todo=(\"Go back to home\"))\n",
        "def fiveOclock():\n",
        "    print(\"five !!!\")\n"
      ],
      "execution_count": null,
      "outputs": []
    },
    {
      "cell_type": "code",
      "metadata": {
        "id": "ZKHiC5tn9C48",
        "colab_type": "code",
        "colab": {
          "base_uri": "https://localhost:8080/",
          "height": 72
        },
        "outputId": "24ecc20e-656b-4b75-e0d6-2753a1b452b9"
      },
      "source": [
        "fiveOclock()"
      ],
      "execution_count": null,
      "outputs": [
        {
          "output_type": "stream",
          "text": [
            "The time now is\n",
            "Go back to home\n",
            "five !!!\n"
          ],
          "name": "stdout"
        }
      ]
    },
    {
      "cell_type": "code",
      "metadata": {
        "id": "PovJhJSo9UPg",
        "colab_type": "code",
        "colab": {}
      },
      "source": [
        "## a.k.a\n",
        "def clock(todo):\n",
        "  def decorator(func): #decorator\n",
        "    def wrapper(): #wrapper\n",
        "      print(\"The time now is\")\n",
        "      print(todo)\n",
        "      return func()\n",
        "    return wrapper\n",
        "  return decorator\n",
        "\n",
        "#pass todo_argument inside\n",
        "def fiveOclock():\n",
        "    print(\"five !!!\")"
      ],
      "execution_count": null,
      "outputs": []
    },
    {
      "cell_type": "code",
      "metadata": {
        "id": "osLQxAVo9Wb3",
        "colab_type": "code",
        "colab": {
          "base_uri": "https://localhost:8080/",
          "height": 72
        },
        "outputId": "bc515c72-969b-4c06-9ca6-b7ceca44c693"
      },
      "source": [
        "# same as\n",
        "# so the first function use for past function hence the second function is decorator , third function is the wrapper\n",
        "# so we need 3 nested-structure\n",
        "clock(\"Go back to home\")(fiveOclock)()"
      ],
      "execution_count": null,
      "outputs": [
        {
          "output_type": "stream",
          "text": [
            "The time now is\n",
            "Go back to home\n",
            "five !!!\n"
          ],
          "name": "stdout"
        }
      ]
    },
    {
      "cell_type": "markdown",
      "metadata": {
        "id": "xnn4PRtntbl0",
        "colab_type": "text"
      },
      "source": [
        "### Level 2.4 Class decorator"
      ]
    },
    {
      "cell_type": "code",
      "metadata": {
        "id": "B5dSr6aQteW8",
        "colab_type": "code",
        "colab": {}
      },
      "source": [
        "class Robot():\n",
        "  def __init__(self,func):\n",
        "    self.ability = func\n",
        "  def typeDescription(self):\n",
        "    print(\"Description: Mutated to robot\",self.ability.__name__,\"Attack speed +300%\")\n",
        "    \n",
        "@Robot\n",
        "def dog():\n",
        "  print(\"Description: Run speed +150%\")"
      ],
      "execution_count": null,
      "outputs": []
    },
    {
      "cell_type": "code",
      "metadata": {
        "id": "jhIkDy_ct-Pq",
        "colab_type": "code",
        "colab": {
          "base_uri": "https://localhost:8080/",
          "height": 54
        },
        "outputId": "a3512ccf-8cfa-49d5-8f82-8a4f0154e320"
      },
      "source": [
        "robot_dog = dog # dog = Robot(dog) -> created a class object type Robot with self.ability = dog\n",
        "robot_dog.ability()\n",
        "robot_dog.typeDescription()"
      ],
      "execution_count": null,
      "outputs": [
        {
          "output_type": "stream",
          "text": [
            "Description: Run speed +150%\n",
            "Description: Mutated to robot dog Attack speed +300%\n"
          ],
          "name": "stdout"
        }
      ]
    },
    {
      "cell_type": "code",
      "metadata": {
        "id": "tf0WQsoRt_5v",
        "colab_type": "code",
        "colab": {}
      },
      "source": [
        ""
      ],
      "execution_count": null,
      "outputs": []
    },
    {
      "cell_type": "markdown",
      "metadata": {
        "id": "c9BJ5-lSvq7X",
        "colab_type": "text"
      },
      "source": [
        "## Level 2.5 Descriptior"
      ]
    },
    {
      "cell_type": "code",
      "metadata": {
        "id": "nq3nYhC6vupp",
        "colab_type": "code",
        "colab": {}
      },
      "source": [
        "class Dog:\n",
        "    def __get__(self, instance, className): ## instance is pet_corgi ## className is Pet()\n",
        "\n",
        "        print(\"{} is a {}\".format(className, instance))\n",
        "    def __set__(self, instance, equipment):\n",
        "        print(\"{} gets a {}\".format(instance, equipment))\n",
        "    def __delete__(self, instance):\n",
        "        print(\"{} is delected\".format(instance))\n",
        "\n",
        "class Pet:\n",
        "    pet_Corgi = Dog()"
      ],
      "execution_count": null,
      "outputs": []
    },
    {
      "cell_type": "code",
      "metadata": {
        "id": "NHTfYdZzwDro",
        "colab_type": "code",
        "colab": {
          "base_uri": "https://localhost:8080/",
          "height": 72
        },
        "outputId": "4f808d9a-be9e-40d8-edd4-065d2c0482ff"
      },
      "source": [
        "pet = Pet()\n",
        "pet.pet_Corgi\n",
        "pet.pet_Corgi = \"Laser Gun\"\n",
        "del pet.pet_Corgi"
      ],
      "execution_count": null,
      "outputs": [
        {
          "output_type": "stream",
          "text": [
            "<class '__main__.Pet'> is a <__main__.Pet object at 0x7fc05092b7f0>\n",
            "<__main__.Pet object at 0x7fc05092b7f0> gets a Laser Gun\n",
            "<__main__.Pet object at 0x7fc05092b7f0> is delected\n"
          ],
          "name": "stdout"
        }
      ]
    },
    {
      "cell_type": "code",
      "metadata": {
        "id": "3OPd1PgbwH_-",
        "colab_type": "code",
        "colab": {
          "base_uri": "https://localhost:8080/",
          "height": 72
        },
        "outputId": "387ce16e-712f-4c5f-e262-16ba0dd12bd8"
      },
      "source": [
        "pet = Pet()\n",
        "Pet.__dict__['pet_Corgi'].__get__(pet,  Pet);\n",
        "Pet.__dict__['pet_Corgi'].__set__(pet,  \"Laser Gun\");\n",
        "Pet.__dict__['pet_Corgi'].__delete__(pet);"
      ],
      "execution_count": null,
      "outputs": [
        {
          "output_type": "stream",
          "text": [
            "<class '__main__.Pet'> is a <__main__.Pet object at 0x7fc050975d30>\n",
            "<__main__.Pet object at 0x7fc050975d30> gets a Laser Gun\n",
            "<__main__.Pet object at 0x7fc050975d30> is delected\n"
          ],
          "name": "stdout"
        }
      ]
    },
    {
      "cell_type": "code",
      "metadata": {
        "id": "cc-q1UeQwMOK",
        "colab_type": "code",
        "colab": {}
      },
      "source": [
        "## quick check\n",
        "# Pet is class \n",
        "# pet is instance of Pet\n",
        "# pet corgi is instance of Dog \n",
        "# so Pet stores pet corgi and call pet corgi(Dog) function\n",
        "\n",
        "\n",
        "# ___something__ can be deemed as special function unlike normal function\n",
        "# you can call it or trigger it by some speical move\n",
        "\n",
        "# Then 3 functions are called\n",
        "# __get__ is called when you call pet.pet_Corgi\n",
        "# __set__ is called when you assign pet.pet_Corgi\n",
        "# __delete__ is called when you delete pet_Corgi from dictionary a.k.a Pet.__dict__\n",
        "\n",
        "# You may add more special things inside those function"
      ],
      "execution_count": null,
      "outputs": []
    },
    {
      "cell_type": "code",
      "metadata": {
        "id": "-wFGYjj2zT-m",
        "colab_type": "code",
        "colab": {}
      },
      "source": [
        ""
      ],
      "execution_count": null,
      "outputs": []
    },
    {
      "cell_type": "markdown",
      "metadata": {
        "id": "yTj4CJ59zxST",
        "colab_type": "text"
      },
      "source": [
        "### Decorator way to do descriptior"
      ]
    },
    {
      "cell_type": "code",
      "metadata": {
        "id": "VhpQ1a47zy_x",
        "colab_type": "code",
        "colab": {}
      },
      "source": [
        "class Pet:\n",
        "    def __init__(self, name, ability):\n",
        "        \n",
        "        self.__name = name\n",
        "        self.__ability = ability\n",
        "    \n",
        "    @property #this is a special decorator to do a.k.a setter in geter\n",
        "    def petName(self):\n",
        "        return self.__name\n",
        "        \n",
        "    @petName.setter #you can add .setter after the function name wrapped by property a.k.a setter in descriptor\n",
        "    def petName(self, name):\n",
        "        self.__name = name\n",
        "    \n",
        "    @petName.deleter #you can add .setter after the function name wrapped by property a.k.a deleter in descriptor\n",
        "    def petName(self):\n",
        "        del self.__name\n",
        "    \n",
        "    # you can add multi property decorator\n",
        "    @property\n",
        "    def petAbility(self):\n",
        "      return self.__ability\n",
        "    \n",
        "    @petAbility.setter\n",
        "    def petAbility(self,ability):\n",
        "      self.__ability = ability\n",
        "    \n",
        "    @petAbility.deleter\n",
        "    def petAbility(self):\n",
        "      del self.__ability"
      ],
      "execution_count": null,
      "outputs": []
    },
    {
      "cell_type": "code",
      "metadata": {
        "id": "OmtXPCMHz-1A",
        "colab_type": "code",
        "colab": {
          "base_uri": "https://localhost:8080/",
          "height": 108
        },
        "outputId": "78c8c12a-b58e-4de4-faf1-ea93938e5ec0"
      },
      "source": [
        "pet = Pet(\"shiba\",\"kill 5 people in 1 second\")\n",
        "print(pet.petName)\n",
        "pet.petName = \"shiba number2\"\n",
        "print(pet.petName)\n",
        "pet.petName = \"shiba number3\"\n",
        "print(pet.petName)\n",
        "del pet.petName #print(pet.petName) cannot be called as pet.petName is deleted\n",
        "pet.petName = \"corgi\"\n",
        "print(pet.petName)\n",
        "pet.petAbility = \"Nuclear attack\" ### changed\n",
        "print(pet.petAbility)\n",
        "del pet.petAbility\n"
      ],
      "execution_count": null,
      "outputs": [
        {
          "output_type": "stream",
          "text": [
            "shiba\n",
            "shiba number2\n",
            "shiba number3\n",
            "corgi\n",
            "Nuclear attack\n"
          ],
          "name": "stdout"
        }
      ]
    },
    {
      "cell_type": "code",
      "metadata": {
        "id": "_cfDZtOm0Cp_",
        "colab_type": "code",
        "colab": {}
      },
      "source": [
        ""
      ],
      "execution_count": null,
      "outputs": []
    },
    {
      "cell_type": "markdown",
      "metadata": {
        "id": "4U4klIwJ2jGT",
        "colab_type": "text"
      },
      "source": [
        "# Level 2.6 more on decorators in class"
      ]
    },
    {
      "cell_type": "code",
      "metadata": {
        "id": "xQqHzz_s2ltA",
        "colab_type": "code",
        "colab": {}
      },
      "source": [
        "class Emoji:\n",
        "  @staticmethod #static method in python a.k.a staticmethod decorator\n",
        "  def smile(words):\n",
        "    print(\"hahahaha\",words)\n",
        "  "
      ],
      "execution_count": null,
      "outputs": []
    },
    {
      "cell_type": "code",
      "metadata": {
        "id": "T9_VgXyj2sWB",
        "colab_type": "code",
        "colab": {
          "base_uri": "https://localhost:8080/",
          "height": 35
        },
        "outputId": "71fe3ec8-f7d2-4086-9bb6-9c991a51a0f8"
      },
      "source": [
        "Emoji.smile(\"dumb\") ## no need to make instance to Emoji class but you can call the function a.k.a static function"
      ],
      "execution_count": null,
      "outputs": [
        {
          "output_type": "stream",
          "text": [
            "hahahaha dumb\n"
          ],
          "name": "stdout"
        }
      ]
    },
    {
      "cell_type": "code",
      "metadata": {
        "id": "-dZLHJaq2t2F",
        "colab_type": "code",
        "colab": {}
      },
      "source": [
        "class Emoji:\n",
        "  @classmethod ## classmethod decorator, can be used for both staticmethod /class method \n",
        "  def sad(classType,x):\n",
        "    print('hahahaha',classType)\n",
        "  \n",
        "  def smile(self,x):\n",
        "    print('hahahaha',x)\n",
        "  "
      ],
      "execution_count": null,
      "outputs": []
    },
    {
      "cell_type": "code",
      "metadata": {
        "id": "DoNksIqv3PdX",
        "colab_type": "code",
        "colab": {
          "base_uri": "https://localhost:8080/",
          "height": 72
        },
        "outputId": "cbc751a3-90cd-4781-fdc7-c2f062afebbd"
      },
      "source": [
        "emoji = Emoji()\n",
        "emoji.smile(\"dumb\")\n",
        "emoji.sad(\"dumb\")\n",
        "Emoji.sad(\"dumb\")"
      ],
      "execution_count": null,
      "outputs": [
        {
          "output_type": "stream",
          "text": [
            "hahahaha dumb\n",
            "hahahaha <class '__main__.Emoji'>\n",
            "hahahaha <class '__main__.Emoji'>\n"
          ],
          "name": "stdout"
        }
      ]
    },
    {
      "cell_type": "code",
      "metadata": {
        "id": "Qmx-4_9P3VOP",
        "colab_type": "code",
        "colab": {}
      },
      "source": [
        ""
      ],
      "execution_count": null,
      "outputs": []
    },
    {
      "cell_type": "markdown",
      "metadata": {
        "id": "VZJPheVV5Jn1",
        "colab_type": "text"
      },
      "source": [
        "### Level 2.7 Overloading"
      ]
    },
    {
      "cell_type": "code",
      "metadata": {
        "id": "rZ3fH-UB5_Nl",
        "colab_type": "code",
        "colab": {}
      },
      "source": [
        "class Point:\n",
        "  def __init__(self, x=0, y=0):\n",
        "      self.x = x\n",
        "      self.y = y\n",
        "\n",
        "  def __str__(self):\n",
        "      return \"({0},{1})\".format(self.x, self.y)\n",
        "\n",
        "  def __add__(self, another):\n",
        "      x = self.x + another.x\n",
        "      y = self.y + another.y\n",
        "      return Point(x, y)"
      ],
      "execution_count": 1,
      "outputs": []
    },
    {
      "cell_type": "code",
      "metadata": {
        "id": "BamTPE4s5LMW",
        "colab_type": "code",
        "colab": {
          "base_uri": "https://localhost:8080/",
          "height": 35
        },
        "outputId": "d1bdcedb-1733-45bc-a00d-e16610ff4add"
      },
      "source": [
        "point_A = Point(1,2)\n",
        "point_B = Point(2,3)\n",
        "point_C = point_A+point_B ## %% you cannot do this if you do not define __add__ as there is no native add operator for Point Class\n",
        "print(point_C) ## %% you cannot print this if you didn't define __str__ as print function does not support Point Class"
      ],
      "execution_count": 4,
      "outputs": [
        {
          "output_type": "stream",
          "text": [
            "(3,5)\n"
          ],
          "name": "stdout"
        }
      ]
    },
    {
      "cell_type": "code",
      "metadata": {
        "id": "0s_rYWb150jx",
        "colab_type": "code",
        "colab": {}
      },
      "source": [
        "## This is a better way to construct our function through overload decorator\n",
        "## https://stackoverflow.com/questions/8654666/decorator-for-overloading-in-python ##"
      ],
      "execution_count": 5,
      "outputs": []
    },
    {
      "cell_type": "code",
      "metadata": {
        "id": "ZHYvSEnQP87E",
        "colab_type": "code",
        "colab": {}
      },
      "source": [
        "from functools import singledispatch\n",
        "\n",
        "# this is single type variable version\n",
        "@singledispatch\n",
        "def adder(a,b):\n",
        "  raise NotImplementedError\n",
        "  "
      ],
      "execution_count": 163,
      "outputs": []
    },
    {
      "cell_type": "code",
      "metadata": {
        "id": "1lD82PXGgfkS",
        "colab_type": "code",
        "colab": {}
      },
      "source": [
        "# only supoort both a,b is str\n",
        "@adder.register(str) #now we support string addition\n",
        "def adder(a,b):\n",
        "  the_sum = a+b\n",
        "  return the_sum"
      ],
      "execution_count": 164,
      "outputs": []
    },
    {
      "cell_type": "code",
      "metadata": {
        "id": "73m5_bVXfRIx",
        "colab_type": "code",
        "colab": {}
      },
      "source": [
        ""
      ],
      "execution_count": 170,
      "outputs": []
    },
    {
      "cell_type": "code",
      "metadata": {
        "id": "ugipBwrreltL",
        "colab_type": "code",
        "colab": {
          "base_uri": "https://localhost:8080/",
          "height": 35
        },
        "outputId": "1aee96dd-2391-422f-9acd-6c94dbfaf51d"
      },
      "source": [
        "adder(1,2)"
      ],
      "execution_count": 171,
      "outputs": [
        {
          "output_type": "execute_result",
          "data": {
            "text/plain": [
              "3"
            ]
          },
          "metadata": {
            "tags": []
          },
          "execution_count": 171
        }
      ]
    },
    {
      "cell_type": "code",
      "metadata": {
        "id": "KlX1s43bejJS",
        "colab_type": "code",
        "colab": {
          "base_uri": "https://localhost:8080/",
          "height": 36
        },
        "outputId": "8457c862-4a7e-42f8-8a98-c19cd8749c4e"
      },
      "source": [
        "adder(\"3\",\"9\")"
      ],
      "execution_count": 172,
      "outputs": [
        {
          "output_type": "execute_result",
          "data": {
            "application/vnd.google.colaboratory.intrinsic+json": {
              "type": "string"
            },
            "text/plain": [
              "'39'"
            ]
          },
          "metadata": {
            "tags": []
          },
          "execution_count": 172
        }
      ]
    },
    {
      "cell_type": "code",
      "metadata": {
        "id": "emM9yJ-uTnsC",
        "colab_type": "code",
        "colab": {
          "base_uri": "https://localhost:8080/",
          "height": 90
        },
        "outputId": "3044efb4-9067-449b-a5cb-119364e5a881"
      },
      "source": [
        "## multimethod\n",
        "!pip install multimethod"
      ],
      "execution_count": 175,
      "outputs": [
        {
          "output_type": "stream",
          "text": [
            "Collecting multimethod\n",
            "  Downloading https://files.pythonhosted.org/packages/47/01/c0570b8bcac36c752b4c458d74fabc707fa078c464f25b1c1f0fcd247c9a/multimethod-1.3-py2.py3-none-any.whl\n",
            "Installing collected packages: multimethod\n",
            "Successfully installed multimethod-1.3\n"
          ],
          "name": "stdout"
        }
      ]
    },
    {
      "cell_type": "code",
      "metadata": {
        "id": "A33YV9aphPbX",
        "colab_type": "code",
        "colab": {}
      },
      "source": [
        "from multimethod import multimethod\n",
        "\n",
        "@multimethod\n",
        "def func(x: None,y: None):\n",
        "  return NotImplementedError\n",
        "# this support anything below ,there are total 4 combinations are worked below\n",
        "@func.register(int,str) # we support int str addition\n",
        "@func.register(str,str) # we support str str addition, and return a sum instead of concat \n",
        "@func.register(int,int) # we support int int addition, as normal\n",
        "@func.register(str,int) # we support str int addition \n",
        "def _(x,y):\n",
        "  return int(x)+int(y)\n",
        "\n",
        "@func.register(list,list) # we support list list addition and return a sum\n",
        "def _(x,y):\n",
        "  the_sum = 0\n",
        "  for i in x:\n",
        "    the_sum+=i\n",
        "  for j in y:\n",
        "    the_sum+=j\n",
        "  return the_sum\n",
        "    "
      ],
      "execution_count": 211,
      "outputs": []
    },
    {
      "cell_type": "code",
      "metadata": {
        "id": "fiKaREZhhsxm",
        "colab_type": "code",
        "colab": {
          "base_uri": "https://localhost:8080/",
          "height": 35
        },
        "outputId": "11d524a9-fcc5-4887-a025-d82ab5090b6f"
      },
      "source": [
        "func(1,\"2\"),func(\"1\",\"2\"),func(1,2),func(\"1\",2)"
      ],
      "execution_count": 212,
      "outputs": [
        {
          "output_type": "execute_result",
          "data": {
            "text/plain": [
              "(3, 3, 3, 3)"
            ]
          },
          "metadata": {
            "tags": []
          },
          "execution_count": 212
        }
      ]
    },
    {
      "cell_type": "code",
      "metadata": {
        "id": "_xIenIrphzoj",
        "colab_type": "code",
        "colab": {
          "base_uri": "https://localhost:8080/",
          "height": 35
        },
        "outputId": "bfbb10cf-f65a-4f4b-f581-4d802f2ffe60"
      },
      "source": [
        "func([1,2,3],[4,5,6])"
      ],
      "execution_count": 213,
      "outputs": [
        {
          "output_type": "execute_result",
          "data": {
            "text/plain": [
              "21"
            ]
          },
          "metadata": {
            "tags": []
          },
          "execution_count": 213
        }
      ]
    },
    {
      "cell_type": "markdown",
      "metadata": {
        "id": "b0HnC3QFjgXK",
        "colab_type": "text"
      },
      "source": [
        "## Level 2.8 Other decorator"
      ]
    },
    {
      "cell_type": "markdown",
      "metadata": {
        "id": "OyGzxUmLjmqY",
        "colab_type": "text"
      },
      "source": [
        "## Other Decorators may not be useful on this project. If you are interested in other types of developments, like server or web-dev, feel free to read more on\n",
        "*   https://docs.python.org/3/library/functools.html#functools.singledispatch\n",
        "\n",
        "\n",
        "\n"
      ]
    },
    {
      "cell_type": "code",
      "metadata": {
        "id": "PVB0j4MPj_l3",
        "colab_type": "code",
        "colab": {}
      },
      "source": [
        ""
      ],
      "execution_count": null,
      "outputs": []
    },
    {
      "cell_type": "markdown",
      "metadata": {
        "id": "5CA_9FHWkCCc",
        "colab_type": "text"
      },
      "source": [
        "## Congrats!!"
      ]
    }
  ]
}