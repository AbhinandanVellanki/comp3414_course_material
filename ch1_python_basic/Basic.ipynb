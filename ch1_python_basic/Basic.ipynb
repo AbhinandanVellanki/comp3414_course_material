{
  "nbformat": 4,
  "nbformat_minor": 0,
  "metadata": {
    "colab": {
      "name": "Basic.ipynb",
      "provenance": [],
      "authorship_tag": "ABX9TyMRzM8OlXBLS38u8S8cMJD/",
      "include_colab_link": true
    },
    "kernelspec": {
      "name": "python3",
      "display_name": "Python 3"
    }
  },
  "cells": [
    {
      "cell_type": "markdown",
      "metadata": {
        "id": "view-in-github",
        "colab_type": "text"
      },
      "source": [
        "<a href=\"https://colab.research.google.com/github/wesley34/comp3414_course_material/blob/master/ch1_python_basic/Basic.ipynb\" target=\"_parent\"><img src=\"https://colab.research.google.com/assets/colab-badge.svg\" alt=\"Open In Colab\"/></a>"
      ]
    },
    {
      "cell_type": "markdown",
      "metadata": {
        "id": "8G7W6um6Bxwq",
        "colab_type": "text"
      },
      "source": [
        "<a href=\"https://colab.research.google.com/github/googlecolab/colabtools/blob/master/notebooks/colab-github-demo.ipynb\">\n",
        "  <img src=\"https://colab.research.google.com/assets/colab-badge.svg\" alt=\"Open In Colab\"/>\n",
        "</a>"
      ]
    },
    {
      "cell_type": "markdown",
      "metadata": {
        "id": "qy_VXW5rhsI_",
        "colab_type": "text"
      },
      "source": [
        "# This section helps you to refresh on syntax and libarary in python that is required for the competition. Feel free to skip."
      ]
    },
    {
      "cell_type": "markdown",
      "metadata": {
        "id": "H7MWrSMf0Soi",
        "colab_type": "text"
      },
      "source": [
        "<h3> Order of importance in this lab</h3>\n",
        "<ol>\n",
        "  <li> naming convention - important </li>\n",
        "  <li> nested function - important</li>\n",
        "  <li> lambda function - very important</li>\n",
        "  <li> zip - important</li>\n",
        "  <li> map - very important</li>\n",
        "  <li> enumerate - important</li>\n",
        "  <li> try catch - know the concept is enough</li>\n",
        "  <li> multithread - know the concept is enough</li>\n",
        "</ol>"
      ]
    },
    {
      "cell_type": "code",
      "metadata": {
        "id": "ERUscUgkhwEd",
        "colab_type": "code",
        "colab": {}
      },
      "source": [
        "# naming convention important\n",
        "\n",
        "# Constant: all captial word, underscore\n",
        "EXAMPLE_CONSTANT = 10\n",
        "\n",
        "# variable: underscore, lowercase\n",
        "example_variable = 10\n",
        "\n",
        "# function naming: underscore, lowercase\n",
        "def exampleFunction():\n",
        "  pass\n",
        "\n",
        "# class naming: camel case\n",
        "class ExampleClass():\n",
        "  pass\n",
        "\n",
        "## please make meaningful name. Please assume others do not have piror knowledge on what you are doing hence do not use shortform frequently. like\n",
        "a = 1\n",
        "b = 1\n",
        "c = 1\n",
        "\n",
        "### warning this is very very important\n",
        "## please remake your code if your code is too complicated or too cumpsy\n",
        "## that means the way you do is bad\n",
        "## since this is a collabrative world\n",
        "## others need to understand your code\n",
        "\n",
        "## practise more and be patient for trials !!"
      ],
      "execution_count": 1,
      "outputs": []
    },
    {
      "cell_type": "code",
      "metadata": {
        "id": "TBblYWbbj8-n",
        "colab_type": "code",
        "colab": {}
      },
      "source": [
        ""
      ],
      "execution_count": 1,
      "outputs": []
    },
    {
      "cell_type": "markdown",
      "metadata": {
        "id": "JIdOX-ccl9BA",
        "colab_type": "text"
      },
      "source": [
        "# Basic data structure and logic (You may skip this part)"
      ]
    },
    {
      "cell_type": "code",
      "metadata": {
        "id": "yQG8sVC_khBS",
        "colab_type": "code",
        "colab": {
          "base_uri": "https://localhost:8080/",
          "height": 54
        },
        "outputId": "c0d4b335-e604-4eb8-b289-1406bc18be44"
      },
      "source": [
        "# int and double\n",
        "int_variable = 10\n",
        "double_variable = 10\n",
        "print( \"int with double will auto cast to double\")\n",
        "print(int_variable / double_variable)"
      ],
      "execution_count": 2,
      "outputs": [
        {
          "output_type": "stream",
          "text": [
            "int with double will auto cast to double\n",
            "1.0\n"
          ],
          "name": "stdout"
        }
      ]
    },
    {
      "cell_type": "code",
      "metadata": {
        "id": "c68ID8WYkvw7",
        "colab_type": "code",
        "colab": {
          "base_uri": "https://localhost:8080/",
          "height": 54
        },
        "outputId": "74a922e3-cb6a-4dd3-a6b8-801d719e657d"
      },
      "source": [
        "# string\n",
        "# concatenate of string\n",
        "first_word = \"ABC\"\n",
        "second_word = \"EFG\"\n",
        "print(first_word+second_word) # apply to variable case\n",
        "print(\"ABC\" + \"EFG\") # become ABCEFG"
      ],
      "execution_count": 3,
      "outputs": [
        {
          "output_type": "stream",
          "text": [
            "ABCEFG\n",
            "ABCEFG\n"
          ],
          "name": "stdout"
        }
      ]
    },
    {
      "cell_type": "code",
      "metadata": {
        "id": "SMB4BzrMleyY",
        "colab_type": "code",
        "colab": {
          "base_uri": "https://localhost:8080/",
          "height": 72
        },
        "outputId": "cd0d8eb6-faca-4434-bd07-68b5f46d00c6"
      },
      "source": [
        "# bool\n",
        "first_value = 10\n",
        "second_value = 100\n",
        "thrid_value = 1000\n",
        "\n",
        "print(first_value==first_value)\n",
        "print(second_value>=first_value)\n",
        "print(second_value<=thrid_value)"
      ],
      "execution_count": 4,
      "outputs": [
        {
          "output_type": "stream",
          "text": [
            "True\n",
            "True\n",
            "True\n"
          ],
          "name": "stdout"
        }
      ]
    },
    {
      "cell_type": "code",
      "metadata": {
        "id": "hqnkacRIl4iP",
        "colab_type": "code",
        "colab": {
          "base_uri": "https://localhost:8080/",
          "height": 54
        },
        "outputId": "2e718821-b1fb-4224-953d-419af68e7ab7"
      },
      "source": [
        "# if elif else\n",
        "your_input = int(input()) #type your input and then cast it to int\n",
        "if first_value == your_input:\n",
        "  print(\"same than expect\")\n",
        "elif (first_value>your_input):\n",
        "  print(\"smaller than expect\")\n",
        "else:\n",
        "  print(\"larger than expect\")"
      ],
      "execution_count": 5,
      "outputs": [
        {
          "output_type": "stream",
          "text": [
            "11\n",
            "larger than expect\n"
          ],
          "name": "stdout"
        }
      ]
    },
    {
      "cell_type": "code",
      "metadata": {
        "id": "dNu-B5gCovfG",
        "colab_type": "code",
        "colab": {
          "base_uri": "https://localhost:8080/",
          "height": 200
        },
        "outputId": "008747dd-c958-4d92-d558-ab333e103715"
      },
      "source": [
        "# for loop with range\n",
        "for i in range(10):\n",
        "  print(i)"
      ],
      "execution_count": 6,
      "outputs": [
        {
          "output_type": "stream",
          "text": [
            "0\n",
            "1\n",
            "2\n",
            "3\n",
            "4\n",
            "5\n",
            "6\n",
            "7\n",
            "8\n",
            "9\n"
          ],
          "name": "stdout"
        }
      ]
    },
    {
      "cell_type": "code",
      "metadata": {
        "id": "R76JLAAbo2fk",
        "colab_type": "code",
        "colab": {
          "base_uri": "https://localhost:8080/",
          "height": 72
        },
        "outputId": "9e87839e-dfdd-4055-a9a5-7fcb435fab6d"
      },
      "source": [
        "# for loop with iterators\n",
        "example_list = [\"apple\",\"orange\",\"banana\"]\n",
        "for i in example_list:\n",
        "  print(i)"
      ],
      "execution_count": 7,
      "outputs": [
        {
          "output_type": "stream",
          "text": [
            "apple\n",
            "orange\n",
            "banana\n"
          ],
          "name": "stdout"
        }
      ]
    },
    {
      "cell_type": "code",
      "metadata": {
        "id": "imnFDz8co9R7",
        "colab_type": "code",
        "colab": {
          "base_uri": "https://localhost:8080/",
          "height": 108
        },
        "outputId": "d490249b-5bd7-48b6-b61f-46267dc5af9a"
      },
      "source": [
        "# make list, double list\n",
        "example_list = [\"apple\",\"orange\",\"banana\"]\n",
        "print([i for i in example_list])\n",
        "print(range(10))\n",
        "print(list(range(10))) # need to give it a type first\n",
        "\n",
        "len_of_example_list = len(example_list)\n",
        "merged = zip(example_list,range(len_of_example_list)) \n",
        "print(merged) # you need to give it a type first\n",
        "\n",
        "merged_list = list(merged) #type list\n",
        "print(merged_list)"
      ],
      "execution_count": 8,
      "outputs": [
        {
          "output_type": "stream",
          "text": [
            "['apple', 'orange', 'banana']\n",
            "range(0, 10)\n",
            "[0, 1, 2, 3, 4, 5, 6, 7, 8, 9]\n",
            "<zip object at 0x7fa4168e5808>\n",
            "[('apple', 0), ('orange', 1), ('banana', 2)]\n"
          ],
          "name": "stdout"
        }
      ]
    },
    {
      "cell_type": "code",
      "metadata": {
        "id": "bnKvVnycpBF3",
        "colab_type": "code",
        "colab": {
          "base_uri": "https://localhost:8080/",
          "height": 145
        },
        "outputId": "e8001806-a6db-47bf-ced5-eb8d4758b54e"
      },
      "source": [
        "# you may iterate for 2 \n",
        "example_list = [\"apple\",\"orange\",\"banana\"]\n",
        "merged_list = zip(range(len_of_example_list),example_list) \n",
        "for i,j in merged_list:\n",
        "  print(i,\" \",j)\n",
        "\n",
        "print(\"\",end=\"\\n\")\n",
        "\n",
        "# we may do like this\n",
        "# no need cast the type ,different to merged_list which is casted to list , check above\n",
        "for i,j in zip(range(len_of_example_list),example_list): \n",
        "  print(i, \"\", j)"
      ],
      "execution_count": 14,
      "outputs": [
        {
          "output_type": "stream",
          "text": [
            "0   apple\n",
            "1   orange\n",
            "2   banana\n",
            "\n",
            "0  apple\n",
            "1  orange\n",
            "2  banana\n"
          ],
          "name": "stdout"
        }
      ]
    },
    {
      "cell_type": "code",
      "metadata": {
        "id": "Gz_6FBytkqoW",
        "colab_type": "code",
        "colab": {
          "base_uri": "https://localhost:8080/",
          "height": 127
        },
        "outputId": "6fcbe353-ea51-4e3f-a36f-1e8b563cb6e2"
      },
      "source": [
        "# we may have enumerators as above\n",
        "for i,j in enumerate([\"apple\",\"orange\",\"banana\"]):\n",
        "  print(i,j)\n",
        "\n",
        "print(\"\",end=\"\\n\")\n",
        "\n",
        "#we conclude they are the same\n",
        "print(list(enumerate([\"apple\",\"orange\",\"banana\"])))\n",
        "print(list(zip(range(len_of_example_list),example_list)))"
      ],
      "execution_count": 22,
      "outputs": [
        {
          "output_type": "stream",
          "text": [
            "0 apple\n",
            "1 orange\n",
            "2 banana\n",
            "\n",
            "[(0, 'apple'), (1, 'orange'), (2, 'banana')]\n",
            "[(0, 'apple'), (1, 'orange'), (2, 'banana')]\n"
          ],
          "name": "stdout"
        }
      ]
    },
    {
      "cell_type": "code",
      "metadata": {
        "id": "-DiZgwfppVkr",
        "colab_type": "code",
        "colab": {
          "base_uri": "https://localhost:8080/",
          "height": 200
        },
        "outputId": "16591812-2c17-491d-aba1-3ac6866493f9"
      },
      "source": [
        "# dict and its application \n",
        "example_dict = dict()\n",
        "example_dict[\"key_1\"] = \"this is key 1 item\"\n",
        "example_dict[\"key_2\"] = 2\n",
        "\n",
        "print(\"Part 1\")\n",
        "print(\"dict: \", example_dict)\n",
        "print(\"dict items: \",example_dict.items())\n",
        "print(\"dict values: \",example_dict.values())\n",
        "print(\"dict keys: \",example_dict.keys(),end=\"\\n\\n\")\n",
        "\n",
        "\n",
        "print(\"Part 2\")\n",
        "print(\"Iterate on dict\")\n",
        "for key,value in example_dict.items():\n",
        "  print(key,\" : \", value)"
      ],
      "execution_count": 10,
      "outputs": [
        {
          "output_type": "stream",
          "text": [
            "Part 1\n",
            "dict:  {'key_1': 'this is key 1 item', 'key_2': 2}\n",
            "dict items:  dict_items([('key_1', 'this is key 1 item'), ('key_2', 2)])\n",
            "dict values:  dict_values(['this is key 1 item', 2])\n",
            "dict keys:  dict_keys(['key_1', 'key_2'])\n",
            "\n",
            "Part 2\n",
            "Iterate on dict\n",
            "key_1  :  this is key 1 item\n",
            "key_2  :  2\n"
          ],
          "name": "stdout"
        }
      ]
    },
    {
      "cell_type": "code",
      "metadata": {
        "id": "cMZJuIJduY4x",
        "colab_type": "code",
        "colab": {
          "base_uri": "https://localhost:8080/",
          "height": 182
        },
        "outputId": "f4b29a31-d413-4c29-a564-c464420edcb3"
      },
      "source": [
        "## default dict can supply for missing values\n",
        "import collections\n",
        "\n",
        "collection_dict_with_int = collections.defaultdict(int) #you may use other type like string,list and bool ...\n",
        "for key,value in example_dict.items():\n",
        "  collection_dict_with_int[key] = value\n",
        "\n",
        "print(collection_dict_with_int[\"key_1\"])\n",
        "print(collection_dict_with_int[\"no such key\"],end=\"\\n\\n\") # no this key, and it prints default value  0 if you use int. If you use list then it will be []\n",
        "\n",
        "collection_dict_with_list = collections.defaultdict(list)\n",
        "print(collection_dict_with_list[\"no such key\"],end=\"\\n\\n\") # no this key and output default value []\n",
        "\n",
        "collection_dict_with_str = collections.defaultdict(str)\n",
        "print(collection_dict_with_str[\"no such key\"],end=\"\\n\\n\") # no this key and output default value \"\"\n",
        "\n",
        "\n",
        "collection_dict_with_bool = collections.defaultdict(bool)\n",
        "print(collection_dict_with_bool[\"no such key\"],end=\"\\n\\n\") # no this key and output default value false\n",
        "\n",
        "# you shall explore more for other class or even custome class\n",
        "# inherit it with collections.key and function __missing__()\n",
        "# it is ok that if you do not know this , you may learn it afterwards in chapter 2\n"
      ],
      "execution_count": 11,
      "outputs": [
        {
          "output_type": "stream",
          "text": [
            "this is key 1 item\n",
            "0\n",
            "\n",
            "[]\n",
            "\n",
            "\n",
            "\n",
            "False\n",
            "\n"
          ],
          "name": "stdout"
        }
      ]
    },
    {
      "cell_type": "markdown",
      "metadata": {
        "id": "woNZDqnNwiYb",
        "colab_type": "text"
      },
      "source": [
        "# Function\n"
      ]
    },
    {
      "cell_type": "code",
      "metadata": {
        "id": "rWwmhbdg4QGz",
        "colab_type": "code",
        "colab": {}
      },
      "source": [
        "import math"
      ],
      "execution_count": null,
      "outputs": []
    },
    {
      "cell_type": "code",
      "metadata": {
        "id": "d_A8z_djwld7",
        "colab_type": "code",
        "colab": {
          "base_uri": "https://localhost:8080/",
          "height": 36
        },
        "outputId": "de3f736c-cd0b-4c02-fb19-30445ff91cd5"
      },
      "source": [
        "# basic function recieve 2 int\n",
        "def adder(a,b):\n",
        "  return a+b\n",
        "\n",
        "print(adder(1,1))"
      ],
      "execution_count": null,
      "outputs": [
        {
          "output_type": "stream",
          "text": [
            "2\n"
          ],
          "name": "stdout"
        }
      ]
    },
    {
      "cell_type": "code",
      "metadata": {
        "id": "EA7Ze_uswllO",
        "colab_type": "code",
        "colab": {
          "base_uri": "https://localhost:8080/",
          "height": 36
        },
        "outputId": "16bbf18c-4bc3-4470-a841-613f84df4f54"
      },
      "source": [
        "# basic function recieve a list\n",
        "def adderList(some_list):\n",
        "  answer = 0\n",
        "  for i in some_list:\n",
        "    answer+=i\n",
        "  return answer\n",
        "    \n",
        "adderList([1,1])"
      ],
      "execution_count": null,
      "outputs": [
        {
          "output_type": "execute_result",
          "data": {
            "text/plain": [
              "2"
            ]
          },
          "metadata": {
            "tags": []
          },
          "execution_count": 63
        }
      ]
    },
    {
      "cell_type": "code",
      "metadata": {
        "id": "le25i6uslqf3",
        "colab_type": "code",
        "colab": {
          "base_uri": "https://localhost:8080/",
          "height": 35
        },
        "outputId": "516a0a71-6176-4d9e-ff50-6ba812c96ea3"
      },
      "source": [
        "# function in a function\n",
        "def even_add(example_list):\n",
        "  def oddFilter(i):\n",
        "    if i%2 == 1:\n",
        "      return 0\n",
        "    return i\n",
        "  final_answer = 0\n",
        "  for i in example_list:\n",
        "    final_answer += oddFilter(i)\n",
        "  return final_answer\n",
        "\n",
        "even_add([i for i in range(10)])\n",
        "  \n",
        "  \n",
        "  "
      ],
      "execution_count": 29,
      "outputs": [
        {
          "output_type": "execute_result",
          "data": {
            "text/plain": [
              "20"
            ]
          },
          "metadata": {
            "tags": []
          },
          "execution_count": 29
        }
      ]
    },
    {
      "cell_type": "code",
      "metadata": {
        "id": "_nB9oJgNy4zk",
        "colab_type": "code",
        "colab": {
          "base_uri": "https://localhost:8080/",
          "height": 54
        },
        "outputId": "1d8d199d-7318-4db9-ae0c-1b0647155b04"
      },
      "source": [
        "# recusion\n",
        "# factorial as example\n",
        "# you learnt in comp1330 before\n",
        "# there are many type of recusion, check out this https://www.geeksforgeeks.org/types-of-recursions/\n",
        "def recusionV1(i):\n",
        "  if i == 1:\n",
        "    return 1\n",
        "  return i * recusionV1(i-1)\n",
        "def recusionV2(i,j=1):\n",
        "  if i == 1:\n",
        "    return j\n",
        "  return head_recusion(i-1,j*i)\n",
        "\n",
        "print(tail_recurecusionV1sion(5)) # return 5!\n",
        "print(recusionV2(5)) # return 5!"
      ],
      "execution_count": 85,
      "outputs": [
        {
          "output_type": "stream",
          "text": [
            "120\n",
            "120\n"
          ],
          "name": "stdout"
        }
      ]
    },
    {
      "cell_type": "code",
      "metadata": {
        "id": "bhQc4sjywlqT",
        "colab_type": "code",
        "colab": {
          "base_uri": "https://localhost:8080/",
          "height": 227
        },
        "outputId": "80af9a24-8e80-4f27-bb0b-b967c2105f35"
      },
      "source": [
        "def adderListV2(a,b,c,d):\n",
        "  answer = 0\n",
        "  answer += (a+b+c+d)\n",
        "  return answer\n",
        "example_list = [1,2,3,4]\n",
        "print(adderListV2(*example_list))\n",
        "############\n",
        "example_list_v2 = [1,2,3,4,5]\n",
        "print(adderListV2(*example_list_v2)) ##error raise"
      ],
      "execution_count": 30,
      "outputs": [
        {
          "output_type": "stream",
          "text": [
            "10\n"
          ],
          "name": "stdout"
        },
        {
          "output_type": "error",
          "ename": "TypeError",
          "evalue": "ignored",
          "traceback": [
            "\u001b[0;31m---------------------------------------------------------------------------\u001b[0m",
            "\u001b[0;31mTypeError\u001b[0m                                 Traceback (most recent call last)",
            "\u001b[0;32m<ipython-input-30-6c0e4bbbacc0>\u001b[0m in \u001b[0;36m<module>\u001b[0;34m()\u001b[0m\n\u001b[1;32m      6\u001b[0m \u001b[0mprint\u001b[0m\u001b[0;34m(\u001b[0m\u001b[0madderListV2\u001b[0m\u001b[0;34m(\u001b[0m\u001b[0;34m*\u001b[0m\u001b[0mexample_list\u001b[0m\u001b[0;34m)\u001b[0m\u001b[0;34m)\u001b[0m\u001b[0;34m\u001b[0m\u001b[0;34m\u001b[0m\u001b[0m\n\u001b[1;32m      7\u001b[0m \u001b[0mexample_list_v2\u001b[0m \u001b[0;34m=\u001b[0m \u001b[0;34m[\u001b[0m\u001b[0;36m1\u001b[0m\u001b[0;34m,\u001b[0m\u001b[0;36m2\u001b[0m\u001b[0;34m,\u001b[0m\u001b[0;36m3\u001b[0m\u001b[0;34m,\u001b[0m\u001b[0;36m4\u001b[0m\u001b[0;34m,\u001b[0m\u001b[0;36m5\u001b[0m\u001b[0;34m]\u001b[0m\u001b[0;34m\u001b[0m\u001b[0;34m\u001b[0m\u001b[0m\n\u001b[0;32m----> 8\u001b[0;31m \u001b[0mprint\u001b[0m\u001b[0;34m(\u001b[0m\u001b[0madderListV2\u001b[0m\u001b[0;34m(\u001b[0m\u001b[0;34m*\u001b[0m\u001b[0mexample_list_v2\u001b[0m\u001b[0;34m)\u001b[0m\u001b[0;34m)\u001b[0m \u001b[0;31m##error raise\u001b[0m\u001b[0;34m\u001b[0m\u001b[0;34m\u001b[0m\u001b[0m\n\u001b[0m",
            "\u001b[0;31mTypeError\u001b[0m: adderListV2() takes 4 positional arguments but 5 were given"
          ]
        }
      ]
    },
    {
      "cell_type": "code",
      "metadata": {
        "id": "GPnUZWnowlu5",
        "colab_type": "code",
        "colab": {
          "base_uri": "https://localhost:8080/",
          "height": 55
        },
        "outputId": "b880ea1e-b28e-4287-e32b-4832654cb1ae"
      },
      "source": [
        "# like javascript or any other languages , it has a short form function\n",
        "f = lambda x : x+5\n",
        "print(f(5)) # x means input , the statement after \":\"\" is the function retunr\n",
        "f_v2 = lambda x,y : x+y\n",
        "print(f_v2(5,10))"
      ],
      "execution_count": null,
      "outputs": [
        {
          "output_type": "stream",
          "text": [
            "10\n",
            "15\n"
          ],
          "name": "stdout"
        }
      ]
    },
    {
      "cell_type": "code",
      "metadata": {
        "id": "Inw1MfEYwl3r",
        "colab_type": "code",
        "colab": {
          "base_uri": "https://localhost:8080/",
          "height": 242
        },
        "outputId": "ec5f0b5a-73d9-42d2-de6d-3c5bd77ff2f7"
      },
      "source": [
        "unmap_list = [1,2,3,4,5,6,7]\n",
        "mapped_str = map(str,unmap_list)\n",
        "print(mapped_str,end=\"\\n\\n\")\n",
        "# you need to assign a type\n",
        "mapped_str = list(mapped_str)\n",
        "# map to string\n",
        "print(mapped_str,end=\"\\n\\n\")\n",
        "# map back to int\n",
        "print(list(map(int,mapped_str)),end=\"\\n\\n\")\n",
        "# map to list\n",
        "print(list(map(list,mapped_str)),end=\"\\n\\n\")\n",
        "\n",
        "\n",
        "\n",
        "# map with ur function\n",
        "def add(x):\n",
        "  x+=1\n",
        "  return x\n",
        "print(list(map(add,unmap_list)),end=\"\\n\\n\")\n",
        "\n",
        "#same as\n",
        "add = lambda x : x+1\n",
        "print(list(map(add,unmap_list)),end=\"\\n\\n\")"
      ],
      "execution_count": null,
      "outputs": [
        {
          "output_type": "stream",
          "text": [
            "<map object at 0x7f20f5b0a9b0>\n",
            "\n",
            "['1', '2', '3', '4', '5', '6', '7']\n",
            "\n",
            "[1, 2, 3, 4, 5, 6, 7]\n",
            "\n",
            "[['1'], ['2'], ['3'], ['4'], ['5'], ['6'], ['7']]\n",
            "\n",
            "[2, 3, 4, 5, 6, 7, 8]\n",
            "\n",
            "[2, 3, 4, 5, 6, 7, 8]\n",
            "\n"
          ],
          "name": "stdout"
        }
      ]
    },
    {
      "cell_type": "code",
      "metadata": {
        "id": "W3QddBuLwl6M",
        "colab_type": "code",
        "colab": {
          "base_uri": "https://localhost:8080/",
          "height": 36
        },
        "outputId": "95d59a70-81f9-4aae-8d76-9be9dc148a7d"
      },
      "source": [
        "list1 = [1,2,3]\n",
        "list2 = [10,20,30]\n",
        "list3 = [100,200,300]\n",
        "\n",
        "add_3 = lambda x,y,z : x+y+z\n",
        "\n",
        "print(list(map(add_3,list1,list2,list3)))"
      ],
      "execution_count": null,
      "outputs": [
        {
          "output_type": "stream",
          "text": [
            "[111, 222, 333]\n"
          ],
          "name": "stdout"
        }
      ]
    },
    {
      "cell_type": "code",
      "metadata": {
        "id": "l4IfMRRmwmDj",
        "colab_type": "code",
        "colab": {
          "base_uri": "https://localhost:8080/",
          "height": 251
        },
        "outputId": "f58ce86c-7993-4dbf-cf35-f82ea53f0fc5"
      },
      "source": [
        "alpha_list = [\"a\",\"b\",\"c\",\"d\"]\n",
        "alpha_set = set(alpha_list)\n",
        "print(alpha_set)\n",
        "\n",
        "# support subtraction\n",
        "print(alpha_set - set(\"a\"))\n",
        "# doesnt support addition\n",
        "print(alpha_set + set(\"a\"))"
      ],
      "execution_count": null,
      "outputs": [
        {
          "output_type": "stream",
          "text": [
            "{'c', 'd', 'b', 'a'}\n",
            "{'c', 'b', 'd'}\n"
          ],
          "name": "stdout"
        },
        {
          "output_type": "error",
          "ename": "TypeError",
          "evalue": "ignored",
          "traceback": [
            "\u001b[0;31m---------------------------------------------------------------------------\u001b[0m",
            "\u001b[0;31mTypeError\u001b[0m                                 Traceback (most recent call last)",
            "\u001b[0;32m<ipython-input-108-4ac40168859b>\u001b[0m in \u001b[0;36m<module>\u001b[0;34m()\u001b[0m\n\u001b[1;32m      6\u001b[0m \u001b[0mprint\u001b[0m\u001b[0;34m(\u001b[0m\u001b[0malpha_set\u001b[0m \u001b[0;34m-\u001b[0m \u001b[0mset\u001b[0m\u001b[0;34m(\u001b[0m\u001b[0;34m\"a\"\u001b[0m\u001b[0;34m)\u001b[0m\u001b[0;34m)\u001b[0m\u001b[0;34m\u001b[0m\u001b[0;34m\u001b[0m\u001b[0m\n\u001b[1;32m      7\u001b[0m \u001b[0;31m# doesnt support addition\u001b[0m\u001b[0;34m\u001b[0m\u001b[0;34m\u001b[0m\u001b[0;34m\u001b[0m\u001b[0m\n\u001b[0;32m----> 8\u001b[0;31m \u001b[0mprint\u001b[0m\u001b[0;34m(\u001b[0m\u001b[0malpha_set\u001b[0m \u001b[0;34m+\u001b[0m \u001b[0mset\u001b[0m\u001b[0;34m(\u001b[0m\u001b[0;34m\"a\"\u001b[0m\u001b[0;34m)\u001b[0m\u001b[0;34m)\u001b[0m\u001b[0;34m\u001b[0m\u001b[0;34m\u001b[0m\u001b[0m\n\u001b[0m",
            "\u001b[0;31mTypeError\u001b[0m: unsupported operand type(s) for +: 'set' and 'set'"
          ]
        }
      ]
    },
    {
      "cell_type": "markdown",
      "metadata": {
        "id": "E97XrqTwniak",
        "colab_type": "text"
      },
      "source": [
        "# catch erros"
      ]
    },
    {
      "cell_type": "code",
      "metadata": {
        "id": "NkvRFJ92njnP",
        "colab_type": "code",
        "colab": {
          "base_uri": "https://localhost:8080/",
          "height": 209
        },
        "outputId": "b25eeb9c-2273-4eec-a9ba-1592122b8634"
      },
      "source": [
        "# custom error\n",
        "x = 11\n",
        "if x%2 == 1:\n",
        "    raise Exception('x should even. The value of x was: {}'.format(x))\n"
      ],
      "execution_count": 33,
      "outputs": [
        {
          "output_type": "error",
          "ename": "Exception",
          "evalue": "ignored",
          "traceback": [
            "\u001b[0;31m---------------------------------------------------------------------------\u001b[0m",
            "\u001b[0;31mException\u001b[0m                                 Traceback (most recent call last)",
            "\u001b[0;32m<ipython-input-33-20cb995b8a76>\u001b[0m in \u001b[0;36m<module>\u001b[0;34m()\u001b[0m\n\u001b[1;32m      1\u001b[0m \u001b[0mx\u001b[0m \u001b[0;34m=\u001b[0m \u001b[0;36m11\u001b[0m\u001b[0;34m\u001b[0m\u001b[0;34m\u001b[0m\u001b[0m\n\u001b[1;32m      2\u001b[0m \u001b[0;32mif\u001b[0m \u001b[0mx\u001b[0m\u001b[0;34m%\u001b[0m\u001b[0;36m2\u001b[0m \u001b[0;34m==\u001b[0m \u001b[0;36m1\u001b[0m\u001b[0;34m:\u001b[0m\u001b[0;34m\u001b[0m\u001b[0;34m\u001b[0m\u001b[0m\n\u001b[0;32m----> 3\u001b[0;31m     \u001b[0;32mraise\u001b[0m \u001b[0mException\u001b[0m\u001b[0;34m(\u001b[0m\u001b[0;34m'x should even. The value of x was: {}'\u001b[0m\u001b[0;34m.\u001b[0m\u001b[0mformat\u001b[0m\u001b[0;34m(\u001b[0m\u001b[0mx\u001b[0m\u001b[0;34m)\u001b[0m\u001b[0;34m)\u001b[0m\u001b[0;34m\u001b[0m\u001b[0;34m\u001b[0m\u001b[0m\n\u001b[0m",
            "\u001b[0;31mException\u001b[0m: x should even. The value of x was: 11"
          ]
        }
      ]
    },
    {
      "cell_type": "code",
      "metadata": {
        "id": "fGfF1zG0nwFw",
        "colab_type": "code",
        "colab": {
          "base_uri": "https://localhost:8080/",
          "height": 191
        },
        "outputId": "a15bc814-3ba4-4b12-d1b7-01e3b849efcd"
      },
      "source": [
        "# same as above\n",
        "x = 11\n",
        "assert (x%2 == 0), \"x should be even number\"\n",
        "#\n",
        "## assert(custom condition to check), \"something you print if condition cannot be reached\""
      ],
      "execution_count": 37,
      "outputs": [
        {
          "output_type": "error",
          "ename": "AssertionError",
          "evalue": "ignored",
          "traceback": [
            "\u001b[0;31m---------------------------------------------------------------------------\u001b[0m",
            "\u001b[0;31mAssertionError\u001b[0m                            Traceback (most recent call last)",
            "\u001b[0;32m<ipython-input-37-7f27559eaa52>\u001b[0m in \u001b[0;36m<module>\u001b[0;34m()\u001b[0m\n\u001b[1;32m      1\u001b[0m \u001b[0mx\u001b[0m \u001b[0;34m=\u001b[0m \u001b[0;36m11\u001b[0m\u001b[0;34m\u001b[0m\u001b[0;34m\u001b[0m\u001b[0m\n\u001b[0;32m----> 2\u001b[0;31m \u001b[0;32massert\u001b[0m \u001b[0;34m(\u001b[0m\u001b[0mx\u001b[0m\u001b[0;34m%\u001b[0m\u001b[0;36m2\u001b[0m \u001b[0;34m==\u001b[0m \u001b[0;36m0\u001b[0m\u001b[0;34m)\u001b[0m\u001b[0;34m,\u001b[0m \u001b[0;34m\"x should be even number\"\u001b[0m\u001b[0;34m\u001b[0m\u001b[0;34m\u001b[0m\u001b[0m\n\u001b[0m",
            "\u001b[0;31mAssertionError\u001b[0m: x should be even number"
          ]
        }
      ]
    },
    {
      "cell_type": "code",
      "metadata": {
        "id": "3q8TZdtcnyuP",
        "colab_type": "code",
        "colab": {}
      },
      "source": [
        "# we shall make a custom condition to check if errors hence we can debug in a better way and trace the bug easily"
      ],
      "execution_count": 38,
      "outputs": []
    },
    {
      "cell_type": "code",
      "metadata": {
        "id": "EdNy3jxvopbA",
        "colab_type": "code",
        "colab": {}
      },
      "source": [
        "# Handling Exceptions\n",
        "# try to prevent this practice, always use this as your ultimate methods\n",
        "\n",
        "# the comment code below will raise an error\n",
        "# x = 11\n",
        "# assert (x%2 == 0), \"x should be even number\"\n",
        "\n",
        "# now we put the exception statement inside a try block\n",
        "# if there is an error -> the code in except will do\n",
        "password = 1234\n",
        "is_admin = True\n",
        "try:\n",
        "  assert (password == 1234), \"Login succesfully\"\n",
        "except:\n",
        "  if (is_admin):\n",
        "    print(\"Login succesfully\")\n",
        "  else:\n",
        "    raise Exception(\"FBI is watching you\")\n"
      ],
      "execution_count": 97,
      "outputs": []
    },
    {
      "cell_type": "code",
      "metadata": {
        "id": "bHt7HgpfpHex",
        "colab_type": "code",
        "colab": {
          "base_uri": "https://localhost:8080/",
          "height": 35
        },
        "outputId": "4c0c9bf4-d242-4127-ae74-9fb17bd73e03"
      },
      "source": [
        "password = 2345\n",
        "is_admin = True\n",
        "try:\n",
        "  assert (password == 1234), \"Login succesfully\"\n",
        "except:\n",
        "  if (is_admin):\n",
        "    print(\"Login succesfully\")\n",
        "  else:\n",
        "    raise Exception(\"FBI is watching you\")\n"
      ],
      "execution_count": 98,
      "outputs": [
        {
          "output_type": "stream",
          "text": [
            "Login succesfully\n"
          ],
          "name": "stdout"
        }
      ]
    },
    {
      "cell_type": "code",
      "metadata": {
        "id": "-RwZbhoBp4g_",
        "colab_type": "code",
        "colab": {
          "base_uri": "https://localhost:8080/",
          "height": 392
        },
        "outputId": "d4cef736-0859-464f-f571-9b56762c90a6"
      },
      "source": [
        "password = 2345\n",
        "is_admin = False\n",
        "try:\n",
        "  assert (password == 1234), \"Login succesfully\"\n",
        "except:\n",
        "  if (is_admin):\n",
        "    print(\"Login succesfully\")\n",
        "  else:\n",
        "    raise Exception(\"FBI is watching you\")"
      ],
      "execution_count": 99,
      "outputs": [
        {
          "output_type": "error",
          "ename": "Exception",
          "evalue": "ignored",
          "traceback": [
            "\u001b[0;31m---------------------------------------------------------------------------\u001b[0m",
            "\u001b[0;31mAssertionError\u001b[0m                            Traceback (most recent call last)",
            "\u001b[0;32m<ipython-input-99-b14bb9ef7d7c>\u001b[0m in \u001b[0;36m<module>\u001b[0;34m()\u001b[0m\n\u001b[1;32m      3\u001b[0m \u001b[0;32mtry\u001b[0m\u001b[0;34m:\u001b[0m\u001b[0;34m\u001b[0m\u001b[0;34m\u001b[0m\u001b[0m\n\u001b[0;32m----> 4\u001b[0;31m   \u001b[0;32massert\u001b[0m \u001b[0;34m(\u001b[0m\u001b[0mpassword\u001b[0m \u001b[0;34m==\u001b[0m \u001b[0;36m1234\u001b[0m\u001b[0;34m)\u001b[0m\u001b[0;34m,\u001b[0m \u001b[0;34m\"Login succesfully\"\u001b[0m\u001b[0;34m\u001b[0m\u001b[0;34m\u001b[0m\u001b[0m\n\u001b[0m\u001b[1;32m      5\u001b[0m \u001b[0;32mexcept\u001b[0m\u001b[0;34m:\u001b[0m\u001b[0;34m\u001b[0m\u001b[0;34m\u001b[0m\u001b[0m\n",
            "\u001b[0;31mAssertionError\u001b[0m: Login succesfully",
            "\nDuring handling of the above exception, another exception occurred:\n",
            "\u001b[0;31mException\u001b[0m                                 Traceback (most recent call last)",
            "\u001b[0;32m<ipython-input-99-b14bb9ef7d7c>\u001b[0m in \u001b[0;36m<module>\u001b[0;34m()\u001b[0m\n\u001b[1;32m      7\u001b[0m     \u001b[0mprint\u001b[0m\u001b[0;34m(\u001b[0m\u001b[0;34m\"Login succesfully\"\u001b[0m\u001b[0;34m)\u001b[0m\u001b[0;34m\u001b[0m\u001b[0;34m\u001b[0m\u001b[0m\n\u001b[1;32m      8\u001b[0m   \u001b[0;32melse\u001b[0m\u001b[0;34m:\u001b[0m\u001b[0;34m\u001b[0m\u001b[0;34m\u001b[0m\u001b[0m\n\u001b[0;32m----> 9\u001b[0;31m     \u001b[0;32mraise\u001b[0m \u001b[0mException\u001b[0m\u001b[0;34m(\u001b[0m\u001b[0;34m\"FBI is watching you\"\u001b[0m\u001b[0;34m)\u001b[0m\u001b[0;34m\u001b[0m\u001b[0;34m\u001b[0m\u001b[0m\n\u001b[0m",
            "\u001b[0;31mException\u001b[0m: FBI is watching you"
          ]
        }
      ]
    },
    {
      "cell_type": "code",
      "metadata": {
        "id": "7LpdqWXap_Ac",
        "colab_type": "code",
        "colab": {}
      },
      "source": [
        ""
      ],
      "execution_count": 46,
      "outputs": []
    },
    {
      "cell_type": "markdown",
      "metadata": {
        "id": "jW1e-oJnqXWI",
        "colab_type": "text"
      },
      "source": [
        "# multithread"
      ]
    },
    {
      "cell_type": "code",
      "metadata": {
        "id": "XhY8W7SLqYjn",
        "colab_type": "code",
        "colab": {}
      },
      "source": [
        "# You must import them\n",
        "import threading\n",
        "import time"
      ],
      "execution_count": 47,
      "outputs": []
    },
    {
      "cell_type": "code",
      "metadata": {
        "id": "0YNNa3a4q85W",
        "colab_type": "code",
        "colab": {}
      },
      "source": [
        ""
      ],
      "execution_count": 85,
      "outputs": []
    },
    {
      "cell_type": "code",
      "metadata": {
        "id": "iE0U7F2jq9D0",
        "colab_type": "code",
        "colab": {
          "base_uri": "https://localhost:8080/",
          "height": 346
        },
        "outputId": "a3ff7868-30e1-405f-de7f-4c5ef3c28425"
      },
      "source": [
        "# we want to do things in parallel.\n",
        "# multi-thread can help us to do things parallelly, especailly in web-crawling and machine learning\n",
        "# this helps you to understand what multi-threading is\n",
        "\n",
        "# this demonstrate a human called bobby\n",
        "# he needs to do research on some secret websites\n",
        "# but he needs to breath as well or he will die\n",
        "\n",
        "# first make some functions that you want to do in parallel.\n",
        "def breathTheAir(number_of_breath):\n",
        "  for breath in range(number_of_breath):\n",
        "    print(\"Bobby breath {} now\".format(breath))\n",
        "    time.sleep(0.2) # let say , we human need to breath around 0.2 second\n",
        "\n",
        "# we define the sub job he wanna do inside threading.Thread()\n",
        "# target = function to run in parrallel\n",
        "# args = arguments of that function \n",
        "\n",
        "#bobby_sub_job = threading.Thread(target = breathTheAir,args=15) # this will bug , because args takes iteratable input \n",
        "                                    # like (15,) is iterable\n",
        "\n",
        "bobby_sub_job = threading.Thread(target = breathTheAir,args=(15,)) # change to this please\n",
        "bobby_sub_job.start()\n",
        "\n",
        "bobby_research_task = 3\n",
        "for research in range(bobby_research_task):\n",
        "  print(\"Bobby did main researches for {} time\".format(research))\n",
        "  time.sleep(2) # delay five seconds\n",
        "\n",
        "bobby_sub_job.join()# no this thread will not print the correct order as you expect\n",
        "\n",
        "# he does research per 2 second\n",
        "# he does breathing per 0.2 second\n"
      ],
      "execution_count": 100,
      "outputs": [
        {
          "output_type": "stream",
          "text": [
            "Bobby breath 0 now\n",
            "Bobby did main researches for 0 time\n",
            "Bobby breath 1 now\n",
            "Bobby breath 2 now\n",
            "Bobby breath 3 now\n",
            "Bobby breath 4 now\n",
            "Bobby breath 5 now\n",
            "Bobby breath 6 now\n",
            "Bobby breath 7 now\n",
            "Bobby breath 8 now\n",
            "Bobby breath 9 now\n",
            "Bobby did main researches for 1 time\n",
            "Bobby breath 10 now\n",
            "Bobby breath 11 now\n",
            "Bobby breath 12 now\n",
            "Bobby breath 13 now\n",
            "Bobby breath 14 now\n",
            "Bobby did main researches for 2 time\n"
          ],
          "name": "stdout"
        }
      ]
    },
    {
      "cell_type": "markdown",
      "metadata": {
        "id": "EDkt3THU1gR1",
        "colab_type": "text"
      },
      "source": [
        "### importance of t.join()"
      ]
    },
    {
      "cell_type": "code",
      "metadata": {
        "id": "6v2uVINIq9CB",
        "colab_type": "code",
        "colab": {
          "base_uri": "https://localhost:8080/",
          "height": 145
        },
        "outputId": "67850b92-6d08-416a-8337-4a640d871586"
      },
      "source": [
        "def job1():\n",
        "  print(\"Job1 start\")\n",
        "  for i in range(5):\n",
        "    print(i)\n",
        "    time.sleep(0.1)\n",
        "  print(\"Job1 end\")\n",
        "def job2():\n",
        "  print(\"Job2 start\")\n",
        "  print(\"Job2 end\")\n",
        "t1 = threading.Thread(target=job1)\n",
        "t2 = threading.Thread(target=job2)\n",
        "t1.start()\n",
        "t2.start()\n",
        "# no t1.join() t2.join()\n",
        "# you may see that the order is not good\n",
        "# and you may see that something is missed\n",
        "# so we must use join() as a good practise"
      ],
      "execution_count": 78,
      "outputs": [
        {
          "output_type": "stream",
          "text": [
            "Job1 start\n",
            "0\n",
            "Job2 start\n",
            "Job2 end\n",
            "1\n",
            "2\n",
            "3\n"
          ],
          "name": "stdout"
        }
      ]
    },
    {
      "cell_type": "code",
      "metadata": {
        "id": "xU0PInHQq8_U",
        "colab_type": "code",
        "colab": {
          "base_uri": "https://localhost:8080/",
          "height": 182
        },
        "outputId": "50bd8c7a-5e6a-4f0a-a932-2b0c4a9af9ad"
      },
      "source": [
        "def job1():\n",
        "  print(\"Job1 start\")\n",
        "  for i in range(5):\n",
        "    print(i)\n",
        "    time.sleep(0.1)\n",
        "  print(\"Job1 end\")\n",
        "def job2():\n",
        "  print(\"Job2 start\")\n",
        "  print(\"Job2 end\")\n",
        "t1 = threading.Thread(target=job1)\n",
        "t2 = threading.Thread(target=job2)\n",
        "t1.start()\n",
        "t2.start()\n",
        "t1.join()\n",
        "t2.join()"
      ],
      "execution_count": 80,
      "outputs": [
        {
          "output_type": "stream",
          "text": [
            "Job1 start\n",
            "0\n",
            "Job2 start\n",
            "Job2 end\n",
            "1\n",
            "2\n",
            "3\n",
            "4\n",
            "Job1 end\n"
          ],
          "name": "stdout"
        }
      ]
    },
    {
      "cell_type": "markdown",
      "metadata": {
        "id": "niR9tmhJ1kGC",
        "colab_type": "text"
      },
      "source": [
        "### you shall also check concurreny and lock problem for multithreading (optional)"
      ]
    },
    {
      "cell_type": "markdown",
      "metadata": {
        "id": "ZyZiUbMJqwtD",
        "colab_type": "text"
      },
      "source": [
        "# Great, you have finished the basic !"
      ]
    },
    {
      "cell_type": "code",
      "metadata": {
        "id": "YZASkocqq3pv",
        "colab_type": "code",
        "colab": {}
      },
      "source": [
        "# question 1 (optional)\n",
        "# try to print 1-50 in multithreading way and without for loop\n",
        "# outcome test on multithreading and recusion and multithreading lock\n",
        "\n",
        "# question 2\n",
        "# try to use lambda function and map \n",
        "# give a = [1,2,3,4,5]\n",
        "# output b = [1,4,9,16,25]\n",
        "# test for lambda and map"
      ],
      "execution_count": null,
      "outputs": []
    }
  ]
}