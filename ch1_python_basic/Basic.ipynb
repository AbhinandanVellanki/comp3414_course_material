{
  "nbformat": 4,
  "nbformat_minor": 0,
  "metadata": {
    "colab": {
      "name": "Basic.ipynb",
      "provenance": [],
      "authorship_tag": "ABX9TyNvZ+PDXYSZQvdG8fTJ9MQj",
      "include_colab_link": true
    },
    "kernelspec": {
      "name": "python3",
      "display_name": "Python 3"
    }
  },
  "cells": [
    {
      "cell_type": "markdown",
      "metadata": {
        "id": "view-in-github",
        "colab_type": "text"
      },
      "source": [
        "<a href=\"https://colab.research.google.com/github/wesley34/comp3414_course_material/blob/master/ch1_python_basic/Basic.ipynb\" target=\"_parent\"><img src=\"https://colab.research.google.com/assets/colab-badge.svg\" alt=\"Open In Colab\"/></a>"
      ]
    },
    {
      "cell_type": "markdown",
      "metadata": {
        "id": "qy_VXW5rhsI_",
        "colab_type": "text"
      },
      "source": [
        "# This section helps you to refresh on syntax and libarary in python that is required for the competition. Feel free to skip."
      ]
    },
    {
      "cell_type": "code",
      "metadata": {
        "id": "ERUscUgkhwEd",
        "colab_type": "code",
        "colab": {}
      },
      "source": [
        "# naming convention important\n",
        "\n",
        "# Constant: all captial word, underscore\n",
        "EXAMPLE_CONSTANT = 10\n",
        "\n",
        "# variable: underscore, lowercase\n",
        "example_variable = 10\n",
        "\n",
        "# function naming: underscore, lowercase\n",
        "def example_function():\n",
        "  pass\n",
        "\n",
        "# class naming: camel case\n",
        "class ExampleClass():\n",
        "  pass\n",
        "\n",
        "## please make meaningful name. Please assume others do not have piror knowledge on what you are doing hence do not use shortform frequently. like\n",
        "a = 1\n",
        "b = 1\n",
        "c = 1\n"
      ],
      "execution_count": 1,
      "outputs": []
    },
    {
      "cell_type": "code",
      "metadata": {
        "id": "TBblYWbbj8-n",
        "colab_type": "code",
        "colab": {}
      },
      "source": [
        ""
      ],
      "execution_count": 1,
      "outputs": []
    },
    {
      "cell_type": "markdown",
      "metadata": {
        "id": "JIdOX-ccl9BA",
        "colab_type": "text"
      },
      "source": [
        "# Basic data structure and logic (You may skip this part)"
      ]
    },
    {
      "cell_type": "code",
      "metadata": {
        "id": "yQG8sVC_khBS",
        "colab_type": "code",
        "colab": {
          "base_uri": "https://localhost:8080/",
          "height": 55
        },
        "outputId": "c4045dae-e11e-4ff1-f255-aba8422de43e"
      },
      "source": [
        "# int and double\n",
        "int_variable = 10\n",
        "double_variable = 10\n",
        "print( \"int with double will auto cast to double\")\n",
        "print(int_variable / double_variable)"
      ],
      "execution_count": 2,
      "outputs": [
        {
          "output_type": "stream",
          "text": [
            "int with double will auto cast to double\n",
            "1.0\n"
          ],
          "name": "stdout"
        }
      ]
    },
    {
      "cell_type": "code",
      "metadata": {
        "id": "c68ID8WYkvw7",
        "colab_type": "code",
        "colab": {
          "base_uri": "https://localhost:8080/",
          "height": 55
        },
        "outputId": "27c864fc-fbfe-448f-b38a-ac0c4777ae27"
      },
      "source": [
        "# string\n",
        "# concatenate of string\n",
        "first_word = \"ABC\"\n",
        "second_word = \"EFG\"\n",
        "print(first_word+second_word) # apply to variable case\n",
        "print(\"ABC\" + \"EFG\") # become ABCEFG"
      ],
      "execution_count": 3,
      "outputs": [
        {
          "output_type": "stream",
          "text": [
            "ABCEFG\n",
            "ABCEFG\n"
          ],
          "name": "stdout"
        }
      ]
    },
    {
      "cell_type": "code",
      "metadata": {
        "id": "SMB4BzrMleyY",
        "colab_type": "code",
        "colab": {
          "base_uri": "https://localhost:8080/",
          "height": 73
        },
        "outputId": "e2ed2102-3fe5-4e4c-e481-bfa95c490fdf"
      },
      "source": [
        "# bool\n",
        "first_value = 10\n",
        "second_value = 100\n",
        "thrid_value = 1000\n",
        "\n",
        "print(first_value==first_value)\n",
        "print(second_value>=first_value)\n",
        "print(second_value<=thrid_value)"
      ],
      "execution_count": 4,
      "outputs": [
        {
          "output_type": "stream",
          "text": [
            "True\n",
            "True\n",
            "True\n"
          ],
          "name": "stdout"
        }
      ]
    },
    {
      "cell_type": "code",
      "metadata": {
        "id": "hqnkacRIl4iP",
        "colab_type": "code",
        "colab": {
          "base_uri": "https://localhost:8080/",
          "height": 55
        },
        "outputId": "ab8d2955-0f75-43f0-ae6c-24cc85e21e5b"
      },
      "source": [
        "# if elif else\n",
        "your_input = int(input()) #type your input and then cast it to int\n",
        "if first_value == your_input:\n",
        "  print(\"same than expect\")\n",
        "elif (first_value>your_input):\n",
        "  print(\"smaller than expect\")\n",
        "else:\n",
        "  print(\"larger than expect\")"
      ],
      "execution_count": 6,
      "outputs": [
        {
          "output_type": "stream",
          "text": [
            "10\n",
            "same than expect\n"
          ],
          "name": "stdout"
        }
      ]
    },
    {
      "cell_type": "code",
      "metadata": {
        "id": "dNu-B5gCovfG",
        "colab_type": "code",
        "colab": {
          "base_uri": "https://localhost:8080/",
          "height": 205
        },
        "outputId": "20a74837-ecba-4000-c9b4-46e89570a7dd"
      },
      "source": [
        "# for loop with range\n",
        "for i in range(10):\n",
        "  print(i)"
      ],
      "execution_count": 7,
      "outputs": [
        {
          "output_type": "stream",
          "text": [
            "0\n",
            "1\n",
            "2\n",
            "3\n",
            "4\n",
            "5\n",
            "6\n",
            "7\n",
            "8\n",
            "9\n"
          ],
          "name": "stdout"
        }
      ]
    },
    {
      "cell_type": "code",
      "metadata": {
        "id": "R76JLAAbo2fk",
        "colab_type": "code",
        "colab": {
          "base_uri": "https://localhost:8080/",
          "height": 73
        },
        "outputId": "167b3ad9-889d-4e01-fc92-f4b0f5503eba"
      },
      "source": [
        "# for loop with iterators\n",
        "example_list = [\"apple\",\"orange\",\"banana\"]\n",
        "for i in example_list:\n",
        "  print(i)"
      ],
      "execution_count": 8,
      "outputs": [
        {
          "output_type": "stream",
          "text": [
            "apple\n",
            "orange\n",
            "banana\n"
          ],
          "name": "stdout"
        }
      ]
    },
    {
      "cell_type": "code",
      "metadata": {
        "id": "imnFDz8co9R7",
        "colab_type": "code",
        "colab": {
          "base_uri": "https://localhost:8080/",
          "height": 111
        },
        "outputId": "5007bfe4-fb3a-47c1-8713-81045e877dc3"
      },
      "source": [
        "# make list, double list\n",
        "print([i for i in example_list])\n",
        "print(range(10))\n",
        "print(list(range(10))) # need to give it a type first\n",
        "\n",
        "len_of_example_list = len(example_list)\n",
        "merged = zip(example_list,range(len_of_example_list)) \n",
        "print(merged) # you need to give it a type first\n",
        "\n",
        "merged_list = list(merged) #type list\n",
        "print(merged_list)"
      ],
      "execution_count": 9,
      "outputs": [
        {
          "output_type": "stream",
          "text": [
            "['apple', 'orange', 'banana']\n",
            "range(0, 10)\n",
            "[0, 1, 2, 3, 4, 5, 6, 7, 8, 9]\n",
            "<zip object at 0x7f20f5ea1dc8>\n",
            "[('apple', 0), ('orange', 1), ('banana', 2)]\n"
          ],
          "name": "stdout"
        }
      ]
    },
    {
      "cell_type": "code",
      "metadata": {
        "id": "bnKvVnycpBF3",
        "colab_type": "code",
        "colab": {
          "base_uri": "https://localhost:8080/",
          "height": 148
        },
        "outputId": "1ed7202f-abdd-4152-dc42-be0f385e8793"
      },
      "source": [
        "# you may iterate for 2 \n",
        "for i,j in merged_list:\n",
        "  print(i,\" \",j)\n",
        "\n",
        "print(\"\",end=\"\\n\")\n",
        "\n",
        "# we may do like this\n",
        "# no need cast the type ,different to merged_list which is casted to list , check above\n",
        "for i,j in zip(example_list,range(len_of_example_list)): \n",
        "  print(i, \"\", j)"
      ],
      "execution_count": 16,
      "outputs": [
        {
          "output_type": "stream",
          "text": [
            "apple   0\n",
            "orange   1\n",
            "banana   2\n",
            "\n",
            "apple  0\n",
            "orange  1\n",
            "banana  2\n"
          ],
          "name": "stdout"
        }
      ]
    },
    {
      "cell_type": "code",
      "metadata": {
        "id": "-DiZgwfppVkr",
        "colab_type": "code",
        "colab": {
          "base_uri": "https://localhost:8080/",
          "height": 205
        },
        "outputId": "73df6f9e-b3f2-41b3-a716-9ad06afe3fc6"
      },
      "source": [
        "# dict and its application \n",
        "example_dict = dict()\n",
        "example_dict[\"key_1\"] = \"this is key 1 item\"\n",
        "example_dict[\"key_2\"] = 2\n",
        "\n",
        "print(\"Part 1\")\n",
        "print(\"dict: \", example_dict)\n",
        "print(\"dict items: \",example_dict.items())\n",
        "print(\"dict values: \",example_dict.values())\n",
        "print(\"dict keys: \",example_dict.keys(),end=\"\\n\\n\")\n",
        "\n",
        "\n",
        "print(\"Part 2\")\n",
        "print(\"Iterate on dict\")\n",
        "for key,value in example_dict.items():\n",
        "  print(key,\" : \", value)"
      ],
      "execution_count": 34,
      "outputs": [
        {
          "output_type": "stream",
          "text": [
            "Part 1\n",
            "dict:  {'key_1': 'this is key 1 item', 'key_2': 2}\n",
            "dict items:  dict_items([('key_1', 'this is key 1 item'), ('key_2', 2)])\n",
            "dict values:  dict_values(['this is key 1 item', 2])\n",
            "dict keys:  dict_keys(['key_1', 'key_2'])\n",
            "\n",
            "Part 2\n",
            "Iterate on dict\n",
            "key_1  :  this is key 1 item\n",
            "key_2  :  2\n"
          ],
          "name": "stdout"
        }
      ]
    },
    {
      "cell_type": "code",
      "metadata": {
        "id": "cMZJuIJduY4x",
        "colab_type": "code",
        "colab": {
          "base_uri": "https://localhost:8080/",
          "height": 186
        },
        "outputId": "8237e679-b63b-4d3f-8297-b861fe8e89df"
      },
      "source": [
        "## default dict can supply for missing values\n",
        "import collections\n",
        "\n",
        "collection_dict_with_int = collections.defaultdict(int) #you may use other type like string,list and bool ...\n",
        "for key,value in example_dict.items():\n",
        "  collection_dict_with_int[key] = value\n",
        "\n",
        "print(collection_dict_with_int[\"key_1\"])\n",
        "print(collection_dict_with_int[\"no such key\"],end=\"\\n\\n\") # no this key, and it prints default value  0 if you use int. If you use list then it will be []\n",
        "\n",
        "collection_dict_with_list = collections.defaultdict(list)\n",
        "print(collection_dict_with_list[\"no such key\"],end=\"\\n\\n\") # no this key and output default value []\n",
        "\n",
        "collection_dict_with_str = collections.defaultdict(str)\n",
        "print(collection_dict_with_str[\"no such key\"],end=\"\\n\\n\") # no this key and output default value \"\"\n",
        "\n",
        "\n",
        "collection_dict_with_bool = collections.defaultdict(bool)\n",
        "print(collection_dict_with_bool[\"no such key\"],end=\"\\n\\n\") # no this key and output default value false\n",
        "\n",
        "# you shall explore more for other class or even custome class\n",
        "# inherit it with collections.key and function __missing__()\n",
        "# it is ok that if you do not know this , you may learn it afterwards in chapter 2\n"
      ],
      "execution_count": 50,
      "outputs": [
        {
          "output_type": "stream",
          "text": [
            "this is key 1 item\n",
            "0\n",
            "\n",
            "[]\n",
            "\n",
            "\n",
            "\n",
            "False\n",
            "\n"
          ],
          "name": "stdout"
        }
      ]
    },
    {
      "cell_type": "markdown",
      "metadata": {
        "id": "woNZDqnNwiYb",
        "colab_type": "text"
      },
      "source": [
        "# Function\n"
      ]
    },
    {
      "cell_type": "code",
      "metadata": {
        "id": "rWwmhbdg4QGz",
        "colab_type": "code",
        "colab": {}
      },
      "source": [
        "import math"
      ],
      "execution_count": 62,
      "outputs": []
    },
    {
      "cell_type": "code",
      "metadata": {
        "id": "d_A8z_djwld7",
        "colab_type": "code",
        "colab": {
          "base_uri": "https://localhost:8080/",
          "height": 36
        },
        "outputId": "de3f736c-cd0b-4c02-fb19-30445ff91cd5"
      },
      "source": [
        "def adder(a,b):\n",
        "  return a+b\n",
        "\n",
        "print(adder(1,1))"
      ],
      "execution_count": 57,
      "outputs": [
        {
          "output_type": "stream",
          "text": [
            "2\n"
          ],
          "name": "stdout"
        }
      ]
    },
    {
      "cell_type": "code",
      "metadata": {
        "id": "EA7Ze_uswllO",
        "colab_type": "code",
        "colab": {
          "base_uri": "https://localhost:8080/",
          "height": 36
        },
        "outputId": "16bbf18c-4bc3-4470-a841-613f84df4f54"
      },
      "source": [
        "def adder_list(some_list):\n",
        "  answer = 0\n",
        "  for i in some_list:\n",
        "    answer+=i\n",
        "  return answer\n",
        "    \n",
        "adder_list([1,1])"
      ],
      "execution_count": 63,
      "outputs": [
        {
          "output_type": "execute_result",
          "data": {
            "text/plain": [
              "2"
            ]
          },
          "metadata": {
            "tags": []
          },
          "execution_count": 63
        }
      ]
    },
    {
      "cell_type": "code",
      "metadata": {
        "id": "bhQc4sjywlqT",
        "colab_type": "code",
        "colab": {
          "base_uri": "https://localhost:8080/",
          "height": 232
        },
        "outputId": "56c1a2c7-5410-487d-f595-c4f823689dd9"
      },
      "source": [
        "def adder_list_v2(a,b,c,d):\n",
        "  answer = 0\n",
        "  answer += (a+b+c+d)\n",
        "  return answer\n",
        "example_list = [1,2,3,4]\n",
        "print(adder_list_v2(*example_list))\n",
        "example_list_v2 = [1,2,3,4,5]\n",
        "print(adder_list_v2(*example_list_v2)) ##error raise"
      ],
      "execution_count": 74,
      "outputs": [
        {
          "output_type": "stream",
          "text": [
            "10\n"
          ],
          "name": "stdout"
        },
        {
          "output_type": "error",
          "ename": "TypeError",
          "evalue": "ignored",
          "traceback": [
            "\u001b[0;31m---------------------------------------------------------------------------\u001b[0m",
            "\u001b[0;31mTypeError\u001b[0m                                 Traceback (most recent call last)",
            "\u001b[0;32m<ipython-input-74-3d21ab12ce99>\u001b[0m in \u001b[0;36m<module>\u001b[0;34m()\u001b[0m\n\u001b[1;32m      6\u001b[0m \u001b[0mprint\u001b[0m\u001b[0;34m(\u001b[0m\u001b[0madder_list_v2\u001b[0m\u001b[0;34m(\u001b[0m\u001b[0;34m*\u001b[0m\u001b[0mexample_list\u001b[0m\u001b[0;34m)\u001b[0m\u001b[0;34m)\u001b[0m\u001b[0;34m\u001b[0m\u001b[0;34m\u001b[0m\u001b[0m\n\u001b[1;32m      7\u001b[0m \u001b[0mexample_list_v2\u001b[0m \u001b[0;34m=\u001b[0m \u001b[0;34m[\u001b[0m\u001b[0;36m1\u001b[0m\u001b[0;34m,\u001b[0m\u001b[0;36m2\u001b[0m\u001b[0;34m,\u001b[0m\u001b[0;36m3\u001b[0m\u001b[0;34m,\u001b[0m\u001b[0;36m4\u001b[0m\u001b[0;34m,\u001b[0m\u001b[0;36m5\u001b[0m\u001b[0;34m]\u001b[0m\u001b[0;34m\u001b[0m\u001b[0;34m\u001b[0m\u001b[0m\n\u001b[0;32m----> 8\u001b[0;31m \u001b[0mprint\u001b[0m\u001b[0;34m(\u001b[0m\u001b[0madder_list_v2\u001b[0m\u001b[0;34m(\u001b[0m\u001b[0;34m*\u001b[0m\u001b[0mexample_list_v2\u001b[0m\u001b[0;34m)\u001b[0m\u001b[0;34m)\u001b[0m \u001b[0;31m##error raise\u001b[0m\u001b[0;34m\u001b[0m\u001b[0;34m\u001b[0m\u001b[0m\n\u001b[0m",
            "\u001b[0;31mTypeError\u001b[0m: adder_list_v2() takes 4 positional arguments but 5 were given"
          ]
        }
      ]
    },
    {
      "cell_type": "code",
      "metadata": {
        "id": "GPnUZWnowlu5",
        "colab_type": "code",
        "colab": {
          "base_uri": "https://localhost:8080/",
          "height": 55
        },
        "outputId": "b880ea1e-b28e-4287-e32b-4832654cb1ae"
      },
      "source": [
        "# like javascript or any other languages , it has a short form function\n",
        "f = lambda x : x+5\n",
        "print(f(5)) # x means input , the statement after \":\"\" is the function retunr\n",
        "f_v2 = lambda x,y : x+y\n",
        "print(f_v2(5,10))"
      ],
      "execution_count": 80,
      "outputs": [
        {
          "output_type": "stream",
          "text": [
            "10\n",
            "15\n"
          ],
          "name": "stdout"
        }
      ]
    },
    {
      "cell_type": "code",
      "metadata": {
        "id": "Inw1MfEYwl3r",
        "colab_type": "code",
        "colab": {
          "base_uri": "https://localhost:8080/",
          "height": 242
        },
        "outputId": "ec5f0b5a-73d9-42d2-de6d-3c5bd77ff2f7"
      },
      "source": [
        "unmap_list = [1,2,3,4,5,6,7]\n",
        "mapped_str = map(str,unmap_list)\n",
        "print(mapped_str,end=\"\\n\\n\")\n",
        "# you need to assign a type\n",
        "mapped_str = list(mapped_str)\n",
        "# map to string\n",
        "print(mapped_str,end=\"\\n\\n\")\n",
        "# map back to int\n",
        "print(list(map(int,mapped_str)),end=\"\\n\\n\")\n",
        "# map to list\n",
        "print(list(map(list,mapped_str)),end=\"\\n\\n\")\n",
        "\n",
        "\n",
        "\n",
        "# map with ur function\n",
        "def add(x):\n",
        "  x+=1\n",
        "  return x\n",
        "print(list(map(add,unmap_list)),end=\"\\n\\n\")\n",
        "\n",
        "#same as\n",
        "add = lambda x : x+1\n",
        "print(list(map(add,unmap_list)),end=\"\\n\\n\")"
      ],
      "execution_count": 102,
      "outputs": [
        {
          "output_type": "stream",
          "text": [
            "<map object at 0x7f20f5b0a9b0>\n",
            "\n",
            "['1', '2', '3', '4', '5', '6', '7']\n",
            "\n",
            "[1, 2, 3, 4, 5, 6, 7]\n",
            "\n",
            "[['1'], ['2'], ['3'], ['4'], ['5'], ['6'], ['7']]\n",
            "\n",
            "[2, 3, 4, 5, 6, 7, 8]\n",
            "\n",
            "[2, 3, 4, 5, 6, 7, 8]\n",
            "\n"
          ],
          "name": "stdout"
        }
      ]
    },
    {
      "cell_type": "code",
      "metadata": {
        "id": "W3QddBuLwl6M",
        "colab_type": "code",
        "colab": {
          "base_uri": "https://localhost:8080/",
          "height": 36
        },
        "outputId": "95d59a70-81f9-4aae-8d76-9be9dc148a7d"
      },
      "source": [
        "list1 = [1,2,3]\n",
        "list2 = [10,20,30]\n",
        "list3 = [100,200,300]\n",
        "\n",
        "add_3 = lambda x,y,z : x+y+z\n",
        "\n",
        "print(list(map(add_3,list1,list2,list3)))"
      ],
      "execution_count": 104,
      "outputs": [
        {
          "output_type": "stream",
          "text": [
            "[111, 222, 333]\n"
          ],
          "name": "stdout"
        }
      ]
    },
    {
      "cell_type": "code",
      "metadata": {
        "id": "l4IfMRRmwmDj",
        "colab_type": "code",
        "colab": {
          "base_uri": "https://localhost:8080/",
          "height": 251
        },
        "outputId": "f58ce86c-7993-4dbf-cf35-f82ea53f0fc5"
      },
      "source": [
        "alpha_list = [\"a\",\"b\",\"c\",\"d\"]\n",
        "alpha_set = set(alpha_list)\n",
        "print(alpha_set)\n",
        "\n",
        "# support subtraction\n",
        "print(alpha_set - set(\"a\"))\n",
        "# doesnt support addition\n",
        "print(alpha_set + set(\"a\"))"
      ],
      "execution_count": 108,
      "outputs": [
        {
          "output_type": "stream",
          "text": [
            "{'c', 'd', 'b', 'a'}\n",
            "{'c', 'b', 'd'}\n"
          ],
          "name": "stdout"
        },
        {
          "output_type": "error",
          "ename": "TypeError",
          "evalue": "ignored",
          "traceback": [
            "\u001b[0;31m---------------------------------------------------------------------------\u001b[0m",
            "\u001b[0;31mTypeError\u001b[0m                                 Traceback (most recent call last)",
            "\u001b[0;32m<ipython-input-108-4ac40168859b>\u001b[0m in \u001b[0;36m<module>\u001b[0;34m()\u001b[0m\n\u001b[1;32m      6\u001b[0m \u001b[0mprint\u001b[0m\u001b[0;34m(\u001b[0m\u001b[0malpha_set\u001b[0m \u001b[0;34m-\u001b[0m \u001b[0mset\u001b[0m\u001b[0;34m(\u001b[0m\u001b[0;34m\"a\"\u001b[0m\u001b[0;34m)\u001b[0m\u001b[0;34m)\u001b[0m\u001b[0;34m\u001b[0m\u001b[0;34m\u001b[0m\u001b[0m\n\u001b[1;32m      7\u001b[0m \u001b[0;31m# doesnt support addition\u001b[0m\u001b[0;34m\u001b[0m\u001b[0;34m\u001b[0m\u001b[0;34m\u001b[0m\u001b[0m\n\u001b[0;32m----> 8\u001b[0;31m \u001b[0mprint\u001b[0m\u001b[0;34m(\u001b[0m\u001b[0malpha_set\u001b[0m \u001b[0;34m+\u001b[0m \u001b[0mset\u001b[0m\u001b[0;34m(\u001b[0m\u001b[0;34m\"a\"\u001b[0m\u001b[0;34m)\u001b[0m\u001b[0;34m)\u001b[0m\u001b[0;34m\u001b[0m\u001b[0;34m\u001b[0m\u001b[0m\n\u001b[0m",
            "\u001b[0;31mTypeError\u001b[0m: unsupported operand type(s) for +: 'set' and 'set'"
          ]
        }
      ]
    }
  ]
}