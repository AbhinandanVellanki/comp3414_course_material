{
  "nbformat": 4,
  "nbformat_minor": 0,
  "metadata": {
    "colab": {
      "name": "Loops.ipynb",
      "provenance": [],
      "authorship_tag": "ABX9TyNQiHEfXMDBVcrMm2GdFjRx",
      "include_colab_link": true
    },
    "kernelspec": {
      "name": "python3",
      "display_name": "Python 3"
    }
  },
  "cells": [
    {
      "cell_type": "markdown",
      "metadata": {
        "id": "view-in-github",
        "colab_type": "text"
      },
      "source": [
        "<a href=\"https://colab.research.google.com/github/wesley34/comp3414_course_material/blob/master/ch1_python_basic/Loops.ipynb\" target=\"_parent\"><img src=\"https://colab.research.google.com/assets/colab-badge.svg\" alt=\"Open In Colab\"/></a>"
      ]
    },
    {
      "cell_type": "markdown",
      "metadata": {
        "id": "BaB4DgZAsb44",
        "colab_type": "text"
      },
      "source": [
        "# Loops"
      ]
    },
    {
      "cell_type": "markdown",
      "metadata": {
        "id": "Z_6WZUlksgGX",
        "colab_type": "text"
      },
      "source": [
        "# Level 0"
      ]
    },
    {
      "cell_type": "code",
      "metadata": {
        "id": "RgKhp47JsdQa",
        "colab_type": "code",
        "colab": {
          "base_uri": "https://localhost:8080/",
          "height": 35
        },
        "outputId": "5ff31c5e-00e2-406f-d079-476a35b36e8d"
      },
      "source": [
        "i = 0\n",
        "i = i+1+1+1+1\n",
        "print(i)"
      ],
      "execution_count": null,
      "outputs": [
        {
          "output_type": "stream",
          "text": [
            "4\n"
          ],
          "name": "stdout"
        }
      ]
    },
    {
      "cell_type": "code",
      "metadata": {
        "id": "GRPliR-Ksm8h",
        "colab_type": "code",
        "colab": {
          "base_uri": "https://localhost:8080/",
          "height": 35
        },
        "outputId": "4f0c9abe-dde1-4baa-ee2a-537e2f44dc9a"
      },
      "source": [
        "#aka\n",
        "j = 0\n",
        "for i in range(4):\n",
        " j+=1\n",
        "print(j)"
      ],
      "execution_count": null,
      "outputs": [
        {
          "output_type": "stream",
          "text": [
            "4\n"
          ],
          "name": "stdout"
        }
      ]
    },
    {
      "cell_type": "code",
      "metadata": {
        "id": "YMd-o9flsxkL",
        "colab_type": "code",
        "colab": {}
      },
      "source": [
        ""
      ],
      "execution_count": null,
      "outputs": []
    },
    {
      "cell_type": "code",
      "metadata": {
        "id": "21ovIvb0s6FQ",
        "colab_type": "code",
        "colab": {
          "base_uri": "https://localhost:8080/",
          "height": 35
        },
        "outputId": "caa48ed2-1059-4b30-8ed4-62ae4a6e6072"
      },
      "source": [
        "the_list = [1,2,3,4,5,6]\n",
        "j = 0\n",
        "for i in range(len(the_list)):\n",
        "  j += the_list[i]\n",
        "print(j)\n"
      ],
      "execution_count": null,
      "outputs": [
        {
          "output_type": "stream",
          "text": [
            "21\n"
          ],
          "name": "stdout"
        }
      ]
    },
    {
      "cell_type": "code",
      "metadata": {
        "id": "Jj0u3KiYtEKi",
        "colab_type": "code",
        "colab": {
          "base_uri": "https://localhost:8080/",
          "height": 35
        },
        "outputId": "18476f3d-aac3-4d19-bb3d-149bbcda4fd6"
      },
      "source": [
        "#aka\n",
        "the_list = [1,2,3,4,5,6]\n",
        "j = 0\n",
        "for i in the_list:\n",
        "  j += i\n",
        "print(j)\n"
      ],
      "execution_count": null,
      "outputs": [
        {
          "output_type": "stream",
          "text": [
            "21\n"
          ],
          "name": "stdout"
        }
      ]
    },
    {
      "cell_type": "code",
      "metadata": {
        "id": "lw-UxfLUtE6X",
        "colab_type": "code",
        "colab": {}
      },
      "source": [
        ""
      ],
      "execution_count": null,
      "outputs": []
    },
    {
      "cell_type": "code",
      "metadata": {
        "id": "NEWkf6nQtNH-",
        "colab_type": "code",
        "colab": {
          "base_uri": "https://localhost:8080/",
          "height": 35
        },
        "outputId": "aaa616e4-de66-4798-e3f8-b1ed32b7474d"
      },
      "source": [
        "the_list = [2,3,4,5,6,7]\n",
        "new_list = []\n",
        "for iter in the_list:\n",
        "  new_list.append(iter+1)\n",
        "print(new_list)"
      ],
      "execution_count": null,
      "outputs": [
        {
          "output_type": "stream",
          "text": [
            "[3, 4, 5, 6, 7, 8]\n"
          ],
          "name": "stdout"
        }
      ]
    },
    {
      "cell_type": "code",
      "metadata": {
        "id": "jQJLA9xytWoQ",
        "colab_type": "code",
        "colab": {
          "base_uri": "https://localhost:8080/",
          "height": 35
        },
        "outputId": "06a33e3b-8e9d-4866-f7a2-482d0a2f0d38"
      },
      "source": [
        "#aka\n",
        "new_list = [i+1 for i in the_list]\n",
        "print(new_list)"
      ],
      "execution_count": null,
      "outputs": [
        {
          "output_type": "stream",
          "text": [
            "[3, 4, 5, 6, 7, 8]\n"
          ],
          "name": "stdout"
        }
      ]
    },
    {
      "cell_type": "code",
      "metadata": {
        "id": "utpsmDWctdDN",
        "colab_type": "code",
        "colab": {}
      },
      "source": [
        ""
      ],
      "execution_count": null,
      "outputs": []
    },
    {
      "cell_type": "code",
      "metadata": {
        "id": "C-pYb6yPtd3J",
        "colab_type": "code",
        "colab": {}
      },
      "source": [
        ""
      ],
      "execution_count": null,
      "outputs": []
    },
    {
      "cell_type": "markdown",
      "metadata": {
        "id": "ucCxoSORtf55",
        "colab_type": "text"
      },
      "source": [
        "# Level 1 enumerator"
      ]
    },
    {
      "cell_type": "code",
      "metadata": {
        "id": "5GuiL4Qzthad",
        "colab_type": "code",
        "colab": {
          "base_uri": "https://localhost:8080/",
          "height": 90
        },
        "outputId": "c25a8b5d-8d8e-49fb-cdac-a33ebbc80bbe"
      },
      "source": [
        "the_list = [10,100,1000,10000]\n",
        "index_list = list(range(len(the_list))) # range(len(the_list)) is already ok, but we use list() here to maintain readability  \n",
        "for index,exponent_10 in zip(index_list,the_list): # it zips 2 list in one\n",
        "  print(index,exponent_10)"
      ],
      "execution_count": null,
      "outputs": [
        {
          "output_type": "stream",
          "text": [
            "0 10\n",
            "1 100\n",
            "2 1000\n",
            "3 10000\n"
          ],
          "name": "stdout"
        }
      ]
    },
    {
      "cell_type": "code",
      "metadata": {
        "id": "LDoRweKWtwvp",
        "colab_type": "code",
        "colab": {
          "base_uri": "https://localhost:8080/",
          "height": 90
        },
        "outputId": "4d595f25-5e7d-4be3-fc17-02bd75b2f544"
      },
      "source": [
        "#aka\n",
        "the_list = [10,100,1000,10000]\n",
        "for index,exponent_10 in enumerate(the_list):\n",
        "  print(index,exponent_10)"
      ],
      "execution_count": null,
      "outputs": [
        {
          "output_type": "stream",
          "text": [
            "0 10\n",
            "1 100\n",
            "2 1000\n",
            "3 10000\n"
          ],
          "name": "stdout"
        }
      ]
    },
    {
      "cell_type": "markdown",
      "metadata": {
        "id": "2wF_x3o8u6_M",
        "colab_type": "text"
      },
      "source": [
        "## Explanation on range(),list(),zip(),enumerate()"
      ]
    },
    {
      "cell_type": "code",
      "metadata": {
        "id": "oK_VYoEAuMt2",
        "colab_type": "code",
        "colab": {
          "base_uri": "https://localhost:8080/",
          "height": 35
        },
        "outputId": "9e29cf12-1d6f-4a38-d461-81a675688190"
      },
      "source": [
        "range(4),list(range(4))"
      ],
      "execution_count": null,
      "outputs": [
        {
          "output_type": "execute_result",
          "data": {
            "text/plain": [
              "(range(0, 4), [0, 1, 2, 3])"
            ]
          },
          "metadata": {
            "tags": []
          },
          "execution_count": 20
        }
      ]
    },
    {
      "cell_type": "code",
      "metadata": {
        "id": "PeVfuqqquVL0",
        "colab_type": "code",
        "colab": {
          "base_uri": "https://localhost:8080/",
          "height": 35
        },
        "outputId": "6a726747-a4ed-40a3-ed11-9200d61ebafa"
      },
      "source": [
        "zip(range(4),the_list),zip(list(range(4)),the_list)"
      ],
      "execution_count": null,
      "outputs": [
        {
          "output_type": "execute_result",
          "data": {
            "text/plain": [
              "(<zip at 0x7f948cbbc4c8>, <zip at 0x7f948cb3f888>)"
            ]
          },
          "metadata": {
            "tags": []
          },
          "execution_count": 22
        }
      ]
    },
    {
      "cell_type": "code",
      "metadata": {
        "id": "2oMRlMRiucKA",
        "colab_type": "code",
        "colab": {
          "base_uri": "https://localhost:8080/",
          "height": 54
        },
        "outputId": "324d6bd6-80c1-444a-d53e-191ac387a8c7"
      },
      "source": [
        "list(zip(range(4),the_list)),list(zip(list(range(4)),the_list)) # you need to cast them into a type, I use type list here"
      ],
      "execution_count": null,
      "outputs": [
        {
          "output_type": "execute_result",
          "data": {
            "text/plain": [
              "([(0, 10), (1, 100), (2, 1000), (3, 10000)],\n",
              " [(0, 10), (1, 100), (2, 1000), (3, 10000)])"
            ]
          },
          "metadata": {
            "tags": []
          },
          "execution_count": 23
        }
      ]
    },
    {
      "cell_type": "code",
      "metadata": {
        "id": "i69oS5btuiNw",
        "colab_type": "code",
        "colab": {
          "base_uri": "https://localhost:8080/",
          "height": 35
        },
        "outputId": "c9e05bd6-4318-4be0-a555-a2043367dfd9"
      },
      "source": [
        "dict(zip(range(4),the_list)),dict(zip(list(range(4)),the_list)) # dict also works"
      ],
      "execution_count": null,
      "outputs": [
        {
          "output_type": "execute_result",
          "data": {
            "text/plain": [
              "({0: 10, 1: 100, 2: 1000, 3: 10000}, {0: 10, 1: 100, 2: 1000, 3: 10000})"
            ]
          },
          "metadata": {
            "tags": []
          },
          "execution_count": 24
        }
      ]
    },
    {
      "cell_type": "code",
      "metadata": {
        "id": "mO_JtwISunxG",
        "colab_type": "code",
        "colab": {
          "base_uri": "https://localhost:8080/",
          "height": 35
        },
        "outputId": "564e4f27-1e83-416a-accc-825a0288149c"
      },
      "source": [
        "enumerate(the_list) # == zip(range(4),the_list) or == zip(list(range(4)),the_list)"
      ],
      "execution_count": null,
      "outputs": [
        {
          "output_type": "execute_result",
          "data": {
            "text/plain": [
              "<enumerate at 0x7f948cc35cf0>"
            ]
          },
          "metadata": {
            "tags": []
          },
          "execution_count": 25
        }
      ]
    },
    {
      "cell_type": "code",
      "metadata": {
        "id": "R_FGBHOVuunN",
        "colab_type": "code",
        "colab": {
          "base_uri": "https://localhost:8080/",
          "height": 35
        },
        "outputId": "b68fe343-469b-410b-8178-6ef94b299586"
      },
      "source": [
        "list(enumerate(the_list)) # == list(zip(range(4),the_list)),list(zip(list(range(4)),the_list))"
      ],
      "execution_count": null,
      "outputs": [
        {
          "output_type": "execute_result",
          "data": {
            "text/plain": [
              "[(0, 10), (1, 100), (2, 1000), (3, 10000)]"
            ]
          },
          "metadata": {
            "tags": []
          },
          "execution_count": 27
        }
      ]
    },
    {
      "cell_type": "code",
      "metadata": {
        "id": "7BhZh81juzkF",
        "colab_type": "code",
        "colab": {
          "base_uri": "https://localhost:8080/",
          "height": 35
        },
        "outputId": "fe4a5207-aac3-4989-9349-faec12b48e7a"
      },
      "source": [
        "dict(enumerate(the_list)) # == dict(zip(range(4),the_list)),dict(zip(list(range(4)),the_list))"
      ],
      "execution_count": null,
      "outputs": [
        {
          "output_type": "execute_result",
          "data": {
            "text/plain": [
              "{0: 10, 1: 100, 2: 1000, 3: 10000}"
            ]
          },
          "metadata": {
            "tags": []
          },
          "execution_count": 29
        }
      ]
    },
    {
      "cell_type": "code",
      "metadata": {
        "id": "htDYVWhau1JR",
        "colab_type": "code",
        "colab": {}
      },
      "source": [
        ""
      ],
      "execution_count": null,
      "outputs": []
    },
    {
      "cell_type": "markdown",
      "metadata": {
        "id": "cxNAJvtBvGnC",
        "colab_type": "text"
      },
      "source": [
        "## Level 2 Generator"
      ]
    },
    {
      "cell_type": "code",
      "metadata": {
        "id": "Jib54J9uvHgr",
        "colab_type": "code",
        "colab": {}
      },
      "source": [
        "def exampleGenerator():\n",
        "    n = 1\n",
        "    print('First number {}'.format(n))\n",
        "   \n",
        "    yield n\n",
        "\n",
        "    n += 1 #2\n",
        "    print('Second number {}'.format(n))\n",
        "    yield n\n",
        "\n",
        "    n += 1 #3\n",
        "    print('Third number {}'.format(n))\n",
        "    yield n"
      ],
      "execution_count": null,
      "outputs": []
    },
    {
      "cell_type": "code",
      "metadata": {
        "id": "9sOges99vOE5",
        "colab_type": "code",
        "colab": {
          "base_uri": "https://localhost:8080/",
          "height": 35
        },
        "outputId": "d8e7b46c-c637-448c-cb83-dea2bb39dac4"
      },
      "source": [
        "exampleGenerator() # you need to cast it to any type that is correct"
      ],
      "execution_count": null,
      "outputs": [
        {
          "output_type": "execute_result",
          "data": {
            "text/plain": [
              "<generator object exampleGenerator at 0x7f948cba4db0>"
            ]
          },
          "metadata": {
            "tags": []
          },
          "execution_count": 35
        }
      ]
    },
    {
      "cell_type": "code",
      "metadata": {
        "id": "CsO-Nk_gvOqL",
        "colab_type": "code",
        "colab": {
          "base_uri": "https://localhost:8080/",
          "height": 90
        },
        "outputId": "99c3891d-1340-4d20-ad12-5897d137c520"
      },
      "source": [
        "new_tuple = tuple(exampleGenerator())\n",
        "print(\"Tuple result\",new_tuple)"
      ],
      "execution_count": null,
      "outputs": [
        {
          "output_type": "stream",
          "text": [
            "First number 1\n",
            "Second number 2\n",
            "Third number 3\n",
            "Tuple result (1, 2, 3)\n"
          ],
          "name": "stdout"
        }
      ]
    },
    {
      "cell_type": "code",
      "metadata": {
        "id": "zK6_jzQ9vlHi",
        "colab_type": "code",
        "colab": {
          "base_uri": "https://localhost:8080/",
          "height": 90
        },
        "outputId": "06687319-e8e9-4180-8dec-e2302db18663"
      },
      "source": [
        "new_list = list(exampleGenerator())\n",
        "print(\"List result\",new_list)"
      ],
      "execution_count": null,
      "outputs": [
        {
          "output_type": "stream",
          "text": [
            "First number 1\n",
            "Second number 2\n",
            "Third number 3\n",
            "List result [1, 2, 3]\n"
          ],
          "name": "stdout"
        }
      ]
    },
    {
      "cell_type": "code",
      "metadata": {
        "id": "Hs4DvGFfv-VN",
        "colab_type": "code",
        "colab": {
          "base_uri": "https://localhost:8080/",
          "height": 90
        },
        "outputId": "5c6d6260-1c37-46c7-e7d3-f33d3c4580ed"
      },
      "source": [
        "new_set = set(exampleGenerator())\n",
        "print(\"Set result\",new_set)"
      ],
      "execution_count": null,
      "outputs": [
        {
          "output_type": "stream",
          "text": [
            "First number 1\n",
            "Second number 2\n",
            "Third number 3\n",
            "Set result {1, 2, 3}\n"
          ],
          "name": "stdout"
        }
      ]
    },
    {
      "cell_type": "code",
      "metadata": {
        "id": "efdCg71EwBRM",
        "colab_type": "code",
        "colab": {
          "base_uri": "https://localhost:8080/",
          "height": 90
        },
        "outputId": "b04ade84-1cbe-43fe-86fd-eec4973d1364"
      },
      "source": [
        "new_dict = dict(enumerate(exampleGenerator())) ## if no enumerate , no index given. Can one list make a dict without key?\n",
        "print(\"Set Dict\",new_dict )"
      ],
      "execution_count": null,
      "outputs": [
        {
          "output_type": "stream",
          "text": [
            "First number 1\n",
            "Second number 2\n",
            "Third number 3\n",
            "Set Dict {0: 1, 1: 2, 2: 3}\n"
          ],
          "name": "stdout"
        }
      ]
    },
    {
      "cell_type": "code",
      "metadata": {
        "id": "uVK1Zuvywa2G",
        "colab_type": "code",
        "colab": {}
      },
      "source": [
        ""
      ],
      "execution_count": null,
      "outputs": []
    },
    {
      "cell_type": "markdown",
      "metadata": {
        "id": "gNXUKnKswbMm",
        "colab_type": "text"
      },
      "source": [
        "## Level 2.1 more on generator"
      ]
    },
    {
      "cell_type": "code",
      "metadata": {
        "id": "BSqOpjf8wDed",
        "colab_type": "code",
        "colab": {}
      },
      "source": [
        "def exampleGenerator():\n",
        "    for i in range(10):\n",
        "      return i #stop"
      ],
      "execution_count": null,
      "outputs": []
    },
    {
      "cell_type": "code",
      "metadata": {
        "id": "dP722jynwV8L",
        "colab_type": "code",
        "colab": {
          "base_uri": "https://localhost:8080/",
          "height": 35
        },
        "outputId": "e7379f28-db56-4aa2-d9c3-bf6d9a213952"
      },
      "source": [
        "exampleGenerator()"
      ],
      "execution_count": null,
      "outputs": [
        {
          "output_type": "execute_result",
          "data": {
            "text/plain": [
              "0"
            ]
          },
          "metadata": {
            "tags": []
          },
          "execution_count": 55
        }
      ]
    },
    {
      "cell_type": "code",
      "metadata": {
        "id": "CcFg6m22wXEu",
        "colab_type": "code",
        "colab": {}
      },
      "source": [
        ""
      ],
      "execution_count": null,
      "outputs": []
    },
    {
      "cell_type": "code",
      "metadata": {
        "id": "EfPxbGvFwfAM",
        "colab_type": "code",
        "colab": {}
      },
      "source": [
        "def exampleGenerator():\n",
        "    for i in range(10):\n",
        "      yield i "
      ],
      "execution_count": null,
      "outputs": []
    },
    {
      "cell_type": "code",
      "metadata": {
        "id": "sAI1QBstwgZ1",
        "colab_type": "code",
        "colab": {
          "base_uri": "https://localhost:8080/",
          "height": 35
        },
        "outputId": "d5b66eab-1162-4043-aa66-57de39be067f"
      },
      "source": [
        "exampleGenerator() ## need to cast"
      ],
      "execution_count": null,
      "outputs": [
        {
          "output_type": "execute_result",
          "data": {
            "text/plain": [
              "<generator object exampleGenerator at 0x7f948cb6f780>"
            ]
          },
          "metadata": {
            "tags": []
          },
          "execution_count": 57
        }
      ]
    },
    {
      "cell_type": "code",
      "metadata": {
        "id": "jLED-xbcwhBM",
        "colab_type": "code",
        "colab": {
          "base_uri": "https://localhost:8080/",
          "height": 35
        },
        "outputId": "7339838d-d3cf-4d53-ae8e-05880c9510e9"
      },
      "source": [
        "list(exampleGenerator()) #why it will not stop?"
      ],
      "execution_count": null,
      "outputs": [
        {
          "output_type": "execute_result",
          "data": {
            "text/plain": [
              "[0, 1, 2, 3, 4, 5, 6, 7, 8, 9]"
            ]
          },
          "metadata": {
            "tags": []
          },
          "execution_count": 58
        }
      ]
    },
    {
      "cell_type": "markdown",
      "metadata": {
        "id": "gkNWAGsqwtkt",
        "colab_type": "text"
      },
      "source": [
        "### mechanism on generator"
      ]
    },
    {
      "cell_type": "code",
      "metadata": {
        "id": "wJsbu_aNwjOM",
        "colab_type": "code",
        "colab": {}
      },
      "source": [
        "def exampleGenerator():\n",
        "    for i in range(3):\n",
        "      yield i "
      ],
      "execution_count": null,
      "outputs": []
    },
    {
      "cell_type": "code",
      "metadata": {
        "id": "qjrjxablwzbE",
        "colab_type": "code",
        "colab": {}
      },
      "source": [
        "gen = exampleGenerator() # we assign generator to gen variable"
      ],
      "execution_count": null,
      "outputs": []
    },
    {
      "cell_type": "code",
      "metadata": {
        "id": "O6hhcjxNw1kj",
        "colab_type": "code",
        "colab": {
          "base_uri": "https://localhost:8080/",
          "height": 35
        },
        "outputId": "f2dc06a9-89cc-49f0-ea4e-6cf9afde3aa4"
      },
      "source": [
        "next(gen) # next gets \"next number that is yielded by the generator\""
      ],
      "execution_count": null,
      "outputs": [
        {
          "output_type": "execute_result",
          "data": {
            "text/plain": [
              "0"
            ]
          },
          "metadata": {
            "tags": []
          },
          "execution_count": 66
        }
      ]
    },
    {
      "cell_type": "code",
      "metadata": {
        "id": "s36KpG4Uw6IP",
        "colab_type": "code",
        "colab": {
          "base_uri": "https://localhost:8080/",
          "height": 35
        },
        "outputId": "6a3938f9-ff62-40eb-b771-1642c56869d1"
      },
      "source": [
        "next(gen)"
      ],
      "execution_count": null,
      "outputs": [
        {
          "output_type": "execute_result",
          "data": {
            "text/plain": [
              "1"
            ]
          },
          "metadata": {
            "tags": []
          },
          "execution_count": 67
        }
      ]
    },
    {
      "cell_type": "code",
      "metadata": {
        "id": "vXfDIrZkxEow",
        "colab_type": "code",
        "colab": {
          "base_uri": "https://localhost:8080/",
          "height": 35
        },
        "outputId": "34d54411-ed55-4950-80ab-29a02eece723"
      },
      "source": [
        "next(gen)"
      ],
      "execution_count": null,
      "outputs": [
        {
          "output_type": "execute_result",
          "data": {
            "text/plain": [
              "2"
            ]
          },
          "metadata": {
            "tags": []
          },
          "execution_count": 68
        }
      ]
    },
    {
      "cell_type": "code",
      "metadata": {
        "id": "m7AqJpJPxFeu",
        "colab_type": "code",
        "colab": {
          "base_uri": "https://localhost:8080/",
          "height": 172
        },
        "outputId": "304556e5-d776-4b46-e6f9-1b7e2f41aa6e"
      },
      "source": [
        "next(gen) \n",
        "## since we only set range(3), there is no next number\n",
        "## it raise StopIteration  "
      ],
      "execution_count": null,
      "outputs": [
        {
          "output_type": "error",
          "ename": "StopIteration",
          "evalue": "ignored",
          "traceback": [
            "\u001b[0;31m---------------------------------------------------------------------------\u001b[0m",
            "\u001b[0;31mStopIteration\u001b[0m                             Traceback (most recent call last)",
            "\u001b[0;32m<ipython-input-69-6e72e47198db>\u001b[0m in \u001b[0;36m<module>\u001b[0;34m()\u001b[0m\n\u001b[0;32m----> 1\u001b[0;31m \u001b[0mnext\u001b[0m\u001b[0;34m(\u001b[0m\u001b[0mgen\u001b[0m\u001b[0;34m)\u001b[0m\u001b[0;34m\u001b[0m\u001b[0;34m\u001b[0m\u001b[0m\n\u001b[0m",
            "\u001b[0;31mStopIteration\u001b[0m: "
          ]
        }
      ]
    },
    {
      "cell_type": "code",
      "metadata": {
        "id": "kcon3KMQxIGF",
        "colab_type": "code",
        "colab": {
          "base_uri": "https://localhost:8080/",
          "height": 35
        },
        "outputId": "a0e8c657-89a2-468a-86b2-67da57455de6"
      },
      "source": [
        "# Hence, if we list()\n",
        "# All the avaliable numbers will become element inside the list\n",
        "# and stop generate until it hit the raise of StopIteration\n",
        "list(exampleGenerator())"
      ],
      "execution_count": null,
      "outputs": [
        {
          "output_type": "execute_result",
          "data": {
            "text/plain": [
              "[0, 1, 2]"
            ]
          },
          "metadata": {
            "tags": []
          },
          "execution_count": 72
        }
      ]
    },
    {
      "cell_type": "markdown",
      "metadata": {
        "id": "Knj1x9E6yiu3",
        "colab_type": "text"
      },
      "source": [
        "### Generator can only be used once"
      ]
    },
    {
      "cell_type": "code",
      "metadata": {
        "id": "3UlyH6ndxIlc",
        "colab_type": "code",
        "colab": {}
      },
      "source": [
        "the_list = [2,3,4,5]\n",
        "## iterator method\n",
        "iterator = [x**2 for x in the_list]\n",
        "## generator method\n",
        "generator = (x**2 for x in the_list)"
      ],
      "execution_count": null,
      "outputs": []
    },
    {
      "cell_type": "code",
      "metadata": {
        "id": "2PKPYuraxyAC",
        "colab_type": "code",
        "colab": {
          "base_uri": "https://localhost:8080/",
          "height": 72
        },
        "outputId": "09d95727-8cd3-4275-975d-0220d33a8ad1"
      },
      "source": [
        "print(iterator)\n",
        "print(generator) # this is not used\n",
        "print(list(generator)) # this is used, as we pass it into function "
      ],
      "execution_count": null,
      "outputs": [
        {
          "output_type": "stream",
          "text": [
            "[4, 9, 16, 25]\n",
            "<generator object <genexpr> at 0x7f948cba4780>\n",
            "[4, 9, 16, 25]\n"
          ],
          "name": "stdout"
        }
      ]
    },
    {
      "cell_type": "code",
      "metadata": {
        "id": "9TsA7OzDxy8-",
        "colab_type": "code",
        "colab": {
          "base_uri": "https://localhost:8080/",
          "height": 54
        },
        "outputId": "8c63c0bd-0d4b-4d64-bdb1-b6ec18cb4eb5"
      },
      "source": [
        "print(list(generator)) # used, so the generator do not have memory on  (x**2 for x in the_list), unless you redefine it\n",
        "iterator"
      ],
      "execution_count": null,
      "outputs": [
        {
          "output_type": "stream",
          "text": [
            "[]\n"
          ],
          "name": "stdout"
        },
        {
          "output_type": "execute_result",
          "data": {
            "text/plain": [
              "[4, 9, 16, 25]"
            ]
          },
          "metadata": {
            "tags": []
          },
          "execution_count": 98
        }
      ]
    },
    {
      "cell_type": "markdown",
      "metadata": {
        "id": "Zx4vKLANzlov",
        "colab_type": "text"
      },
      "source": [
        "### generator can pass into some functions, in general list-input can use generator\n"
      ]
    },
    {
      "cell_type": "code",
      "metadata": {
        "id": "8Wf5QsL2x1m5",
        "colab_type": "code",
        "colab": {
          "base_uri": "https://localhost:8080/",
          "height": 54
        },
        "outputId": "075ca08a-48de-45c5-8b18-6d2bb1545957"
      },
      "source": [
        "generator = (x**2 for x in the_list) # redefine\n",
        "# you may pass generator into some functions\n",
        "print(sum(generator))\n",
        "print(sum(iterator))"
      ],
      "execution_count": null,
      "outputs": [
        {
          "output_type": "stream",
          "text": [
            "54\n",
            "54\n"
          ],
          "name": "stdout"
        }
      ]
    },
    {
      "cell_type": "markdown",
      "metadata": {
        "id": "SynK-DDH3V5w",
        "colab_type": "text"
      },
      "source": [
        "## Conclusion"
      ]
    },
    {
      "cell_type": "code",
      "metadata": {
        "id": "LdL6uaeH3XUW",
        "colab_type": "code",
        "colab": {}
      },
      "source": [
        "def generate_even_number(number_of_yield):\n",
        "  n = 0\n",
        "  for i in range(number_of_yield):\n",
        "      yield n # return this number -> and continue to work as normal looping\n",
        "      n += 2 # do adding -> then go as normal looping"
      ],
      "execution_count": null,
      "outputs": []
    },
    {
      "cell_type": "code",
      "metadata": {
        "id": "V1X7pPqk3bQw",
        "colab_type": "code",
        "colab": {
          "base_uri": "https://localhost:8080/",
          "height": 108
        },
        "outputId": "b5f74ade-5e8a-4d0a-e7e7-e280c24a8662"
      },
      "source": [
        "for i in generate_even_number(5): #next(generate_even_number()) -> next(generate_even_number()) -> ... 5 times\n",
        "  print(i)"
      ],
      "execution_count": null,
      "outputs": [
        {
          "output_type": "stream",
          "text": [
            "0\n",
            "2\n",
            "4\n",
            "6\n",
            "8\n"
          ],
          "name": "stdout"
        }
      ]
    },
    {
      "cell_type": "markdown",
      "metadata": {
        "id": "CrbwkkXZxr82",
        "colab_type": "text"
      },
      "source": [
        "## Application on generator"
      ]
    },
    {
      "cell_type": "markdown",
      "metadata": {
        "id": "Mn-0ZiYK1Bum",
        "colab_type": "text"
      },
      "source": [
        "### Memory efficency"
      ]
    },
    {
      "cell_type": "code",
      "metadata": {
        "id": "TRud5gZlxtcZ",
        "colab_type": "code",
        "colab": {}
      },
      "source": [
        "## consider\n",
        "def example_list_function():\n",
        "  the_list = []\n",
        "  for i in range(10000000000):\n",
        "    the_list.append(i)\n",
        "  return the_list # it memories all (there are 1000000000000 numbers to be memorized!!) and then return\n"
      ],
      "execution_count": null,
      "outputs": []
    },
    {
      "cell_type": "code",
      "metadata": {
        "id": "DNz7I-Nl0mgT",
        "colab_type": "code",
        "colab": {}
      },
      "source": [
        "## consider\n",
        "def example_list_function():\n",
        "  for i in range(10000000000):\n",
        "    yield i # it gives one input at one time-instance # no memory is wasted as it doesn't remembers anythings."
      ],
      "execution_count": null,
      "outputs": []
    },
    {
      "cell_type": "markdown",
      "metadata": {
        "id": "9G3ezBl71MTi",
        "colab_type": "text"
      },
      "source": [
        "#### make sure you know why it is better"
      ]
    },
    {
      "cell_type": "markdown",
      "metadata": {
        "id": "iaxpDODo2Whh",
        "colab_type": "text"
      },
      "source": [
        "### Simulate input in this way"
      ]
    },
    {
      "cell_type": "code",
      "metadata": {
        "id": "LdG4vR8r1J0Z",
        "colab_type": "code",
        "colab": {}
      },
      "source": [
        "import random\n",
        "def random_number_generator():\n",
        "  while True:\n",
        "    yield random.random()*10"
      ],
      "execution_count": null,
      "outputs": []
    },
    {
      "cell_type": "code",
      "metadata": {
        "id": "qhuISWtY1eBS",
        "colab_type": "code",
        "colab": {
          "base_uri": "https://localhost:8080/",
          "height": 108
        },
        "outputId": "f9c2d2fb-1cd7-4c48-8ef9-4bd0491a0d04"
      },
      "source": [
        "random_generator = random_number_generator()\n",
        "for i in range(5):\n",
        "  next_number = next(random_generator)\n",
        "  print(next_number)"
      ],
      "execution_count": null,
      "outputs": [
        {
          "output_type": "stream",
          "text": [
            "8.874055845159884\n",
            "1.9104601912721675\n",
            "9.675756195010337\n",
            "7.6045273651129905\n",
            "5.3114381175452365\n"
          ],
          "name": "stdout"
        }
      ]
    },
    {
      "cell_type": "code",
      "metadata": {
        "id": "OWkFb_3V2eZa",
        "colab_type": "code",
        "colab": {}
      },
      "source": [
        "def random_number_generator(n):\n",
        "  the_random_list = []\n",
        "  for i in range(n):\n",
        "    random_num = random.random()*10\n",
        "    the_random_list.append(random_num)\n",
        "  return the_random_list # it will memorize size of n list # maybe not memory efficient enough"
      ],
      "execution_count": null,
      "outputs": []
    },
    {
      "cell_type": "markdown",
      "metadata": {
        "id": "NI488hlY7sC7",
        "colab_type": "text"
      },
      "source": [
        "### Since \"Iterator libaray\" is not forcely required ,please read the code yourself, very easy to understand.\n",
        "Link: https://docs.python.org/3/library/itertools.html"
      ]
    },
    {
      "cell_type": "markdown",
      "metadata": {
        "id": "vGoJehft2-UO",
        "colab_type": "text"
      },
      "source": [
        "### Congrats"
      ]
    }
  ]
}