{
  "nbformat": 4,
  "nbformat_minor": 0,
  "metadata": {
    "colab": {
      "name": "deep-reinforcement-withCartPole.ipynb",
      "provenance": [],
      "authorship_tag": "ABX9TyOE/i9XJCy4AHbxV3HmR8wb",
      "include_colab_link": true
    },
    "kernelspec": {
      "name": "python3",
      "display_name": "Python 3"
    }
  },
  "cells": [
    {
      "cell_type": "markdown",
      "metadata": {
        "id": "view-in-github",
        "colab_type": "text"
      },
      "source": [
        "<a href=\"https://colab.research.google.com/github/wesley34/comp3414_course_material/blob/master/ch_9_basic_reinforcement_learning/deep_reinforcement_withCartPole.ipynb\" target=\"_parent\"><img src=\"https://colab.research.google.com/assets/colab-badge.svg\" alt=\"Open In Colab\"/></a>"
      ]
    },
    {
      "cell_type": "code",
      "metadata": {
        "id": "RPJJSq6__rlY",
        "colab_type": "code",
        "colab": {
          "base_uri": "https://localhost:8080/",
          "height": 182
        },
        "outputId": "8695a616-3911-4793-839b-fa793a166d68"
      },
      "source": [
        "!pip install tensorboardX"
      ],
      "execution_count": null,
      "outputs": [
        {
          "output_type": "stream",
          "text": [
            "Collecting tensorboardX\n",
            "\u001b[?25l  Downloading https://files.pythonhosted.org/packages/af/0c/4f41bcd45db376e6fe5c619c01100e9b7531c55791b7244815bac6eac32c/tensorboardX-2.1-py2.py3-none-any.whl (308kB)\n",
            "\r\u001b[K     |█                               | 10kB 12.3MB/s eta 0:00:01\r\u001b[K     |██▏                             | 20kB 2.2MB/s eta 0:00:01\r\u001b[K     |███▏                            | 30kB 2.8MB/s eta 0:00:01\r\u001b[K     |████▎                           | 40kB 3.1MB/s eta 0:00:01\r\u001b[K     |█████▎                          | 51kB 2.5MB/s eta 0:00:01\r\u001b[K     |██████▍                         | 61kB 2.8MB/s eta 0:00:01\r\u001b[K     |███████▍                        | 71kB 3.1MB/s eta 0:00:01\r\u001b[K     |████████▌                       | 81kB 3.4MB/s eta 0:00:01\r\u001b[K     |█████████▌                      | 92kB 3.7MB/s eta 0:00:01\r\u001b[K     |██████████▋                     | 102kB 3.5MB/s eta 0:00:01\r\u001b[K     |███████████▊                    | 112kB 3.5MB/s eta 0:00:01\r\u001b[K     |████████████▊                   | 122kB 3.5MB/s eta 0:00:01\r\u001b[K     |█████████████▉                  | 133kB 3.5MB/s eta 0:00:01\r\u001b[K     |██████████████▉                 | 143kB 3.5MB/s eta 0:00:01\r\u001b[K     |████████████████                | 153kB 3.5MB/s eta 0:00:01\r\u001b[K     |█████████████████               | 163kB 3.5MB/s eta 0:00:01\r\u001b[K     |██████████████████              | 174kB 3.5MB/s eta 0:00:01\r\u001b[K     |███████████████████             | 184kB 3.5MB/s eta 0:00:01\r\u001b[K     |████████████████████▏           | 194kB 3.5MB/s eta 0:00:01\r\u001b[K     |█████████████████████▎          | 204kB 3.5MB/s eta 0:00:01\r\u001b[K     |██████████████████████▎         | 215kB 3.5MB/s eta 0:00:01\r\u001b[K     |███████████████████████▍        | 225kB 3.5MB/s eta 0:00:01\r\u001b[K     |████████████████████████▍       | 235kB 3.5MB/s eta 0:00:01\r\u001b[K     |█████████████████████████▌      | 245kB 3.5MB/s eta 0:00:01\r\u001b[K     |██████████████████████████▌     | 256kB 3.5MB/s eta 0:00:01\r\u001b[K     |███████████████████████████▋    | 266kB 3.5MB/s eta 0:00:01\r\u001b[K     |████████████████████████████▋   | 276kB 3.5MB/s eta 0:00:01\r\u001b[K     |█████████████████████████████▊  | 286kB 3.5MB/s eta 0:00:01\r\u001b[K     |██████████████████████████████▊ | 296kB 3.5MB/s eta 0:00:01\r\u001b[K     |███████████████████████████████▉| 307kB 3.5MB/s eta 0:00:01\r\u001b[K     |████████████████████████████████| 317kB 3.5MB/s \n",
            "\u001b[?25hRequirement already satisfied: numpy in /usr/local/lib/python3.6/dist-packages (from tensorboardX) (1.18.5)\n",
            "Requirement already satisfied: six in /usr/local/lib/python3.6/dist-packages (from tensorboardX) (1.15.0)\n",
            "Requirement already satisfied: protobuf>=3.8.0 in /usr/local/lib/python3.6/dist-packages (from tensorboardX) (3.12.4)\n",
            "Requirement already satisfied: setuptools in /usr/local/lib/python3.6/dist-packages (from protobuf>=3.8.0->tensorboardX) (49.6.0)\n",
            "Installing collected packages: tensorboardX\n",
            "Successfully installed tensorboardX-2.1\n"
          ],
          "name": "stdout"
        }
      ]
    },
    {
      "cell_type": "code",
      "metadata": {
        "id": "kgROVT-2-y0S",
        "colab_type": "code",
        "colab": {}
      },
      "source": [
        "import gym\n",
        "from collections import namedtuple\n",
        "import numpy as np\n",
        "from tensorboardX import SummaryWriter\n",
        "\n",
        "import torch\n",
        "import torch.nn as nn\n",
        "import torch.optim as optim"
      ],
      "execution_count": null,
      "outputs": []
    },
    {
      "cell_type": "code",
      "metadata": {
        "id": "1e12oaKp_mPC",
        "colab_type": "code",
        "colab": {}
      },
      "source": [
        "HIDDEN_SIZE = 128\n",
        "BATCH_SIZE = 16\n",
        "PERCENTILE = 70"
      ],
      "execution_count": null,
      "outputs": []
    },
    {
      "cell_type": "code",
      "metadata": {
        "id": "slCEUEEPAbBz",
        "colab_type": "code",
        "colab": {}
      },
      "source": [
        "class Net(nn.Module):\n",
        "  def __init__(self,observation_size,hidden_size,n_actions):\n",
        "    super(Net,self).__init__()\n",
        "    self.net = nn.Sequential(\n",
        "        nn.Linear(observation_size,hidden_size),\n",
        "        nn.ReLU(),\n",
        "        nn.Linear(hidden_size,n_actions)\n",
        "    )\n",
        "  def forward(self,x):\n",
        "    return self.net(x)\n"
      ],
      "execution_count": null,
      "outputs": []
    },
    {
      "cell_type": "code",
      "metadata": {
        "id": "VCyu-jZKA3or",
        "colab_type": "code",
        "colab": {}
      },
      "source": [
        "Episode = namedtuple(\"Episode\",field_names=[\"reward\",\"steps\"])\n",
        "EpisodeStep = namedtuple(\"EpisodeStep\",field_names=[\"observation\",\"action\"])"
      ],
      "execution_count": null,
      "outputs": []
    },
    {
      "cell_type": "code",
      "metadata": {
        "id": "ZPJGwQdDCcUW",
        "colab_type": "code",
        "colab": {}
      },
      "source": [
        "def iterate_batches(env,net,batch_size):\n",
        "  batch = []\n",
        "  episode_reward = 0.0\n",
        "  episode_steps = []\n",
        "  obs = env.reset()\n",
        "  sm = nn.Softmax(dim=1)\n",
        "\n",
        "  while True:\n",
        "    obs_v = torch.FloatTensor([obs])\n",
        "    act_probs_v = sm(net(obs_v))\n",
        "    act_probs = act_probs_v.data.numpy()[0]\n",
        "    action = np.random.choice(len(act_probs),p=act_probs)\n",
        "    next_obs, reward, is_done, _ = env.step(action)\n",
        "    episode_reward += reward\n",
        "    episode_steps.append(EpisodeStep(observation=obs,action=action))\n",
        "\n",
        "    if is_done:\n",
        "      batch.append(Episode(reward=episode_reward,steps=episode_steps))\n",
        "      episode_reward = 0\n",
        "      episode_steps = []\n",
        "      next_obs = env.reset()\n",
        "      if (len(batch) == batch_size):\n",
        "        yield batch\n",
        "        batch = []\n",
        "    obs = next_obs\n"
      ],
      "execution_count": null,
      "outputs": []
    },
    {
      "cell_type": "code",
      "metadata": {
        "id": "2CMIpWVNFMnP",
        "colab_type": "code",
        "colab": {}
      },
      "source": [
        "def filter_batch(batch,precentile):\n",
        "  rewards = list(map(lambda s:s.reward,batch))\n",
        "  reward_bound = np.percentile(rewards,PERCENTILE)\n",
        "  reward_mean = float(np.mean(rewards))\n",
        "\n",
        "  train_observation = []\n",
        "  train_action = []\n",
        "  for example in batch:\n",
        "    if example.reward < reward_bound:\n",
        "      continue\n",
        "    train_observation.extend(map(lambda step:step.observation,example.steps))\n",
        "    train_action.extend(map(lambda step:step.action,example.steps))\n",
        "  train_observation_vector = torch.FloatTensor(train_observation)\n",
        "  train_action_vector = torch.FloatTensor(train_action)\n",
        "  return train_observation_vector,train_action_vector,reward_bound,reward_mean\n"
      ],
      "execution_count": null,
      "outputs": []
    },
    {
      "cell_type": "code",
      "metadata": {
        "id": "2gjt_2ajH5z2",
        "colab_type": "code",
        "colab": {}
      },
      "source": [
        "env = gym.make(\"CartPole-v0\")\n",
        "obs_size = env.observation_space.shape[0]\n",
        "n_actions = env.action_space.n"
      ],
      "execution_count": null,
      "outputs": []
    },
    {
      "cell_type": "code",
      "metadata": {
        "id": "EUPcB5jtI1Lc",
        "colab_type": "code",
        "colab": {}
      },
      "source": [
        "net = Net(obs_size,HIDDEN_SIZE,n_actions)\n",
        "objective = nn.CrossEntropyLoss()\n",
        "optimizer = optim.Adam(params=net.parameters(),lr=0.01)\n",
        "writer = SummaryWriter(comment=\"-cartpole\")"
      ],
      "execution_count": null,
      "outputs": []
    },
    {
      "cell_type": "code",
      "metadata": {
        "id": "2MpbAVY3I7KZ",
        "colab_type": "code",
        "colab": {
          "base_uri": "https://localhost:8080/",
          "height": 880
        },
        "outputId": "68fedcb3-8926-4e3a-ce9d-60dd16e58d03"
      },
      "source": [
        "for iter_no,batch in enumerate(iterate_batches(env,net,BATCH_SIZE)):\n",
        "  observation_vector, action_vector, reward_bound, reward_mean = filter_batch(batch, PERCENTILE)\n",
        "  optimizer.zero_grad()\n",
        "  action_score_vector = net(observation_vector)\n",
        "  action_vector = action_vector.long()\n",
        "  loss_vector = objective(action_score_vector,action_vector)\n",
        "  loss_vector.backward()\n",
        "  optimizer.step()\n",
        "  print(\"%d, loss=%.3f, reward_mean=%.1f, reward_bound=%.1f\" %(iter_no,loss_vector.item(),reward_mean,reward_bound))\n",
        "  writer.add_scalar(\"loss\",loss_vector.item(),iter_no)\n",
        "  writer.add_scalar(\"reward_bound\",reward_bound,iter_no)\n",
        "  writer.add_scalar(\"reward_mean\",reward_mean,iter_no)\n",
        "  if reward_mean > 199:\n",
        "    print(\"Solved\")\n",
        "    break\n",
        "  writer.close()"
      ],
      "execution_count": null,
      "outputs": [
        {
          "output_type": "stream",
          "text": [
            "0, loss=0.692, reward_mean=26.7, reward_bound=31.5\n",
            "1, loss=0.703, reward_mean=19.1, reward_bound=18.0\n",
            "2, loss=0.678, reward_mean=26.9, reward_bound=32.5\n",
            "3, loss=0.676, reward_mean=30.6, reward_bound=24.5\n",
            "4, loss=0.667, reward_mean=33.2, reward_bound=34.0\n",
            "5, loss=0.654, reward_mean=31.4, reward_bound=40.0\n",
            "6, loss=0.652, reward_mean=44.3, reward_bound=43.5\n",
            "7, loss=0.648, reward_mean=49.3, reward_bound=57.5\n",
            "8, loss=0.623, reward_mean=48.9, reward_bound=58.0\n",
            "9, loss=0.620, reward_mean=51.0, reward_bound=49.5\n",
            "10, loss=0.617, reward_mean=73.2, reward_bound=73.5\n",
            "11, loss=0.623, reward_mean=65.6, reward_bound=82.0\n",
            "12, loss=0.620, reward_mean=58.0, reward_bound=65.0\n",
            "13, loss=0.596, reward_mean=69.6, reward_bound=84.0\n",
            "14, loss=0.602, reward_mean=79.2, reward_bound=102.0\n",
            "15, loss=0.593, reward_mean=66.0, reward_bound=79.0\n",
            "16, loss=0.586, reward_mean=71.6, reward_bound=78.5\n",
            "17, loss=0.584, reward_mean=72.9, reward_bound=79.5\n",
            "18, loss=0.565, reward_mean=68.6, reward_bound=72.5\n",
            "19, loss=0.581, reward_mean=102.5, reward_bound=116.5\n",
            "20, loss=0.582, reward_mean=102.8, reward_bound=110.5\n",
            "21, loss=0.578, reward_mean=122.5, reward_bound=155.0\n",
            "22, loss=0.579, reward_mean=150.2, reward_bound=166.5\n",
            "23, loss=0.565, reward_mean=149.3, reward_bound=180.0\n",
            "24, loss=0.560, reward_mean=151.9, reward_bound=178.0\n",
            "25, loss=0.563, reward_mean=163.1, reward_bound=200.0\n",
            "26, loss=0.546, reward_mean=151.7, reward_bound=174.0\n",
            "27, loss=0.567, reward_mean=147.8, reward_bound=160.0\n",
            "28, loss=0.554, reward_mean=150.9, reward_bound=196.5\n",
            "29, loss=0.542, reward_mean=163.8, reward_bound=195.0\n",
            "30, loss=0.554, reward_mean=144.0, reward_bound=158.0\n",
            "31, loss=0.537, reward_mean=165.4, reward_bound=200.0\n",
            "32, loss=0.539, reward_mean=155.4, reward_bound=200.0\n",
            "33, loss=0.547, reward_mean=182.3, reward_bound=200.0\n",
            "34, loss=0.538, reward_mean=194.7, reward_bound=200.0\n",
            "35, loss=0.535, reward_mean=188.9, reward_bound=200.0\n",
            "36, loss=0.534, reward_mean=185.8, reward_bound=200.0\n",
            "37, loss=0.537, reward_mean=193.3, reward_bound=200.0\n",
            "38, loss=0.535, reward_mean=191.1, reward_bound=200.0\n",
            "39, loss=0.533, reward_mean=173.0, reward_bound=200.0\n",
            "40, loss=0.532, reward_mean=184.9, reward_bound=200.0\n",
            "41, loss=0.542, reward_mean=184.4, reward_bound=200.0\n",
            "42, loss=0.534, reward_mean=188.8, reward_bound=200.0\n",
            "43, loss=0.536, reward_mean=194.5, reward_bound=200.0\n",
            "44, loss=0.539, reward_mean=198.4, reward_bound=200.0\n",
            "45, loss=0.535, reward_mean=199.6, reward_bound=200.0\n",
            "Solved\n"
          ],
          "name": "stdout"
        }
      ]
    },
    {
      "cell_type": "code",
      "metadata": {
        "id": "4J_X-MjLLkke",
        "colab_type": "code",
        "colab": {
          "base_uri": "https://localhost:8080/",
          "height": 35
        },
        "outputId": "4119df2b-22a3-4f6a-ba41-2d2fce078afc"
      },
      "source": [
        "action_vector.shape"
      ],
      "execution_count": null,
      "outputs": [
        {
          "output_type": "execute_result",
          "data": {
            "text/plain": [
              "torch.Size([3000])"
            ]
          },
          "metadata": {
            "tags": []
          },
          "execution_count": 11
        }
      ]
    },
    {
      "cell_type": "code",
      "metadata": {
        "id": "Zvt53bkjNbLc",
        "colab_type": "code",
        "colab": {
          "base_uri": "https://localhost:8080/",
          "height": 35
        },
        "outputId": "0db2e5ee-1257-4b25-ad3e-8950d1793ba8"
      },
      "source": [
        "action_score_vector.shape"
      ],
      "execution_count": null,
      "outputs": [
        {
          "output_type": "execute_result",
          "data": {
            "text/plain": [
              "torch.Size([3000, 2])"
            ]
          },
          "metadata": {
            "tags": []
          },
          "execution_count": 12
        }
      ]
    },
    {
      "cell_type": "code",
      "metadata": {
        "id": "wnntnZ16NmV4",
        "colab_type": "code",
        "colab": {
          "base_uri": "https://localhost:8080/",
          "height": 35
        },
        "outputId": "88134eda-d08d-4fe3-d7ea-a733756ed7c1"
      },
      "source": [
        "n_actions"
      ],
      "execution_count": null,
      "outputs": [
        {
          "output_type": "execute_result",
          "data": {
            "text/plain": [
              "2"
            ]
          },
          "metadata": {
            "tags": []
          },
          "execution_count": 13
        }
      ]
    },
    {
      "cell_type": "code",
      "metadata": {
        "id": "Zlo6L8aIN5ma",
        "colab_type": "code",
        "colab": {
          "base_uri": "https://localhost:8080/",
          "height": 1000
        },
        "outputId": "ae8c3b8c-eb70-4103-91b0-0f6b99e36f08"
      },
      "source": [
        "%%bash\n",
        "\n",
        "# install required system dependencies\n",
        "apt-get install -y xvfb x11-utils\n",
        "\n",
        "# install required python dependencies (might need to install additional gym extras depending)\n",
        "pip install gym[box2d]==0.17.* pyvirtualdisplay==0.2.* PyOpenGL==3.1.* PyOpenGL-accelerate==3.1.*"
      ],
      "execution_count": null,
      "outputs": [
        {
          "output_type": "stream",
          "text": [
            "Reading package lists...\n",
            "Building dependency tree...\n",
            "Reading state information...\n",
            "The following package was automatically installed and is no longer required:\n",
            "  libnvidia-common-440\n",
            "Use 'apt autoremove' to remove it.\n",
            "The following additional packages will be installed:\n",
            "  libxxf86dga1\n",
            "Suggested packages:\n",
            "  mesa-utils\n",
            "The following NEW packages will be installed:\n",
            "  libxxf86dga1 x11-utils xvfb\n",
            "0 upgraded, 3 newly installed, 0 to remove and 39 not upgraded.\n",
            "Need to get 993 kB of archives.\n",
            "After this operation, 2,977 kB of additional disk space will be used.\n",
            "Get:1 http://archive.ubuntu.com/ubuntu bionic/main amd64 libxxf86dga1 amd64 2:1.1.4-1 [13.7 kB]\n",
            "Get:2 http://archive.ubuntu.com/ubuntu bionic/main amd64 x11-utils amd64 7.7+3build1 [196 kB]\n",
            "Get:3 http://archive.ubuntu.com/ubuntu bionic-updates/universe amd64 xvfb amd64 2:1.19.6-1ubuntu4.4 [784 kB]\n",
            "Fetched 993 kB in 1s (1,101 kB/s)\n",
            "Selecting previously unselected package libxxf86dga1:amd64.\r\n",
            "(Reading database ... \r(Reading database ... 5%\r(Reading database ... 10%\r(Reading database ... 15%\r(Reading database ... 20%\r(Reading database ... 25%\r(Reading database ... 30%\r(Reading database ... 35%\r(Reading database ... 40%\r(Reading database ... 45%\r(Reading database ... 50%\r(Reading database ... 55%\r(Reading database ... 60%\r(Reading database ... 65%\r(Reading database ... 70%\r(Reading database ... 75%\r(Reading database ... 80%\r(Reading database ... 85%\r(Reading database ... 90%\r(Reading database ... 95%\r(Reading database ... 100%\r(Reading database ... 144579 files and directories currently installed.)\r\n",
            "Preparing to unpack .../libxxf86dga1_2%3a1.1.4-1_amd64.deb ...\r\n",
            "Unpacking libxxf86dga1:amd64 (2:1.1.4-1) ...\r\n",
            "Selecting previously unselected package x11-utils.\r\n",
            "Preparing to unpack .../x11-utils_7.7+3build1_amd64.deb ...\r\n",
            "Unpacking x11-utils (7.7+3build1) ...\r\n",
            "Selecting previously unselected package xvfb.\r\n",
            "Preparing to unpack .../xvfb_2%3a1.19.6-1ubuntu4.4_amd64.deb ...\r\n",
            "Unpacking xvfb (2:1.19.6-1ubuntu4.4) ...\r\n",
            "Setting up xvfb (2:1.19.6-1ubuntu4.4) ...\r\n",
            "Setting up libxxf86dga1:amd64 (2:1.1.4-1) ...\r\n",
            "Setting up x11-utils (7.7+3build1) ...\r\n",
            "Processing triggers for man-db (2.8.3-2ubuntu0.1) ...\r\n",
            "Processing triggers for libc-bin (2.27-3ubuntu1) ...\r\n",
            "/sbin/ldconfig.real: /usr/local/lib/python3.6/dist-packages/ideep4py/lib/libmkldnn.so.0 is not a symbolic link\r\n",
            "\r\n",
            "Requirement already satisfied: gym[box2d]==0.17.* in /usr/local/lib/python3.6/dist-packages (0.17.2)\n",
            "Collecting pyvirtualdisplay==0.2.*\n",
            "  Downloading https://files.pythonhosted.org/packages/69/ec/8221a07850d69fa3c57c02e526edd23d18c7c05d58ed103e3b19172757c1/PyVirtualDisplay-0.2.5-py2.py3-none-any.whl\n",
            "Requirement already satisfied: PyOpenGL==3.1.* in /usr/local/lib/python3.6/dist-packages (3.1.5)\n",
            "Collecting PyOpenGL-accelerate==3.1.*\n",
            "  Downloading https://files.pythonhosted.org/packages/a2/3c/f42a62b7784c04b20f8b88d6c8ad04f4f20b0767b721102418aad94d8389/PyOpenGL-accelerate-3.1.5.tar.gz (538kB)\n",
            "Requirement already satisfied: scipy in /usr/local/lib/python3.6/dist-packages (from gym[box2d]==0.17.*) (1.4.1)\n",
            "Requirement already satisfied: numpy>=1.10.4 in /usr/local/lib/python3.6/dist-packages (from gym[box2d]==0.17.*) (1.18.5)\n",
            "Requirement already satisfied: cloudpickle<1.4.0,>=1.2.0 in /usr/local/lib/python3.6/dist-packages (from gym[box2d]==0.17.*) (1.3.0)\n",
            "Requirement already satisfied: pyglet<=1.5.0,>=1.4.0 in /usr/local/lib/python3.6/dist-packages (from gym[box2d]==0.17.*) (1.5.0)\n",
            "Collecting box2d-py~=2.3.5; extra == \"box2d\"\n",
            "  Downloading https://files.pythonhosted.org/packages/06/bd/6cdc3fd994b0649dcf5d9bad85bd9e26172308bbe9a421bfc6fdbf5081a6/box2d_py-2.3.8-cp36-cp36m-manylinux1_x86_64.whl (448kB)\n",
            "Collecting EasyProcess\n",
            "  Downloading https://files.pythonhosted.org/packages/48/3c/75573613641c90c6d094059ac28adb748560d99bd27ee6f80cce398f404e/EasyProcess-0.3-py2.py3-none-any.whl\n",
            "Requirement already satisfied: future in /usr/local/lib/python3.6/dist-packages (from pyglet<=1.5.0,>=1.4.0->gym[box2d]==0.17.*) (0.16.0)\n",
            "Building wheels for collected packages: PyOpenGL-accelerate\n",
            "  Building wheel for PyOpenGL-accelerate (setup.py): started\n",
            "  Building wheel for PyOpenGL-accelerate (setup.py): finished with status 'done'\n",
            "  Created wheel for PyOpenGL-accelerate: filename=PyOpenGL_accelerate-3.1.5-cp36-cp36m-linux_x86_64.whl size=1593669 sha256=e26b691aabe1e97303eda4d35077e2ceb2c6d1fa6e1ae35c16ca74fd1f398d1d\n",
            "  Stored in directory: /root/.cache/pip/wheels/bd/21/77/99670ceca25fddb3c2b60a7ae44644b8253d1006e8ec417bcc\n",
            "Successfully built PyOpenGL-accelerate\n",
            "Installing collected packages: EasyProcess, pyvirtualdisplay, PyOpenGL-accelerate, box2d-py\n",
            "Successfully installed EasyProcess-0.3 PyOpenGL-accelerate-3.1.5 box2d-py-2.3.8 pyvirtualdisplay-0.2.5\n"
          ],
          "name": "stdout"
        }
      ]
    },
    {
      "cell_type": "code",
      "metadata": {
        "id": "qhJ1Nfv0N6ES",
        "colab_type": "code",
        "colab": {}
      },
      "source": [
        "import pyvirtualdisplay\n",
        "\n",
        "\n",
        "_display = pyvirtualdisplay.Display(visible=False,  # use False with Xvfb\n",
        "                                    size=(1400, 900))\n",
        "_ = _display.start()"
      ],
      "execution_count": null,
      "outputs": []
    },
    {
      "cell_type": "code",
      "metadata": {
        "id": "6r31qXDwOH4n",
        "colab_type": "code",
        "colab": {}
      },
      "source": [
        "import matplotlib.pyplot as plt\n",
        "from IPython import display as ipythondisplay"
      ],
      "execution_count": null,
      "outputs": []
    },
    {
      "cell_type": "code",
      "metadata": {
        "id": "vTgKFzAAOFRl",
        "colab_type": "code",
        "colab": {
          "base_uri": "https://localhost:8080/",
          "height": 269
        },
        "outputId": "5c43c32a-a0ef-42de-ef8d-fcee13620e98"
      },
      "source": [
        "## config \n",
        "env = gym.make(\"CartPole-v0\")\n",
        "sm = nn.Softmax(dim=1)\n",
        "observation = env.reset()\n",
        "observation = torch.FloatTensor([observation])\n",
        "\n",
        "prev_screen = env.render(mode='rgb_array')\n",
        "plt.imshow(prev_screen)\n",
        "\n",
        "for i in range(2500):\n",
        "\n",
        "  action = env.action_space.sample()\n",
        "  network_output = net(observation)\n",
        "  pred_step_probability = sm(network_output).data.numpy()[0]\n",
        "  pred_step = np.random.choice(len(pred_step_probability),p=pred_step_probability)\n",
        "  obs, reward, done, info = env.step(pred_step)\n",
        "  screen = env.render(mode='rgb_array')\n",
        "\n",
        "  plt.imshow(screen)\n",
        "  ipythondisplay.clear_output(wait=True)\n",
        "  ipythondisplay.display(plt.gcf())\n",
        "\n",
        "  if done:\n",
        "    print(\"END\")\n",
        "    break\n",
        "\n",
        "ipythondisplay.clear_output(wait=True)\n",
        "env.close()"
      ],
      "execution_count": null,
      "outputs": [
        {
          "output_type": "display_data",
          "data": {
            "image/png": "[encoded data removed]",
            "text/plain": [
              "<Figure size 432x288 with 1 Axes>"
            ]
          },
          "metadata": {
            "tags": [],
            "needs_background": "light"
          }
        }
      ]
    },
    {
      "cell_type": "code",
      "metadata": {
        "id": "CnVzGEO5RddD",
        "colab_type": "code",
        "colab": {}
      },
      "source": [
        ""
      ],
      "execution_count": null,
      "outputs": []
    }
  ]
}