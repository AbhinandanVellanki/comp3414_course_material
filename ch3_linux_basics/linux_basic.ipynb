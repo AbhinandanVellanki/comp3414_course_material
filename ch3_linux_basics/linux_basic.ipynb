{
  "nbformat": 4,
  "nbformat_minor": 0,
  "metadata": {
    "colab": {
      "name": "linux_basic.ipynb",
      "provenance": [],
      "collapsed_sections": []
    },
    "kernelspec": {
      "name": "python3",
      "display_name": "Python 3"
    }
  },
  "cells": [
    {
      "cell_type": "markdown",
      "metadata": {
        "id": "p4CmFXlPgrEp",
        "colab_type": "text"
      },
      "source": [
        "[![Open In Colab](https://colab.research.google.com/assets/colab-badge.svg)](https://colab.research.google.com/drive/1gYcGd_3lx8kcV2pzZuz0yRK-_QxxwtDm#scrollTo=m4KgjYYWggj_)"
      ]
    },
    {
      "cell_type": "markdown",
      "metadata": {
        "id": "h3lfqaVAvNUc",
        "colab_type": "text"
      },
      "source": [
        "# **Linux Fundamentals**\n",
        "\n",
        "In this competition, we need to work in the linux environment. This chapter aims in teaching you some basic commands in the terminal\n",
        "\n",
        "# **Prerequisite**\n",
        "\n",
        "*   Installation of Ubuntu 18.04.0 http://releases.ubuntu.com/18.04/\n",
        "\n",
        "You may either using a virtual machine or dual boot. If you choose to use a virtaul machine, you have to handle some networking problem later. So, we recommend using dual boot to run the linux environment in your computer.\n",
        "\n",
        "Following links may help you:\n",
        "\n",
        "Dual Boot Windows and Ubutnu: https://www.youtube.com/watch?v=u5QyjHIYwTQ\n",
        "\n",
        "Virtual Machine: https://www.vmware.com/products/workstation-player/workstation-player-evaluation.html\n",
        "\n",
        "**Let's Begin!**\n",
        "\n",
        "\n"
      ]
    },
    {
      "cell_type": "markdown",
      "metadata": {
        "id": "4CswXg4gniSj",
        "colab_type": "text"
      },
      "source": [
        "\n",
        "\n",
        "1.   Create a directory (e.g. Project1) in the working directory\n"
      ]
    },
    {
      "cell_type": "code",
      "metadata": {
        "id": "af1g4YiPvJSc",
        "colab_type": "code",
        "colab": {}
      },
      "source": [
        "%mkdir Project3/"
      ],
      "execution_count": null,
      "outputs": []
    },
    {
      "cell_type": "markdown",
      "metadata": {
        "id": "28yxw2zBoI0B",
        "colab_type": "text"
      },
      "source": [
        "\n",
        "\n",
        "2.   List the contents of the working directory\n",
        "\n"
      ]
    },
    {
      "cell_type": "code",
      "metadata": {
        "id": "WIR7IS1AoEAr",
        "colab_type": "code",
        "colab": {
          "base_uri": "https://localhost:8080/",
          "height": 34
        },
        "outputId": "7fe0c46f-53b0-42d5-b35f-6654f30aaaa1"
      },
      "source": [
        "%ls"
      ],
      "execution_count": null,
      "outputs": [
        {
          "output_type": "stream",
          "text": [
            "\u001b[0m\u001b[01;34mProject1\u001b[0m/  \u001b[01;34mProject2\u001b[0m/  \u001b[01;34mProject3\u001b[0m/  \u001b[01;34msample_data\u001b[0m/  \u001b[01;34mtemp\u001b[0m/\n"
          ],
          "name": "stdout"
        }
      ]
    },
    {
      "cell_type": "markdown",
      "metadata": {
        "id": "B2tpvW9V1YyQ",
        "colab_type": "text"
      },
      "source": [
        "\n",
        "\n",
        "3.   Change and print the working directory\n",
        "\n"
      ]
    },
    {
      "cell_type": "code",
      "metadata": {
        "id": "ycUuDMID0s9h",
        "colab_type": "code",
        "colab": {
          "base_uri": "https://localhost:8080/",
          "height": 52
        },
        "outputId": "9bf0df38-fabb-4733-e885-02acbd7bddda"
      },
      "source": [
        "#change directory\n",
        "%cd Project3/\n",
        "#print working directory\n",
        "%pwd        "
      ],
      "execution_count": null,
      "outputs": [
        {
          "output_type": "stream",
          "text": [
            "/content/Project3\n"
          ],
          "name": "stdout"
        },
        {
          "output_type": "execute_result",
          "data": {
            "application/vnd.google.colaboratory.intrinsic+json": {
              "type": "string"
            },
            "text/plain": [
              "'/content/Project3'"
            ]
          },
          "metadata": {
            "tags": []
          },
          "execution_count": 3
        }
      ]
    },
    {
      "cell_type": "markdown",
      "metadata": {
        "id": "WRfjS9F8zy70",
        "colab_type": "text"
      },
      "source": [
        "\n",
        "\n",
        "4.  Print some content\n"
      ]
    },
    {
      "cell_type": "code",
      "metadata": {
        "id": "w99lw-vWz9zM",
        "colab_type": "code",
        "colab": {
          "base_uri": "https://localhost:8080/",
          "height": 34
        },
        "outputId": "6c3e9224-b659-43c6-9a4a-fa38bae96a99"
      },
      "source": [
        "message = \"hello from Python\"\n",
        "!echo {message}"
      ],
      "execution_count": null,
      "outputs": [
        {
          "output_type": "stream",
          "text": [
            "hello from Python\n"
          ],
          "name": "stdout"
        }
      ]
    },
    {
      "cell_type": "markdown",
      "metadata": {
        "id": "1HMmMkH9mQEa",
        "colab_type": "text"
      },
      "source": [
        "5. Creating a file (Testing1.txt) in a directory"
      ]
    },
    {
      "cell_type": "code",
      "metadata": {
        "id": "ad5w30UljJiL",
        "colab_type": "code",
        "colab": {
          "base_uri": "https://localhost:8080/",
          "height": 52
        },
        "outputId": "4d646d1e-f3a3-4c52-a990-2149667e761a"
      },
      "source": [
        "!echo \"This is a sample text\" > Testing1.txt\n",
        "%ls\n",
        "%pwd"
      ],
      "execution_count": null,
      "outputs": [
        {
          "output_type": "stream",
          "text": [
            "Testing1.txt\n"
          ],
          "name": "stdout"
        },
        {
          "output_type": "execute_result",
          "data": {
            "application/vnd.google.colaboratory.intrinsic+json": {
              "type": "string"
            },
            "text/plain": [
              "'/content/Project3'"
            ]
          },
          "metadata": {
            "tags": []
          },
          "execution_count": 5
        }
      ]
    },
    {
      "cell_type": "markdown",
      "metadata": {
        "id": "g83fYu4A9qjy",
        "colab_type": "text"
      },
      "source": [
        "\n",
        "\n",
        "6.   Copy a file(Testing1.txt) to a directory (temp)\n",
        "\n"
      ]
    },
    {
      "cell_type": "code",
      "metadata": {
        "id": "z806EfUFv4jy",
        "colab_type": "code",
        "colab": {
          "base_uri": "https://localhost:8080/",
          "height": 51
        },
        "outputId": "29ed5b00-cb49-4343-ced5-0c0a5725719e"
      },
      "source": [
        "%mkdir temp\n",
        "#Copy file into a the \"temp\" folder\n",
        "%cp Testing1.txt temp/\n",
        "%cd temp/\n",
        "!echo \"This is a sample text\" > Testing2.txt\n",
        "%ls"
      ],
      "execution_count": null,
      "outputs": [
        {
          "output_type": "stream",
          "text": [
            "/content/Project3/temp\n",
            "Testing1.txt  Testing2.txt\n"
          ],
          "name": "stdout"
        }
      ]
    },
    {
      "cell_type": "markdown",
      "metadata": {
        "id": "T7HiWkM5_BGh",
        "colab_type": "text"
      },
      "source": [
        "\n",
        "7.   Remove File\n",
        "\n"
      ]
    },
    {
      "cell_type": "code",
      "metadata": {
        "id": "PuQ5KZ1791sy",
        "colab_type": "code",
        "colab": {
          "base_uri": "https://localhost:8080/",
          "height": 34
        },
        "outputId": "e610cecc-5f11-44bb-f294-481c342e07e3"
      },
      "source": [
        "#delete file in the directory \"temp\"\n",
        "%rm Testing1.txt\n",
        "%ls\n"
      ],
      "execution_count": null,
      "outputs": [
        {
          "output_type": "stream",
          "text": [
            "Testing2.txt\n"
          ],
          "name": "stdout"
        }
      ]
    },
    {
      "cell_type": "markdown",
      "metadata": {
        "id": "WyaGvYox-1BE",
        "colab_type": "text"
      },
      "source": [
        "\n",
        "\n",
        "8.   Remove Directory\n",
        "\n"
      ]
    },
    {
      "cell_type": "code",
      "metadata": {
        "id": "sn_c6UZxHWI3",
        "colab_type": "code",
        "colab": {
          "base_uri": "https://localhost:8080/",
          "height": 51
        },
        "outputId": "7a34ff87-bfbd-420c-e335-c22e59c9c16b"
      },
      "source": [
        "%cd ..\n",
        "%rm -r temp/\n",
        "%ls"
      ],
      "execution_count": null,
      "outputs": [
        {
          "output_type": "stream",
          "text": [
            "/content/Project3\n",
            "Testing1.txt\n"
          ],
          "name": "stdout"
        }
      ]
    },
    {
      "cell_type": "markdown",
      "metadata": {
        "id": "0trUrmEZ3AZ7",
        "colab_type": "text"
      },
      "source": [
        "**These are some basic operations that can help you manage your works in the termianl.**\n",
        "\n",
        "Since linux is not the main focus in the competition, we will not dig into the details of linux. \n",
        "\n",
        "There are lots of commands and usage in the terminal can be found in the internet. Feel free to do more research on it if you are interested.\n",
        "https://linux-documentation.com/"
      ]
    }
  ]
}